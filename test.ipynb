{
 "cells": [
  {
   "cell_type": "code",
   "execution_count": 1,
   "id": "initial_id",
   "metadata": {
    "collapsed": true,
    "ExecuteTime": {
     "end_time": "2023-11-04T08:45:55.886008700Z",
     "start_time": "2023-11-04T08:45:33.572862100Z"
    }
   },
   "outputs": [
    {
     "name": "stdout",
     "output_type": "stream",
     "text": [
      "[DYNEX] TEST: dimod BQM construction...\n",
      "[DYNEX] PASSED\n",
      "[DYNEX] TEST: Dynex Sampler object...\n",
      "[DYNEX] PASSED\n",
      "[DYNEX] TEST: uploading computing file...\n"
     ]
    },
    {
     "data": {
      "text/plain": "file upload progress:   0%|          | 0.00/65.0 [00:00<?, ?B/s]",
      "application/vnd.jupyter.widget-view+json": {
       "version_major": 2,
       "version_minor": 0,
       "model_id": "25768fa049d1470f8c04c6535fc468d0"
      }
     },
     "metadata": {},
     "output_type": "display_data"
    },
    {
     "name": "stdout",
     "output_type": "stream",
     "text": [
      "[DYNEX] PASSED\n",
      "[DYNEX] TEST: submitting sample file...\n"
     ]
    },
    {
     "data": {
      "text/plain": "file upload progress:   0%|          | 0.00/65.0 [00:00<?, ?B/s]",
      "application/vnd.jupyter.widget-view+json": {
       "version_major": 2,
       "version_minor": 0,
       "model_id": "29d69822bb804f4c8c9eebfcbf52f5bf"
      }
     },
     "metadata": {},
     "output_type": "display_data"
    },
    {
     "name": "stdout",
     "output_type": "stream",
     "text": [
      "[DYNEX] PASSED\n",
      "[DYNEX] TEST: retrieving samples...\n",
      "[DYNEX] PASSED\n",
      "[DYNEX] TEST: worker access to computing files\n",
      "[DYNEX] PASSED\n",
      "[DYNEX] TEST RESULT: ALL TESTS PASSED\n"
     ]
    }
   ],
   "source": [
    "import dynex\n",
    "dynex.test()"
   ]
  },
  {
   "cell_type": "code",
   "execution_count": 2,
   "outputs": [
    {
     "name": "stdout",
     "output_type": "stream",
     "text": [
      "ACCOUNT: njyqnacl@vip.qq.com\n",
      "API SUCCESSFULLY CONNECTED TO DYNEX\n",
      "-----------------------------------\n",
      "ACCOUNT LIMITS:\n",
      "MAXIMUM NUM_READS: 100,000\n",
      "MAXIMUM ANNEALING_TIME: 10,000\n",
      "MAXIMUM JOB DURATION: 60 MINUTES\n",
      "\n",
      "USAGE:\n",
      "TOTAL USAGE: 246,048,000 / 1,000,000,000 ( 24.604799999999997 %) NUM_READS x ANNEALING_TIME\n"
     ]
    }
   ],
   "source": [
    "import dynex\n",
    "dynex.account_status()"
   ],
   "metadata": {
    "collapsed": false,
    "ExecuteTime": {
     "end_time": "2023-11-04T19:35:34.213600400Z",
     "start_time": "2023-11-04T19:35:33.342423700Z"
    }
   },
   "id": "f1098e2193f5df9a"
  },
  {
   "cell_type": "code",
   "execution_count": null,
   "outputs": [],
   "source": [],
   "metadata": {
    "collapsed": false
   },
   "id": "2248c5e4d3707dc0"
  }
 ],
 "metadata": {
  "kernelspec": {
   "display_name": "Python 3",
   "language": "python",
   "name": "python3"
  },
  "language_info": {
   "codemirror_mode": {
    "name": "ipython",
    "version": 2
   },
   "file_extension": ".py",
   "mimetype": "text/x-python",
   "name": "python",
   "nbconvert_exporter": "python",
   "pygments_lexer": "ipython2",
   "version": "2.7.6"
  }
 },
 "nbformat": 4,
 "nbformat_minor": 5
}
