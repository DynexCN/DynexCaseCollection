{
 "cells": [
  {
   "cell_type": "markdown",
   "id": "ba4d0c20-47c5-4edc-9a46-e96ce270b9e4",
   "metadata": {},
   "source": [
    "# 将神经形态的Dynex芯片转化为Torch层"
   ]
  },
  {
   "cell_type": "code",
   "execution_count": 1,
   "id": "ea16bae0-d582-44c2-a32b-b0733e6ecf29",
   "metadata": {},
   "outputs": [],
   "source": [
    "import math\n",
    "import torch\n",
    "import torch.nn as nn\n",
    "import numpy as np\n",
    "import matplotlib.pyplot as plt\n",
    "from sklearn.metrics import classification_report\n",
    "from torchvision.transforms import ToTensor\n",
    "from torch.utils.data import random_split\n",
    "from torch.utils.data import DataLoader\n",
    "from torch.nn import Module\n",
    "from torch.nn import Conv2d\n",
    "from torch.nn import Linear\n",
    "from torch.nn import MaxPool2d\n",
    "from torch.nn import ReLU\n",
    "from torch.nn import LogSoftmax\n",
    "from torch import flatten\n",
    "from torch.optim import Adam"
   ]
  },
  {
   "cell_type": "markdown",
   "id": "eba0e774-0668-4bfe-bda6-3e22cf8ebe2a",
   "metadata": {},
   "source": [
    "## 导入 dnx 层类。"
   ]
  },
  {
   "cell_type": "code",
   "execution_count": 2,
   "id": "86fc9d73-965c-4d24-872b-142e2fdc9e74",
   "metadata": {},
   "outputs": [],
   "source": [
    "from HybridQRBM.pytorchdnx import dnx\n",
    "from HybridQRBM.optimizers import RBMOptimizer\n",
    "from HybridQRBM.samplers import DynexSampler"
   ]
  },
  {
   "cell_type": "markdown",
   "id": "db156edb-1a7b-4013-a0a3-025e8f05564a",
   "metadata": {},
   "source": [
    "## 参数"
   ]
  },
  {
   "cell_type": "code",
   "execution_count": 5,
   "id": "ac5d5952-4df2-4d80-9be2-40b3d4372ab4",
   "metadata": {},
   "outputs": [],
   "source": [
    "# 定义训练超参数。\n",
    "INIT_LR    = 1e-3\n",
    "BATCH_SIZE = 12000 \n",
    "EPOCHS     = 2 \n",
    "device = \"cpu\" # 只使用 Dynex，不使用 GPU。"
   ]
  },
  {
   "cell_type": "markdown",
   "id": "b9f814a6-8875-402c-b21d-f664c4185ce6",
   "metadata": {},
   "source": [
    "## Define Model"
   ]
  },
  {
   "cell_type": "code",
   "execution_count": 7,
   "id": "9b919152-4c82-4086-963c-5b1534e2f2a7",
   "metadata": {},
   "outputs": [],
   "source": [
    "optimizer = RBMOptimizer(\n",
    "                learning_rate=0.05,\n",
    "                momentum=0.9,\n",
    "                decay_factor=1.00005,\n",
    "                regularizers=()\n",
    "            );\n",
    "\n",
    "sampler = DynexSampler(mainnet=True, #False, \n",
    "               num_reads=25000, #100, \n",
    "               annealing_time=1000, \n",
    "               debugging=False, \n",
    "               logging=True, \n",
    "               num_gibbs_updates=1, \n",
    "               minimum_stepsize=0.002);"
   ]
  },
  {
   "cell_type": "code",
   "execution_count": 13,
   "id": "b520b594-ea68-4c88-962d-840c7f1ffe93",
   "metadata": {},
   "outputs": [],
   "source": [
    "class QModel(nn.Module):\n",
    "    def __init__(self, n_hidden, sampler, optimizer, trainSteps):\n",
    "        super().__init__();\n",
    "        # Dynex 神经形态层\n",
    "        self.dnxlayer = dnx(n_hidden, sampler=sampler, optimizer=optimizer, steps_per_epoch=trainSteps); \n",
    "\n",
    "    def forward(self, x):\n",
    "        x = self.dnxlayer(x);\n",
    "        return x;"
   ]
  },
  {
   "cell_type": "markdown",
   "id": "5f207539-7361-4953-a373-57120ff140b5",
   "metadata": {},
   "source": [
    "## Load Data"
   ]
  },
  {
   "cell_type": "code",
   "execution_count": 14,
   "id": "506946c2-b543-4d28-8576-1b72ef645665",
   "metadata": {},
   "outputs": [],
   "source": [
    "# 从灰度到黑白的转换函数\n",
    "from torchvision import transforms\n",
    "class ThresholdTransform(object):\n",
    "  def __init__(self, thr_255):\n",
    "    self.thr = thr_255 / 255.  # 将[0..255]灰度级别的输入阈值转换为[0..1]。\n",
    "\n",
    "  def __call__(self, x):\n",
    "    return (x > self.thr).to(x.dtype)  # 不更改数据类型。\n",
    "\n",
    "data_transformer = transforms.Compose([\n",
    "        #transforms.Grayscale(),\n",
    "        transforms.ToTensor(),\n",
    "        ThresholdTransform(thr_255=240)\n",
    "    ])"
   ]
  },
  {
   "cell_type": "code",
   "execution_count": 15,
   "id": "09636e29-8e5c-4572-854b-7d6169fac19d",
   "metadata": {},
   "outputs": [
    {
     "name": "stdout",
     "output_type": "stream",
     "text": [
      "[INFO] MNIST dataset lodaed\n"
     ]
    }
   ],
   "source": [
    "# 加载MNIST数据集。\n",
    "from torchvision.datasets import MNIST\n",
    "trainData = MNIST(root=\"data\", train=True, download=True,\n",
    "\ttransform=data_transformer)\n",
    "testData = MNIST(root=\"data\", train=False, download=True,\n",
    "\ttransform=data_transformer) \n",
    "print(\"[INFO] MNIST dataset lodaed\")"
   ]
  },
  {
   "cell_type": "code",
   "execution_count": 16,
   "id": "03cdfcce-6001-45ef-b3bf-694455b1b6f3",
   "metadata": {},
   "outputs": [],
   "source": [
    "# 初始化训练、验证和测试数据加载器。\n",
    "trainDataLoader = DataLoader(trainData, shuffle=True, batch_size=BATCH_SIZE)\n",
    "testDataLoader = DataLoader(testData, batch_size=BATCH_SIZE)"
   ]
  },
  {
   "cell_type": "code",
   "execution_count": 17,
   "id": "be186985-a278-44fb-8976-48c35fcc9642",
   "metadata": {},
   "outputs": [
    {
     "name": "stdout",
     "output_type": "stream",
     "text": [
      "5 train steps per epoch\n"
     ]
    }
   ],
   "source": [
    "# 计算训练和验证集的每个 epoch 步数。\n",
    "trainSteps = len(trainDataLoader.dataset) // BATCH_SIZE\n",
    "print(trainSteps,'train steps per epoch');"
   ]
  },
  {
   "cell_type": "markdown",
   "id": "eecbde1b-f124-4df5-a6e1-31befc31dc54",
   "metadata": {},
   "source": [
    "## 训练"
   ]
  },
  {
   "cell_type": "code",
   "execution_count": 21,
   "id": "653ac4f3-89b3-409f-ba17-55584ebbd90a",
   "metadata": {},
   "outputs": [],
   "source": [
    "#img_dim = len(trainData.data[0]);\n",
    "n_hidden = 60;\n",
    "model = QModel(n_hidden, sampler, optimizer, trainSteps);"
   ]
  },
  {
   "cell_type": "code",
   "execution_count": 22,
   "id": "86f70235-caf3-4773-9d8b-45c2fc8a4836",
   "metadata": {},
   "outputs": [
    {
     "name": "stdout",
     "output_type": "stream",
     "text": [
      "╭────────────┬───────────┬───────────┬─────────┬───────┬─────────┬───────┬──────┬──────────┬────────────╮\n",
      "│   DYNEXJOB │   ELAPSED │   WORKERS │   CHIPS │     ✔ │   STEPS │   LOC │    ✔ │   ENERGY │          ✔ │\n",
      "├────────────┼───────────┼───────────┼─────────┼───────┼─────────┼───────┼──────┼──────────┼────────────┤\n",
      "│       5024 │      0.45 │         2 │  455104 │ 49984 │    1000 │  7583 │ 7743 │  5743084 │ 5759890.00 │\n",
      "╰────────────┴───────────┴───────────┴─────────┴───────┴─────────┴───────┴──────┴──────────┴────────────╯\n",
      "╭───────────┬───────────────┬─────────┬───────┬────────────┬───────────┬───────────────┬──────────╮\n",
      "│    WORKER │       VERSION │   CHIPS │   LOC │     ENERGY │   RUNTIME │   LAST UPDATE │   STATUS │\n",
      "├───────────┼───────────────┼─────────┼───────┼────────────┼───────────┼───────────────┼──────────┤\n",
      "│ 133959484 │ 2.3.0.SRB.234 │   25000 │  8258 │ 5743084.00 │  0.58 min │    15.00s ago │  \u001B[1;31mSTOPPED\u001B[0m │\n",
      "├───────────┼───────────────┼─────────┼───────┼────────────┼───────────┼───────────────┼──────────┤\n",
      "│ 133959398 │ 2.3.0.SRB.235 │   25000 │  8260 │ 5746740.00 │  1.28 min │     3.00s ago │  \u001B[1;31mSTOPPED\u001B[0m │\n",
      "├───────────┼───────────────┼─────────┼───────┼────────────┼───────────┼───────────────┼──────────┤\n",
      "│ 133959388 │ 2.3.0.OZM.123 │   24992 │  8434 │ 5757046.00 │  1.05 min │    19.00s ago │  \u001B[1;31mSTOPPED\u001B[0m │\n",
      "├───────────┼───────────────┼─────────┼───────┼────────────┼───────────┼───────────────┼──────────┤\n",
      "│ 133959404 │ 2.3.0.OZM.123 │   24992 │  8393 │ 5758237.00 │  1.07 min │    15.00s ago │  \u001B[1;31mSTOPPED\u001B[0m │\n",
      "├───────────┼───────────────┼─────────┼───────┼────────────┼───────────┼───────────────┼──────────┤\n",
      "│ 133959389 │ 2.3.0.OZM.124 │   24992 │  7743 │ 5759890.00 │  1.05 min │    19.00s ago │  \u001B[1;31mSTOPPED\u001B[0m │\n",
      "├───────────┼───────────────┼─────────┼───────┼────────────┼───────────┼───────────────┼──────────┤\n",
      "│ 133959403 │ 2.3.0.OZM.124 │   24992 │  7717 │ 5762077.00 │  1.05 min │    16.00s ago │  \u001B[1;31mSTOPPED\u001B[0m │\n",
      "├───────────┼───────────────┼─────────┼───────┼────────────┼───────────┼───────────────┼──────────┤\n",
      "│ 133959434 │ 2.3.0.OZM.124 │   24992 │  7908 │ 5764308.00 │  1.08 min │     2.00s ago │  \u001B[1;31mSTOPPED\u001B[0m │\n",
      "├───────────┼───────────────┼─────────┼───────┼────────────┼───────────┼───────────────┼──────────┤\n",
      "│ 133959409 │ 2.3.0.OZM.124 │   24992 │  7775 │ 5765150.00 │  1.07 min │    14.00s ago │  \u001B[1;31mSTOPPED\u001B[0m │\n",
      "├───────────┼───────────────┼─────────┼───────┼────────────┼───────────┼───────────────┼──────────┤\n",
      "│ 133959385 │ 2.3.0.OZM.124 │   17056 │  7583 │ 5765405.00 │  1.05 min │    20.00s ago │  \u001B[1;31mSTOPPED\u001B[0m │\n",
      "├───────────┼───────────────┼─────────┼───────┼────────────┼───────────┼───────────────┼──────────┤\n",
      "│ 133959396 │ 2.3.0.OZM.123 │   24992 │  8403 │ 5767310.00 │  1.05 min │    17.00s ago │  \u001B[1;31mSTOPPED\u001B[0m │\n",
      "├───────────┼───────────────┼─────────┼───────┼────────────┼───────────┼───────────────┼──────────┤\n",
      "│ 133959411 │ 2.3.0.OZM.123 │   24992 │  8431 │ 5768056.00 │  1.05 min │    14.00s ago │  \u001B[1;31mSTOPPED\u001B[0m │\n",
      "├───────────┼───────────────┼─────────┼───────┼────────────┼───────────┼───────────────┼──────────┤\n",
      "│ 133959393 │ 2.3.0.OZM.124 │   24992 │  7865 │ 5768848.00 │  0.05 min │    78.00s ago │  \u001B[1;31mSTOPPED\u001B[0m │\n",
      "├───────────┼───────────────┼─────────┼───────┼────────────┼───────────┼───────────────┼──────────┤\n",
      "│ 133959395 │ 2.3.0.OZM.124 │   24992 │  7996 │ 5768893.00 │  1.05 min │    17.00s ago │  \u001B[1;31mSTOPPED\u001B[0m │\n",
      "├───────────┼───────────────┼─────────┼───────┼────────────┼───────────┼───────────────┼──────────┤\n",
      "│ 133959437 │ 2.3.0.SRB.235 │   25000 │  8250 │ 5768996.00 │  0.35 min │    45.00s ago │  \u001B[1;31mSTOPPED\u001B[0m │\n",
      "├───────────┼───────────────┼─────────┼───────┼────────────┼───────────┼───────────────┼──────────┤\n",
      "│ 133959418 │ 2.3.0.SRB.235 │   25000 │  8274 │ 5769116.00 │  0.27 min │    60.00s ago │  \u001B[1;31mSTOPPED\u001B[0m │\n",
      "├───────────┼───────────────┼─────────┼───────┼────────────┼───────────┼───────────────┼──────────┤\n",
      "│ 133959397 │ 2.3.0.OZM.124 │   24992 │  7968 │ 5769758.00 │  1.05 min │    17.00s ago │  \u001B[1;31mSTOPPED\u001B[0m │\n",
      "├───────────┼───────────────┼─────────┼───────┼────────────┼───────────┼───────────────┼──────────┤\n",
      "│ 133959387 │ 2.3.0.OZM.123 │    5504 │  8465 │ 5773971.00 │  1.05 min │    20.00s ago │  \u001B[1;31mSTOPPED\u001B[0m │\n",
      "├───────────┼───────────────┼─────────┼───────┼────────────┼───────────┼───────────────┼──────────┤\n",
      "│ 133959410 │ 2.3.0.OZM.124 │    7648 │  7756 │ 5774034.00 │  1.07 min │    13.00s ago │  \u001B[1;31mSTOPPED\u001B[0m │\n",
      "├───────────┼───────────────┼─────────┼───────┼────────────┼───────────┼───────────────┼──────────┤\n",
      "│ 133959394 │ 2.3.0.OZM.124 │   24992 │  7689 │ 5775024.00 │  0.05 min │    78.00s ago │  \u001B[1;31mSTOPPED\u001B[0m │\n",
      "├───────────┼───────────────┼─────────┼───────┼────────────┼───────────┼───────────────┼──────────┤\n",
      "│ 133959480 │ 2.3.0.OZM.124 │   24992 │  8089 │ 5775762.00 │  0.27 min │    35.00s ago │  \u001B[1;31mSTOPPED\u001B[0m │\n",
      "╰───────────┴───────────────┴─────────┴───────┴────────────┴───────────┴───────────────┴──────────╯\n",
      "[DYNEX] FINISHED READ AFTER 0.45 SECONDS\n",
      "[DYNEX] COMPUTING FILE c643091ab8cc04a7080baf2ad0f637c9.bin REMOVED\n",
      "[DYNEX] SAMPLESET LOADED\n",
      "DynexQRBM PyTorch Layer | applying sampling result... 60000 x 784\n",
      "DynexQRBM PyTorch Layer | SME: 0.007722 ACCURACY: 99.227823%\n"
     ]
    }
   ],
   "source": [
    "for e in range(0, EPOCHS):\n",
    "\tprint('EPOCH',e,'of',EPOCHS);\n",
    "\t# 将模型设置为训练模式。\n",
    "\tmodel.train()\n",
    "\t# 遍历训练集。\n",
    "\tfor (x, y) in trainDataLoader:\n",
    "\t\t# 将输入发送到设备。\n",
    "\t\t(x, y) = (x.to(device), y.to(device))\n",
    "\t\t# 执行前向传播并计算训练损失。\n",
    "\t\tpred = model(x);"
   ]
  },
  {
   "cell_type": "code",
   "execution_count": 23,
   "id": "de55dc1a-313f-4bb9-99b1-983569fad054",
   "metadata": {},
   "outputs": [],
   "source": [
    "dnxModel = model.dnxlayer.errors"
   ]
  },
  {
   "cell_type": "code",
   "execution_count": 24,
   "id": "d6a2894e-4c7a-4a68-9114-8f4f73a57a2d",
   "metadata": {},
   "outputs": [
    {
     "data": {
      "image/png": "[encoded data removed]",
      "text/plain": [
       "<Figure size 640x480 with 1 Axes>"
      ]
     },
     "metadata": {},
     "output_type": "display_data"
    }
   ],
   "source": [
    "plt.figure()\n",
    "plt.plot(dnxModel, label='dnxModel')\n",
    "plt.xlabel('epoch')\n",
    "plt.ylabel('MSE')\n",
    "plt.legend()\n",
    "plt.show()"
   ]
  },
  {
   "cell_type": "code",
   "execution_count": 25,
   "id": "ab658319-f0a9-4a48-9104-e758aef71888",
   "metadata": {},
   "outputs": [
    {
     "data": {
      "text/plain": [
       "[1.0, 0.00948867974195667, 0.007721767276280092]"
      ]
     },
     "execution_count": 25,
     "metadata": {},
     "output_type": "execute_result"
    }
   ],
   "source": [
    "model.dnxlayer.errors"
   ]
  },
  {
   "cell_type": "code",
   "execution_count": null,
   "id": "ca1d028b-a028-4769-a1bc-3cb78dd82659",
   "metadata": {},
   "outputs": [],
   "source": []
  },
  {
   "cell_type": "code",
   "execution_count": null,
   "id": "37dd0aeb-ebaa-4320-88a9-f01b7c874786",
   "metadata": {},
   "outputs": [],
   "source": []
  }
 ],
 "metadata": {
  "kernelspec": {
   "display_name": "Python 3 (ipykernel)",
   "language": "python",
   "name": "python3"
  },
  "language_info": {
   "codemirror_mode": {
    "name": "ipython",
    "version": 3
   },
   "file_extension": ".py",
   "mimetype": "text/x-python",
   "name": "python",
   "nbconvert_exporter": "python",
   "pygments_lexer": "ipython3",
   "version": "3.10.12"
  }
 },
 "nbformat": 4,
 "nbformat_minor": 5
}
