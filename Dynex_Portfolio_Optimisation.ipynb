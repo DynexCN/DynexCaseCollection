{
 "cells": [
  {
   "attachments": {},
   "cell_type": "markdown",
   "id": "1ac5ba64-ca2a-47fd-9e6a-10deb078480b",
   "metadata": {},
   "source": [
    "# 挑战：投资组合优化。"
   ]
  },
  {
   "cell_type": "code",
   "execution_count": 1,
   "id": "4e46625b-214e-4e2c-9621-93433fd0a9fb",
   "metadata": {},
   "outputs": [],
   "source": [
    "import csv\n",
    "import numpy as np\n",
    "import dynex\n",
    "from autoqubo import Binarization, SamplingCompiler, SearchSpace, Utils\n",
    "import yfinance as yf #!pip install yfinance\n",
    "import pandas as pd\n",
    "%matplotlib inline\n",
    "import matplotlib.pyplot as plt"
   ]
  },
  {
   "attachments": {},
   "cell_type": "markdown",
   "id": "6a74f476-2f0e-437c-b504-362123c39816",
   "metadata": {},
   "source": [
    "# 马科维茨均值-方差模型"
   ]
  },
  {
   "cell_type": "markdown",
   "id": "591cc28b-3685-454d-bd13-1fae3de6a5a8",
   "metadata": {},
   "source": [
    "https://arxiv.org/pdf/2303.12601.pdf"
   ]
  },
  {
   "cell_type": "code",
   "execution_count": 369,
   "id": "31bcc0dc-1ba5-4ead-8395-012945d517ce",
   "metadata": {},
   "outputs": [],
   "source": [
    "# 设置:\n",
    "symbols = ['AAPL', 'MSFT', 'GOOG', 'AMZN', 'META']\n",
    "start_date = '2018-01-01'\n",
    "end_date = '2024-01-01' \n",
    "budget = 100"
   ]
  },
  {
   "cell_type": "code",
   "execution_count": 370,
   "id": "cfbc2f18-cb7d-4e81-9955-dff105df4bc9",
   "metadata": {},
   "outputs": [
    {
     "name": "stderr",
     "output_type": "stream",
     "text": [
      "[*********************100%%**********************]  5 of 5 completed\n"
     ]
    }
   ],
   "source": [
    "data = yf.download(symbols, start=start_date, end=end_date)['Adj Close']"
   ]
  },
  {
   "cell_type": "code",
   "execution_count": 381,
   "id": "cbcf7b3a-4dae-46f2-84c6-1be3d4d6df2e",
   "metadata": {},
   "outputs": [
    {
     "name": "stdout",
     "output_type": "stream",
     "text": [
      "Ticker            AAPL        AMZN        GOOG        META        MSFT\n",
      "Date                                                                  \n",
      "2018-01-02   40.670971   59.450500   53.250000  181.227707   80.080925\n",
      "2018-01-03   40.663902   60.209999   54.124001  184.474274   80.453598\n",
      "2018-01-04   40.852764   60.479500   54.320000  184.134628   81.161713\n",
      "2018-01-05   41.317890   61.457001   55.111500  186.651962   82.167969\n",
      "2018-01-08   41.164433   62.343498   55.347000  188.080444   82.251816\n",
      "...                ...         ...         ...         ...         ...\n",
      "2023-12-22  193.353287  153.419998  142.720001  353.015472  373.888580\n",
      "2023-12-26  192.803986  153.410004  142.820007  354.453918  373.968445\n",
      "2023-12-27  192.903839  153.339996  141.440002  357.450714  373.379547\n",
      "2023-12-28  193.333298  153.380005  141.279999  357.940216  374.587280\n",
      "2023-12-29  192.284637  151.940002  140.929993  353.584839  375.345886\n",
      "\n",
      "[1509 rows x 5 columns]\n"
     ]
    }
   ],
   "source": [
    "print(data)"
   ]
  },
  {
   "attachments": {},
   "cell_type": "markdown",
   "id": "086926a9-63a7-4d29-83ef-98adbefed474",
   "metadata": {},
   "source": [
    "## 计算平均收益和协方差矩阵:"
   ]
  },
  {
   "cell_type": "code",
   "execution_count": 371,
   "id": "21b60a72-8d08-4beb-9380-85164791cf84",
   "metadata": {},
   "outputs": [],
   "source": [
    "trading_days = 252; # 每年的交易量\n",
    "returns = data.pct_change().dropna();\n",
    "mean_daily_returns = returns.mean();\n",
    "mean_annual_returns = mean_daily_returns * trading_days # 按年计算\n",
    "cov_matrix = returns.cov();\n",
    "n = len(symbols)\n",
    "cov_matrix_np = np.zeros((n, n))\n",
    "cov_matrix_np = np.array(cov_matrix)\n",
    "cov_matrix_np = cov_matrix_np * trading_days # 按年计算\n",
    "mean_vector_np = np.zeros(n)\n",
    "mean_vector_np = np.array(mean_annual_returns)"
   ]
  },
  {
   "cell_type": "code",
   "execution_count": 391,
   "id": "324fbe71-b600-4576-b0f9-bb32da57a30e",
   "metadata": {},
   "outputs": [
    {
     "name": "stdout",
     "output_type": "stream",
     "text": [
      "Mean vector:\n",
      "Ticker\n",
      "AAPL    0.309906\n",
      "AMZN    0.219349\n",
      "GOOG    0.211479\n",
      "META    0.204932\n",
      "MSFT    0.303639\n",
      "dtype: float64\n",
      "\n",
      "Covariance matrix:\n",
      "Ticker      AAPL      AMZN      GOOG      META      MSFT\n",
      "Ticker                                                  \n",
      "AAPL    0.100343  0.069905  0.066677  0.077528  0.071554\n",
      "AMZN    0.069905  0.125078  0.074557  0.091815  0.074206\n",
      "GOOG    0.066677  0.074557  0.097505  0.088823  0.071861\n",
      "META    0.077528  0.091815  0.088823  0.182890  0.078538\n",
      "MSFT    0.071554  0.074206  0.071861  0.078538  0.090745\n"
     ]
    }
   ],
   "source": [
    "print('Mean vector:')\n",
    "print(mean_daily_returns*trading_days)\n",
    "print()\n",
    "print('Covariance matrix:')\n",
    "print(cov_matrix*trading_days)"
   ]
  },
  {
   "attachments": {},
   "cell_type": "markdown",
   "id": "0e76f8a9-1eff-4b33-8159-740b08c35766",
   "metadata": {},
   "source": [
    "## 投资组合优化模型:"
   ]
  },
  {
   "cell_type": "code",
   "execution_count": 374,
   "id": "53d95724-9efe-4013-ae85-787dc7ff62ee",
   "metadata": {},
   "outputs": [],
   "source": [
    "def variance(x):\n",
    "    \"\"\"\n",
    "    Variance\n",
    "    \"\"\"\n",
    "    return x@cov_matrix_np@x\n",
    "\n",
    "def mean(x):\n",
    "    \"\"\"\n",
    "    Mean return\n",
    "    \"\"\"\n",
    "    return x@mean_vector_np\n",
    "\n",
    "def constraint(x):\n",
    "    \"\"\"\n",
    "    Budget constraint\n",
    "    \"\"\"\n",
    "    return (x.sum() - budget)**2"
   ]
  },
  {
   "cell_type": "code",
   "execution_count": 375,
   "id": "ea440149-9fa0-47c6-bd08-451bbdd887b9",
   "metadata": {},
   "outputs": [],
   "source": [
    "A, B, C = 1, -1, 100"
   ]
  },
  {
   "cell_type": "code",
   "execution_count": 376,
   "id": "07527a9c-6f9a-4dba-a16a-18421d76297a",
   "metadata": {},
   "outputs": [],
   "source": [
    "# 均值-方差投资组合优化模型\n",
    "def f(x):\n",
    "    return A*variance(x) + B*mean(x) + C*constraint(x)"
   ]
  },
  {
   "attachments": {},
   "cell_type": "markdown",
   "id": "e5c8f352-4803-41f3-b484-3ec0fb86cdd2",
   "metadata": {},
   "source": [
    "## 创建曲波公式"
   ]
  },
  {
   "cell_type": "code",
   "execution_count": 377,
   "id": "51a0c176-4b83-4c23-874e-d6e4e066717b",
   "metadata": {},
   "outputs": [
    {
     "name": "stdout",
     "output_type": "stream",
     "text": [
      "QUBO generation successful\n"
     ]
    }
   ],
   "source": [
    "s = SearchSpace()\n",
    "weights_vector = Binarization.get_uint_vector_type(n, n)\n",
    "s.add('x', weights_vector, n * n)\n",
    "\n",
    "qubo, offset = SamplingCompiler.generate_qubo_matrix(fitness_function=f, input_size=s.size, searchspace=s, use_multiprocessing=False)\n",
    "\n",
    "if SamplingCompiler.test_qubo_matrix(f, qubo, offset, search_space=s):\n",
    "    print(\"QUBO generation successful\")\n",
    "else:\n",
    "    print(\"QUBO generation failed - the objective function is not quadratic\")"
   ]
  },
  {
   "cell_type": "code",
   "execution_count": 397,
   "id": "1db9bf02-bff7-4317-9b29-cee304b76af6",
   "metadata": {},
   "outputs": [
    {
     "name": "stdout",
     "output_type": "stream",
     "text": [
      "[[-19900.20956279    400.40137333    800.80274666   1601.60549333\n",
      "    3203.21098665    200.13980919    400.27961838    800.55923676\n",
      "    1601.11847353   3202.23694706    200.13335453    400.26670907\n",
      "     800.53341813   1601.06683626   3202.13367252    200.15505622\n",
      "     400.31011243    800.62022486   1601.24044972   3202.48089945\n",
      "     200.14310807    400.28621613    800.57243227   1601.14486454\n",
      "    3202.28972907]\n",
      " [     0.         -39600.21843891   1601.60549333   3203.21098665\n",
      "    6406.42197331    400.27961838    800.55923676   1601.11847353\n",
      "    3202.23694706   6404.47389411    400.26670907    800.53341813\n",
      "    1601.06683626   3202.13367252   6404.26734505    400.31011243\n",
      "     800.62022486   1601.24044972   3202.48089945   6404.96179889\n",
      "     400.28621613    800.57243227   1601.14486454   3202.28972907\n",
      "    6404.57945815]\n",
      " [     0.              0.         -78399.63413115   6406.42197331\n",
      "   12812.84394661    800.55923676   1601.11847353   3202.23694706\n",
      "    6404.47389411  12808.94778822    800.53341813   1601.06683626\n",
      "    3202.13367252   6404.26734505  12808.53469009    800.62022486\n",
      "    1601.24044972   3202.48089945   6404.96179889  12809.92359778\n",
      "     800.57243227   1601.14486454   3202.28972907   6404.57945815\n",
      "   12809.1589163 ]] offset: 1000000.0\n"
     ]
    }
   ],
   "source": [
    "print(qubo[:3], 'offset:',offset)"
   ]
  },
  {
   "attachments": {},
   "cell_type": "markdown",
   "id": "e3099000-da3f-409b-a4a9-3cf6d537b2e1",
   "metadata": {},
   "source": [
    "## 使用Dynex计算"
   ]
  },
  {
   "cell_type": "code",
   "execution_count": 398,
   "id": "5f2d9fc8-d2af-4fb8-87c0-94245b56a3fd",
   "metadata": {},
   "outputs": [
    {
     "name": "stdout",
     "output_type": "stream",
     "text": [
      "Best solutions (minimize):\n",
      "[ÐYNEX] PRECISION CUT FROM 10.0 TO 1\n",
      "[DYNEX] PRECISION SET TO 1\n",
      "[DYNEX] SAMPLER INITIALISED\n",
      "[DYNEX|TESTNET] *** WAITING FOR READS ***\n",
      "╭────────────┬─────────────┬───────────┬───────────────────────────┬─────────┬─────────┬────────────────╮\n",
      "│   DYNEXJOB │   BLOCK FEE │ ELAPSED   │ WORKERS READ              │ CHIPS   │ STEPS   │ GROUND STATE   │\n",
      "├────────────┼─────────────┼───────────┼───────────────────────────┼─────────┼─────────┼────────────────┤\n",
      "│         -1 │           0 │           │ *** WAITING FOR READS *** │         │         │                │\n",
      "╰────────────┴─────────────┴───────────┴───────────────────────────┴─────────┴─────────┴────────────────╯\n",
      "\n",
      "[DYNEX] FINISHED READ AFTER 0.00 SECONDS\n",
      "[DYNEX] SAMPLESET READY\n",
      "   0  1  2  3  4  5  6  7  8  9 10 11 12 13 14 15 16 ... 24     energy num_oc.\n",
      "0  0  1  1  1  1  1  1  0  1  0  1  1  0  1  1  1  0 ...  1 755.648561       1\n",
      "['BINARY', 1 rows, 1 samples, 25 variables]\n"
     ]
    }
   ],
   "source": [
    "print(\"Best solutions (minimize):\")\n",
    "sampleset = dynex.sample_qubo(qubo, offset, mainnet=False, num_reads=10000, annealing_time=1000)\n",
    "print(sampleset)"
   ]
  },
  {
   "cell_type": "code",
   "execution_count": 400,
   "id": "e72bc613-3958-4460-bee9-265a7020d9ae",
   "metadata": {},
   "outputs": [
    {
     "name": "stdout",
     "output_type": "stream",
     "text": [
      "x=[30 11 27  1 31], energy=755.6485607431969, obj=755.6485607438183, constraint=0 obj(baseline)=826.0096115957166 (-70.36105085189831)\n"
     ]
    }
   ],
   "source": [
    "sol = sampleset.record[0][0]\n",
    "x = s.decode_dict(sol)['x']\n",
    "e = sampleset.first.energy\n",
    "print(\n",
    "    f\"x={x}, \"\n",
    "    f\"energy={e}, \"\n",
    "    f\"obj={f(x)}, \"\n",
    "    f\"constraint={constraint(x)} \"\n",
    "    f\"obj(baseline)={f(np.repeat(100/n, n))} ({f(x)-f(np.repeat(100/n, n))})\"\n",
    ")"
   ]
  },
  {
   "attachments": {},
   "cell_type": "markdown",
   "id": "55085626-caa7-46ee-bc37-3a8d37528030",
   "metadata": {},
   "source": [
    "## 输出结果"
   ]
  },
  {
   "cell_type": "code",
   "execution_count": 401,
   "id": "2d7a64bc-b957-4755-b609-d6dcf8cb6458",
   "metadata": {},
   "outputs": [
    {
     "data": {
      "image/png": "[encoded data removed]",
      "text/plain": [
       "<Figure size 800x500 with 1 Axes>"
      ]
     },
     "metadata": {},
     "output_type": "display_data"
    },
    {
     "name": "stdout",
     "output_type": "stream",
     "text": [
      "Return (equally weigthed) : 205.3663989425734 %\n",
      "Return (optimized)        : 210.65131760114411 %\n",
      "Improved objective by     : -70.36105085189831\n"
     ]
    }
   ],
   "source": [
    "portfolio_equally_weighted = [];\n",
    "portfolio_opt_weighted = [];\n",
    "pul = budget\n",
    "pul_opt = budget\n",
    "returns_np = np.array(returns)\n",
    "\n",
    "for day in returns_np:\n",
    "    # 等权投资组合:\n",
    "    budget_day = pul;\n",
    "    for i in range(0, len(day)):\n",
    "        asset_weight = (100/n) / budget_day * 100;\n",
    "        pul += asset_weight * day[i]\n",
    "    portfolio_equally_weighted.append(pul)\n",
    "    \n",
    "    # 优化加权投资组合:\n",
    "    budget_day = pul_opt;\n",
    "    for i in range(0, len(day)):\n",
    "        asset_weight = x[i] / budget_day * 100;\n",
    "        pul_opt += asset_weight * day[i]\n",
    "    portfolio_opt_weighted.append(pul_opt)\n",
    "\n",
    "plt.figure(figsize=(8, 5))\n",
    "plt.title('Markowitz Mean-Variance Model')\n",
    "plt.plot(data.index[1:], portfolio_equally_weighted, '-', color='gray', label='Equally weighted', alpha=0.5);\n",
    "plt.plot(data.index[1:], portfolio_opt_weighted, '-', color='orange', label='Portfolio optimized');\n",
    "plt.legend() \n",
    "plt.tight_layout()\n",
    "plt.show()\n",
    "\n",
    "print('Return (equally weigthed) :',portfolio_equally_weighted[-1]/budget*100,'%')\n",
    "print('Return (optimized)        :',portfolio_opt_weighted[-1]/budget*100,'%')\n",
    "print('Improved objective by     :',f(x)-f(np.repeat(100/n, n)))"
   ]
  }
 ],
 "metadata": {
  "kernelspec": {
   "display_name": "Python 3 (ipykernel)",
   "language": "python",
   "name": "python3"
  },
  "language_info": {
   "codemirror_mode": {
    "name": "ipython",
    "version": 3
   },
   "file_extension": ".py",
   "mimetype": "text/x-python",
   "name": "python",
   "nbconvert_exporter": "python",
   "pygments_lexer": "ipython3",
   "version": "3.10.12"
  }
 },
 "nbformat": 4,
 "nbformat_minor": 5
}
