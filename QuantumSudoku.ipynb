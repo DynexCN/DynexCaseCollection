{
 "cells": [
  {
   "cell_type": "markdown",
   "id": "acb0543f-0ce5-4b65-9c2b-0b4b0d3e59be",
   "metadata": {},
   "source": [
    "# 量子博弈论 - 数独"
   ]
  },
  {
   "cell_type": "markdown",
   "id": "cb559743-90e8-4f63-aa50-d80a5f5d4bfa",
   "metadata": {},
   "source": [
    "数独是一种数字逻辑谜题，涉及填充分为九个 3x3 子网格或“盒子”的 9x9 网格。每行、每列、每方框都必须包含从 1 到 9 的所有数字，且不能重复。谜题从一些预先填充数字的单元格开始，作为线索。目标是完成网格，同时遵守每个数字只能在每行、每列和框中出现一次的规则。谜题的挑战和复杂性根据初始数字的数量和位置而有所不同。\n",
    "\n",
    "这是一种专门为解决数独难题而设计的新量子算法。这种发展不仅仅涉及游戏；还涉及游戏。它展示了 Dynex 量子计算平台的强大功能。通过利用量子力学的力量，该算法不仅可以加快娱乐难题的解决速度，还展示了在复杂物流、优化问题等方面的潜在应用。"
   ]
  },
  {
   "cell_type": "code",
   "execution_count": 1,
   "id": "dd14dbfd-3281-4c97-b8eb-43899614f541",
   "metadata": {},
   "outputs": [],
   "source": [
    "import numpy as np\n",
    "import pandas as pd\n",
    "import dimod\n",
    "import dynex\n",
    "import matplotlib.pyplot as plt \n",
    "import timeit"
   ]
  },
  {
   "cell_type": "code",
   "execution_count": 4,
   "id": "c49b5424-8ae1-4a79-98a1-9f8ad28437a1",
   "metadata": {},
   "outputs": [],
   "source": [
    "def plot_mat(matrix, values=True):\n",
    "    n = matrix.shape[0]\n",
    "    fig, ax = plt.subplots()\n",
    "    \n",
    "    if values:\n",
    "        ax.matshow(matrix[tuple([n-i for i in range(1, n+1)]),:], cmap=plt.cm.Blues)\n",
    "        min_val, max_val = 0, n\n",
    "        for i in range(n):\n",
    "            for j in range(n):\n",
    "                ax.text(i, j, str(matrix[n-j-1,i]), va='center', ha='center')\n",
    "        ax.set_xlim(-0.5, n-0.5)\n",
    "        ax.set_ylim(-0.5, n-0.5)\n",
    "    else:\n",
    "        ax.matshow(matrix, cmap=plt.cm.Blues)\n",
    "\n",
    "        plt.show()"
   ]
  },
  {
   "cell_type": "code",
   "execution_count": 5,
   "id": "68e40574-c176-4912-b254-00436aaeb0ab",
   "metadata": {},
   "outputs": [],
   "source": [
    "def CheckSudoku(grid):\n",
    "    N = grid.shape[0]\n",
    "    sq_N = int(np.sqrt(N))\n",
    "    for i in range(N):\n",
    "        if len(set(grid[i, :])) != N or len(set(grid[:, i])) != N:\n",
    "            return False\n",
    "    for i in range(0, N, sq_N):\n",
    "        for j in range(0, N, sq_N):\n",
    "            subgrid = grid[i:i+sq_N, j:j+sq_N]\n",
    "            if len(set(subgrid.flatten())) != N:\n",
    "                return False  \n",
    "    return True"
   ]
  },
  {
   "cell_type": "code",
   "execution_count": 2,
   "id": "9b8bc324-db83-4c4d-b3b4-b382973bbad9",
   "metadata": {},
   "outputs": [],
   "source": [
    "# 定义数独大小（必须是平方数）。\n",
    "N = 9\n",
    "num_bits = N**3\n",
    "sq_N = np.int64(np.sqrt(N))\n",
    "z = np.array([i+1 for i in range(N)], dtype=np.int64)"
   ]
  },
  {
   "cell_type": "code",
   "execution_count": 6,
   "id": "80850c42-3de0-4747-a375-9d453280c3c8",
   "metadata": {},
   "outputs": [
    {
     "data": {
      "image/png": "[encoded data removed]",
      "text/plain": [
       "<Figure size 640x480 with 1 Axes>"
      ]
     },
     "metadata": {},
     "output_type": "display_data"
    }
   ],
   "source": [
    "# 设置初始值。\n",
    "idx_init = np.random.choice(np.arange(N*N), N, replace=False)\n",
    "a = np.array([[i for i in range(N)]+idx_init[j]*N for j in range(N)]).ravel()\n",
    "x_init = {a[i] : int(i%N == i//N) for i in range(N*N)}\n",
    "\n",
    "init_vec = np.zeros((num_bits, 1), dtype=np.int64)\n",
    "idx = np.array([k for (k, v) in x_init.items() if v])\n",
    "init_vec[idx] = 1\n",
    "\n",
    "sudoku_init = (np.kron(np.identity(N**2, dtype=np.int64), z) @ init_vec).reshape((N, N))\n",
    "plot_mat(sudoku_init)"
   ]
  },
  {
   "cell_type": "markdown",
   "id": "761827aa-16d2-4a08-943e-f78f9571f5c4",
   "metadata": {},
   "source": [
    "## 量子数独算法"
   ]
  },
  {
   "cell_type": "code",
   "execution_count": 7,
   "id": "8b14c15e-2fbc-4596-af22-ff14e1488f90",
   "metadata": {},
   "outputs": [],
   "source": [
    "# 初始化单位矩阵并为具有高惩罚的行和列构建约束\n",
    "penaltyRC = 10000 \n",
    "penaltySubGrid = 8000 \n",
    "penalty_value = 10000 \n",
    "idN = np.identity(N)\n",
    "idSqN = np.identity(sq_N)\n",
    "aRC = np.concatenate((np.kron(np.kron(idN, np.ones((1, N))), idN),  \n",
    "                      np.kron(np.kron(np.ones((1, N)), idN), idN)))  \n",
    "aSubGrid = np.kron(np.kron(np.kron(idSqN, np.ones((1, sq_N))), \n",
    "                           np.kron(idSqN, np.ones((1, sq_N)))), idN)\n",
    "bRC = np.ones((2 * N * N, 1))\n",
    "bSubGrid = np.ones((N * N, 1))\n",
    "QRC = penaltyRC * (aRC.T @ aRC - 2 * np.diag(np.diag(aRC.T @ aRC)))\n",
    "QSubGrid = penaltySubGrid * (aSubGrid.T @ aSubGrid - 2 * np.diag(np.diag(aSubGrid.T @ aSubGrid)))\n",
    "qVal = np.zeros((num_bits, num_bits))\n",
    "for i in range(num_bits):\n",
    "    block_row = i // N \n",
    "    for j in range(block_row * N, (block_row + 1) * N): \n",
    "        if i != j:\n",
    "            qVal[i, j] = penalty_value \n",
    "Q = QRC + QSubGrid + qVal"
   ]
  },
  {
   "cell_type": "code",
   "execution_count": 8,
   "id": "be393964-589f-41d5-96e7-e72b435f70a7",
   "metadata": {},
   "outputs": [],
   "source": [
    "# 从 QUBO 矩阵创建 BQM\n",
    "bqm = dimod.BinaryQuadraticModel.empty(dimod.BINARY)\n",
    "for i in range(num_bits):\n",
    "    for j in range(i, num_bits):\n",
    "        if i == j:\n",
    "            bqm.add_variable(i, Q[i, i])\n",
    "        else:\n",
    "            bqm.add_interaction(i, j, Q[i, j])\n",
    "\n",
    "bqm.offset += penaltyRC * (bRC.T @ bRC)[0, 0]\n",
    "bqm.offset += penaltySubGrid * (bSubGrid.T @ bSubGrid)[0, 0]\n",
    "\n",
    "for i, val in x_init.items():\n",
    "    bqm.fix_variable(i, val)"
   ]
  },
  {
   "cell_type": "code",
   "execution_count": 15,
   "id": "a0176afd-2e17-4b56-bc39-8315c91ac467",
   "metadata": {},
   "outputs": [
    {
     "name": "stdout",
     "output_type": "stream",
     "text": [
      "╭────────────┬──────────┬─────────────────┬─────────────┬───────────┬────────────────┬────────────┬─────────┬────────────────╮\n",
      "│   DYNEXJOB │   QUBITS │   QUANTUM GATES │   BLOCK FEE │   ELAPSED │   WORKERS READ │   CIRCUITS │   STEPS │   GROUND STATE │\n",
      "├────────────┼──────────┼─────────────────┼─────────────┼───────────┼────────────────┼────────────┼─────────┼────────────────┤\n",
      "│       8192 │      656 │            8999 │        3.09 │      3.22 │              1 │      51040 │    2000 │    14316000.00 │\n",
      "╰────────────┴──────────┴─────────────────┴─────────────┴───────────┴────────────────┴────────────┴─────────┴────────────────╯\n",
      "╭────────────┬─────────────────┬────────────┬───────┬─────────────┬────────────────┬─────────────────────────────┬──────────────┬──────────╮\n",
      "│     WORKER │         VERSION │   CIRCUITS │   LOC │      ENERGY │        RUNTIME │                 LAST UPDATE │        STEPS │   STATUS │\n",
      "├────────────┼─────────────────┼────────────┼───────┼─────────────┼────────────────┼─────────────────────────────┼──────────────┼──────────┤\n",
      "│ 8114..74c8 │ 2.3.5.OZM.132.L │     388224 │     0 │        0.00 │ 1m46.23213292s │ 2024-05-10T21:42:03.112731Z │    0 (0.00%) │  \u001B[1;31mSTOPPED\u001B[0m │\n",
      "├────────────┼─────────────────┼────────────┼───────┼─────────────┼────────────────┼─────────────────────────────┼──────────────┼──────────┤\n",
      "│ 9e85..b77f │ 2.3.5.OZM.132.L │     462720 │   576 │        0.00 │  32.835342145s │ 2024-05-10T21:43:16.509523Z │ 353 (17.65%) │  \u001B[1;31mSTOPPED\u001B[0m │\n",
      "├────────────┼─────────────────┼────────────┼───────┼─────────────┼────────────────┼─────────────────────────────┼──────────────┼──────────┤\n",
      "│ eab3..7119 │ 2.3.5f.BZM.v21. │       3072 │   543 │ 13502000.00 │  43.259191682s │ 2024-05-10T21:43:06.085674Z │    0 (0.00%) │  \u001B[1;31mSTOPPED\u001B[0m │\n",
      "├────────────┼─────────────────┼────────────┼───────┼─────────────┼────────────────┼─────────────────────────────┼──────────────┼──────────┤\n",
      "│ bc8e..e796 │ 2.3.5.OZM.132.L │     775104 │   576 │ 14316000.00 │  28.922615196s │ 2024-05-10T21:43:20.422251Z │ 358 (17.90%) │  \u001B[1;31mSTOPPED\u001B[0m │\n",
      "├────────────┼─────────────────┼────────────┼───────┼─────────────┼────────────────┼─────────────────────────────┼──────────────┼──────────┤\n",
      "│ 238c..c4b1 │ 2.3.5.OZM.132.L │     464096 │   576 │ 14316000.00 │  18.468582777s │ 2024-05-10T21:43:30.876284Z │ 552 (27.60%) │  \u001B[1;31mSTOPPED\u001B[0m │\n",
      "├────────────┼─────────────────┼────────────┼───────┼─────────────┼────────────────┼─────────────────────────────┼──────────────┼──────────┤\n",
      "│ 9b01..bfda │ 2.3.5.OZM.132.L │     311552 │   576 │ 14316000.00 │   4.976315272s │ 2024-05-10T21:43:44.368552Z │ 389 (19.45%) │  \u001B[1;31mSTOPPED\u001B[0m │\n",
      "├────────────┼─────────────────┼────────────┼───────┼─────────────┼────────────────┼─────────────────────────────┼──────────────┼──────────┤\n",
      "│ a431..70cc │ 2.3.5.OZM.126.L │       9984 │   577 │ 14374000.00 │   437.168873ms │ 2024-05-10T21:43:48.907699Z │    0 (0.00%) │  \u001B[1;31mSTOPPED\u001B[0m │\n",
      "├────────────┼─────────────────┼────────────┼───────┼─────────────┼────────────────┼─────────────────────────────┼──────────────┼──────────┤\n",
      "│ 49b4..e309 │ 2.3.5.OZM.132.L │     237312 │   578 │ 14384000.00 │  1m5.91152358s │ 2024-05-10T21:42:43.433345Z │   77 (3.85%) │  \u001B[1;31mSTOPPED\u001B[0m │\n",
      "├────────────┼─────────────────┼────────────┼───────┼─────────────┼────────────────┼─────────────────────────────┼──────────────┼──────────┤\n",
      "│ 91c4..157d │ 2.3.5f.BZM.v21. │       1824 │   586 │ 14704000.00 │  40.036987151s │ 2024-05-10T21:43:09.307882Z │    0 (0.00%) │  \u001B[1;31mSTOPPED\u001B[0m │\n",
      "╰────────────┴─────────────────┴────────────┴───────┴─────────────┴────────────────┴─────────────────────────────┴──────────────┴──────────╯\n",
      "[DYNEX] FINISHED READ AFTER 322.20 SECONDS\n",
      "[DYNEX] SAMPLESET READY\n"
     ]
    }
   ],
   "source": [
    "# 在 Dynex 上计算\n",
    "model = dynex.BQM(bqm)\n",
    "sampler = dynex.DynexSampler(model, mainnet=True, description='Quantum Sudoku Solution')\n",
    "sampleset = sampler.sample(num_reads=10000, annealing_time=2000)"
   ]
  },
  {
   "cell_type": "code",
   "execution_count": 16,
   "id": "c3e59422-2c95-4502-8478-e61162caa15d",
   "metadata": {},
   "outputs": [
    {
     "name": "stdout",
     "output_type": "stream",
     "text": [
      "   9 10 11 12 13 14 15 16 17 27 28 29 30 31 32 33 34 35 ... 728 energy num_oc.\n",
      "0  0  0  0  0  1  0  0  0  0  0  1  0  0  0  0  0  0  0 ...   0    0.0       1\n",
      "['BINARY', 1 rows, 1 samples, 648 variables]\n"
     ]
    }
   ],
   "source": [
    "print(sampleset)"
   ]
  },
  {
   "cell_type": "code",
   "execution_count": 17,
   "id": "01825b72-3cec-4173-9fdf-0825ff97538e",
   "metadata": {},
   "outputs": [],
   "source": [
    "solution = sampleset.first.sample"
   ]
  },
  {
   "cell_type": "code",
   "execution_count": 18,
   "id": "eb53ac45-8628-4ed3-9a39-34c88304f82b",
   "metadata": {},
   "outputs": [
    {
     "name": "stdout",
     "output_type": "stream",
     "text": [
      "The solution is valid :)\n"
     ]
    },
    {
     "data": {
      "image/png": "[encoded data removed]",
      "text/plain": [
       "<Figure size 640x480 with 1 Axes>"
      ]
     },
     "metadata": {},
     "output_type": "display_data"
    }
   ],
   "source": [
    "# 将解决方案转换为数独网格\n",
    "z = np.array([i+1 for i in range(N)], dtype=np.int64)\n",
    "sol_vec = np.zeros((num_bits, 1), dtype=np.int64)\n",
    "for i in range(num_bits):\n",
    "    if i in x_init:\n",
    "        sol_vec[i] = x_init[i]\n",
    "    else:\n",
    "        sol_vec[i] = solution[i]\n",
    "sudoku_sol = (np.kron(np.identity(N**2, dtype=np.int64), z) @ sol_vec).reshape((N, N))\n",
    "if CheckSudoku(sudoku_sol):\n",
    "    print(\"The solution is valid :)\")\n",
    "    plot_mat(sudoku_sol)\n",
    "else:\n",
    "    print(\"The solution is not valid :(\")"
   ]
  }
 ],
 "metadata": {
  "kernelspec": {
   "display_name": "Python 3 (ipykernel)",
   "language": "python",
   "name": "python3"
  },
  "language_info": {
   "codemirror_mode": {
    "name": "ipython",
    "version": 3
   },
   "file_extension": ".py",
   "mimetype": "text/x-python",
   "name": "python",
   "nbconvert_exporter": "python",
   "pygments_lexer": "ipython3",
   "version": "3.10.12"
  }
 },
 "nbformat": 4,
 "nbformat_minor": 5
}
