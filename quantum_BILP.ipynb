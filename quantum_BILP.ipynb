{
 "cells": [
  {
   "cell_type": "markdown",
   "id": "d794412b-8cb6-45ed-894f-dfeb0a108af5",
   "metadata": {},
   "source": [
    "# 量子二元整数线性规划"
   ]
  },
  {
   "cell_type": "markdown",
   "id": "c0dd6b02-4c8b-4aed-93fa-78463b1a60e2",
   "metadata": {},
   "source": [
    "Dynex 是世界上唯一可访问的神经拟态量子计算云，用于大规模解决现实问题。此示例演示了如何使用 Dynex SDK 使用 Pyton 在 Dynex 平台上使用 Python 进行计算。"
   ]
  },
  {
   "cell_type": "code",
   "execution_count": 1,
   "id": "3f4f5809-e324-43ff-b680-f3a411b53f58",
   "metadata": {},
   "outputs": [],
   "source": [
    "import dynex\n",
    "import dimod\n",
    "from qubovert.problems import BILP"
   ]
  },
  {
   "cell_type": "markdown",
   "id": "b5dfc1be-7afc-42ba-b4b8-f01508a8c1f6",
   "metadata": {},
   "source": [
    "BILP问题的目标是在Sx=b的情况下找到c*x的最小值。这里Sx=b，c，S和b定义了问题，x是布尔变量的向量。"
   ]
  },
  {
   "cell_type": "code",
   "execution_count": 3,
   "id": "87a5132a-a36e-4d0f-bbc0-c13cc4da44cb",
   "metadata": {},
   "outputs": [],
   "source": [
    "c = [1, 2, -1]\n",
    "S = [[1, 0, 0], [0, 1, -1]]\n",
    "b = [0, 1]\n",
    "problem = BILP(c, S, b)\n",
    "Q = problem.to_qubo()"
   ]
  },
  {
   "cell_type": "code",
   "execution_count": 4,
   "id": "7d55a452-c115-482d-b6a5-c3f84da4088d",
   "metadata": {},
   "outputs": [],
   "source": [
    "bqm = dimod.BinaryQuadraticModel.from_qubo(Q.Q, Q.offset)"
   ]
  },
  {
   "cell_type": "code",
   "execution_count": 5,
   "id": "58ce0834-dfb2-4499-8db6-e61b51c8b7dd",
   "metadata": {},
   "outputs": [
    {
     "name": "stdout",
     "output_type": "stream",
     "text": [
      "[DYNEX] PRECISION SET TO 0.0001\n",
      "[DYNEX] SAMPLER INITIALISED\n",
      "[DYNEX|TESTNET] *** WAITING FOR READS ***\n",
      "╭────────────┬──────────┬─────────────────┬─────────────┬───────────┬───────────────────────────┬────────────┬─────────┬────────────────╮\n",
      "│   DYNEXJOB │   QUBITS │   QUANTUM GATES │   BLOCK FEE │ ELAPSED   │ WORKERS READ              │ CIRCUITS   │ STEPS   │ GROUND STATE   │\n",
      "├────────────┼──────────┼─────────────────┼─────────────┼───────────┼───────────────────────────┼────────────┼─────────┼────────────────┤\n",
      "│         -1 │       11 │              14 │           0 │           │ *** WAITING FOR READS *** │            │         │                │\n",
      "╰────────────┴──────────┴─────────────────┴─────────────┴───────────┴───────────────────────────┴────────────┴─────────┴────────────────╯\n",
      "\n",
      "[DYNEX] FINISHED READ AFTER 0.31 SECONDS\n",
      "[DYNEX] SAMPLESET READY\n",
      "   0  1  2 energy num_oc.\n",
      "0  0  1  0    2.0       1\n",
      "['BINARY', 1 rows, 1 samples, 3 variables]\n"
     ]
    }
   ],
   "source": [
    "sampleset = dynex.sample(bqm, mainnet=False, num_reads=1024, annealing_time=200);\n",
    "print(sampleset)"
   ]
  },
  {
   "cell_type": "code",
   "execution_count": 6,
   "id": "977fe637-057c-4993-a427-caa0b3ed52ab",
   "metadata": {},
   "outputs": [
    {
     "name": "stdout",
     "output_type": "stream",
     "text": [
      "Optimal solution: [0 1 0] valid? True\n"
     ]
    }
   ],
   "source": [
    "solution = problem.convert_solution(sampleset.first.sample)\n",
    "print('Optimal solution:',solution,'valid?',problem.is_solution_valid(solution))"
   ]
  },
  {
   "cell_type": "code",
   "execution_count": null,
   "id": "8053b159-7735-4fe2-a3b1-01a68aea21ff",
   "metadata": {},
   "outputs": [],
   "source": []
  }
 ],
 "metadata": {
  "kernelspec": {
   "display_name": "Python 3 (ipykernel)",
   "language": "python",
   "name": "python3"
  },
  "language_info": {
   "codemirror_mode": {
    "name": "ipython",
    "version": 3
   },
   "file_extension": ".py",
   "mimetype": "text/x-python",
   "name": "python",
   "nbconvert_exporter": "python",
   "pygments_lexer": "ipython3",
   "version": "3.10.12"
  }
 },
 "nbformat": 4,
 "nbformat_minor": 5
}
