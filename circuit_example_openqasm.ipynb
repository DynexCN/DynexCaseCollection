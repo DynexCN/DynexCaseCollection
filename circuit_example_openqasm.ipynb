{
 "cells": [
  {
   "cell_type": "markdown",
   "id": "1fa94d56-57dd-4cc6-beda-9100e769ee4f",
   "metadata": {},
   "source": [
    "# Dynex SDK - OpenQASM Native Gate 电路示例"
   ]
  },
  {
   "cell_type": "markdown",
   "id": "d63e025d-8aeb-4840-ac69-cd6430043608",
   "metadata": {},
   "source": [
    "导入需要的包："
   ]
  },
  {
   "cell_type": "code",
   "execution_count": 1,
   "id": "3258cd0a-8fb4-4ce7-89a1-4120322ef52c",
   "metadata": {},
   "outputs": [],
   "source": [
    "import dynex\n",
    "from dynex import dynex_circuit"
   ]
  },
  {
   "cell_type": "markdown",
   "id": "a4b4dad6-3b7d-4b17-93d5-4ab82c8b5aef",
   "metadata": {},
   "source": [
    "定义电路:"
   ]
  },
  {
   "cell_type": "code",
   "execution_count": 2,
   "id": "f1e789a4-612d-433f-95fb-43cebab281f8",
   "metadata": {},
   "outputs": [],
   "source": [
    "circuit = ' \\\n",
    "OPENQASM 2.0;\\n\\\n",
    "include \"qelib1.inc\";\\n\\\n",
    "qreg q[2];\\n\\\n",
    "creg c[2];\\n\\\n",
    "rx(0.1) q[0];\\n\\\n",
    "ry(0.2) q[1];\\n\\\n",
    "cx q[0],q[1];\\n\\\n",
    "h q[0];\\n\\\n",
    "measure q[0] -> c[0];\\n\\\n",
    "measure q[1] -> c[1];\\n\\n\\\n",
    "'"
   ]
  },
  {
   "cell_type": "markdown",
   "id": "8b9f9d7e-213e-40e3-9362-fd57faebab66",
   "metadata": {},
   "source": [
    "We execute and measure the circuit on the Dynex platform:"
   ]
  },
  {
   "cell_type": "code",
   "execution_count": 3,
   "id": "248c2c08-935c-49a1-a81f-ca03d23e3cc2",
   "metadata": {},
   "outputs": [
    {
     "name": "stdout",
     "output_type": "stream",
     "text": [
      "╭────────────┬──────────┬─────────────────┬─────────────┬───────────┬────────────────┬────────────┬─────────┬────────────────╮\n",
      "│   DYNEXJOB │   QUBITS │   QUANTUM GATES │   BLOCK FEE │   ELAPSED │   WORKERS READ │   CIRCUITS │   STEPS │   GROUND STATE │\n",
      "├────────────┼──────────┼─────────────────┼─────────────┼───────────┼────────────────┼────────────┼─────────┼────────────────┤\n",
      "│      29831 │       21 │              64 │        0.00 │      2.17 │              1 │    5905984 │     256 │       38708.00 │\n",
      "╰────────────┴──────────┴─────────────────┴─────────────┴───────────┴────────────────┴────────────┴─────────┴────────────────╯\n",
      "╭────────────┬─────────────────┬────────────┬───────┬──────────┬───────────────┬─────────────────────────────┬───────────┬──────────╮\n",
      "│     WORKER │         VERSION │   CIRCUITS │   LOC │   ENERGY │       RUNTIME │                 LAST UPDATE │     STEPS │   STATUS │\n",
      "├────────────┼─────────────────┼────────────┼───────┼──────────┼───────────────┼─────────────────────────────┼───────────┼──────────┤\n",
      "│ bf44..efd9 │ 2.3.5.OZM.134.W │    2318720 │     0 │     0.00 │ 55.254472652s │ 2024-08-11T19:08:05.477946Z │ 0 (0.00%) │  \u001B[1;31mSTOPPED\u001B[0m │\n",
      "├────────────┼─────────────────┼────────────┼───────┼──────────┼───────────────┼─────────────────────────────┼───────────┼──────────┤\n",
      "│ c9a3..7ac0 │ 2.3.5.OZM.134.W │    5905984 │    13 │ 38708.00 │  3.182355872s │ 2024-08-11T19:08:57.550064Z │ 0 (0.00%) │  \u001B[1;31mSTOPPED\u001B[0m │\n",
      "╰────────────┴─────────────────┴────────────┴───────┴──────────┴───────────────┴─────────────────────────────┴───────────┴──────────╯\n",
      "[DYNEX] FINISHED READ AFTER 217.46 SECONDS\n",
      "[DYNEX] SAMPLESET READY\n",
      "[1 0]\n"
     ]
    }
   ],
   "source": [
    "params = [0.1, 0.2]\n",
    "wires = 2\n",
    "\n",
    "# 在dynex上运行\n",
    "measure = dynex_circuit.execute(circuit, params, wires, mainnet=True, method='measure')\n",
    "print(measure)"
   ]
  },
  {
   "cell_type": "code",
   "execution_count": null,
   "id": "551c3416-bbc8-4bca-bb77-ef3622e1dade",
   "metadata": {},
   "outputs": [],
   "source": []
  }
 ],
 "metadata": {
  "kernelspec": {
   "display_name": "Python 3 (ipykernel)",
   "language": "python",
   "name": "python3"
  },
  "language_info": {
   "codemirror_mode": {
    "name": "ipython",
    "version": 3
   },
   "file_extension": ".py",
   "mimetype": "text/x-python",
   "name": "python",
   "nbconvert_exporter": "python",
   "pygments_lexer": "ipython3",
   "version": "3.10.12"
  }
 },
 "nbformat": 4,
 "nbformat_minor": 5
}
