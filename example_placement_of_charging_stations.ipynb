{
 "cells": [
  {
   "cell_type": "markdown",
   "id": "56f0b47e",
   "metadata": {},
   "source": [
    "# 示例：充电站布置"
   ]
  },
  {
   "cell_type": "markdown",
   "id": "d8cd7b01",
   "metadata": {},
   "source": [
    "确定建设新的电动汽车充电站的最佳位置是一个复杂的优化问题。需要考虑许多因素，如现有的充电桩位置、兴趣点（POIs）、要建设的数量等。在这个示例中，我们将看看如何制定这个优化问题并使用Dynex神经形态平台来解决它。"
   ]
  },
  {
   "cell_type": "markdown",
   "id": "af01a808",
   "metadata": {},
   "source": [
    "## 问题描述"
   ]
  },
  {
   "cell_type": "markdown",
   "id": "b86bbd3d",
   "metadata": {},
   "source": [
    "有许多不同的电动汽车充电桩布局问题的变种可能被考虑。对于这个演示，我们考虑的情况是在一个小区域内进行考虑，所有在考虑区域内的地点都可以步行到达。在这种情况下，我们希望放置新的充电位置，以便对所有POIs都方便。例如，如果POIs是主要街道上的商店，那么在一个中心位置停车最为便利。我们将通过考虑从潜在的新充电站到所有POIs的平均距离来满足这一需求。此外，我们希望将新的充电桩放置在已有的和其他新的充电位置之外，以减少重叠并最大程度地覆盖该区域。\n",
    "\n",
    "这个问题可以被视为包含4个独立约束（或目标）的问题，其中二进制变量表示每个潜在的新充电站位置。"
   ]
  },
  {
   "cell_type": "markdown",
   "id": "5462db6e",
   "metadata": {},
   "source": [
    "## 最小化与POIs的距离 "
   ]
  },
  {
   "cell_type": "markdown",
   "id": "85a3a5f7",
   "metadata": {},
   "source": [
    "对于每个潜在的新充电站位置，我们计算到地图上所有POIs的平均距离。使用这个值作为每个二进制变量的线性偏差，我们的程序会更倾向于那些（平均而言）靠近POIs的位置。请注意，这个约束可以根据问题的实际情况替换为其他约束。"
   ]
  },
  {
   "cell_type": "markdown",
   "id": "81e01b57",
   "metadata": {},
   "source": [
    "## 最大化到现有充电站的距离"
   ]
  },
  {
   "cell_type": "markdown",
   "id": "76c9ebec",
   "metadata": {},
   "source": [
    "对于每个潜在的新充电站位置，我们计算它们到地图上所有现有充电站的平均距离。通过将这个值的负值作为每个二进制变量的线性偏置，我们的程序将更倾向于选择那些距离现有充电站（平均而言）较远的位置。"
   ]
  },
  {
   "cell_type": "markdown",
   "id": "ddbc439f",
   "metadata": {},
   "source": [
    "## 最大化与其他新充电站的距离"
   ]
  },
  {
   "cell_type": "markdown",
   "id": "82bf3b88",
   "metadata": {},
   "source": [
    "对于新充电站位置的一对，我们希望最大化它们之间的距离。为了实现这一目标，我们考虑了所有可能的位置配对，并计算它们之间的距离。通过将这个值的负数作为相应二进制变量的乘积的二次偏差，我们的程序将更倾向于选择相互距离较远的位置。"
   ]
  },
  {
   "cell_type": "markdown",
   "id": "c8f3e471",
   "metadata": {},
   "source": [
    "## 建造正好两个新的充电站"
   ]
  },
  {
   "cell_type": "markdown",
   "id": "b41da02a",
   "metadata": {},
   "source": [
    "为了选择正好两个新的充电站，我们使用dimod.generators.combinations函数。这个函数在dimod包中将我们的二进制变量（bqm.variables）中的正好num_new_cs个设置为值1，并为这个约束应用一个强度（gamma4）。有关可调强度参数的更多信息，请参见下文。"
   ]
  },
  {
   "cell_type": "markdown",
   "id": "7172487a",
   "metadata": {},
   "source": [
    "## 参数调优 "
   ]
  },
  {
   "cell_type": "markdown",
   "id": "0a60ffbe",
   "metadata": {},
   "source": [
    "每个这些约束都以一个系数（名称都以gamma开头）的形式构建到我们的BQM对象中。这个术语gamma被称为拉格朗日参数，它可以用来调整约束之间的权重，以准确反映问题的要求。根据您的问题要求和规模，您可能希望调整这个参数。在这个程序中设置的值被选择为经验性地适用于各种规模的问题的起点。"
   ]
  },
  {
   "cell_type": "markdown",
   "id": "538b8380",
   "metadata": {},
   "source": [
    "# 执行"
   ]
  },
  {
   "cell_type": "markdown",
   "id": "a08e9c86",
   "metadata": {},
   "source": [
    "首先，我们加载所需的包："
   ]
  },
  {
   "cell_type": "code",
   "execution_count": 1,
   "id": "0f9a8b92",
   "metadata": {},
   "outputs": [],
   "source": [
    "from itertools import product\n",
    "import json\n",
    "import random \n",
    "import numpy as np\n",
    "import pandas as pd\n",
    "import networkx as nx\n",
    "import matplotlib\n",
    "import matplotlib.pyplot as plt\n",
    "import dynex\n",
    "import dimod"
   ]
  },
  {
   "cell_type": "markdown",
   "id": "cdc6761b",
   "metadata": {},
   "source": [
    "我们创建了一些辅助函数来根据网格的宽度和高度以及兴趣点的数量和现有充电站的数量来设置场景："
   ]
  },
  {
   "cell_type": "code",
   "execution_count": 2,
   "id": "d3b9d980",
   "metadata": {},
   "outputs": [],
   "source": [
    "def set_up_scenario(w, h, num_poi, num_cs):\n",
    "    \"\"\"\n",
    "    建立具有指定参数的场景设置。\n",
    "\n",
    "    参数：\n",
    "\n",
    "        w（整数）：网格的宽度\n",
    "        h（整数）：网格的高度\n",
    "        num_poi（整数）：感兴趣点的数量\n",
    "        num_cs（整数）：现有充电站的数量\n",
    "    返回值：\n",
    "\n",
    "        G（networkx图）：大小为w乘以h的网格图\n",
    "        pois（整数元组列表）：一组固定的感兴趣点\n",
    "        charging_stations（整数元组列表）：当前充电位置的集合\n",
    "        potential_new_cs_nodes（整数元组列表）：潜在的新充电位置\n",
    "    \"\"\"\n",
    "\n",
    "    G = nx.grid_2d_graph(w, h)\n",
    "    nodes = list(G.nodes)\n",
    "\n",
    "    # 确定一个固定的感兴趣点集合\n",
    "    pois = random.sample(nodes, k=num_poi)\n",
    "\n",
    "    # 确定一组固定的当前充电位置\n",
    "    charging_stations = random.sample(nodes, k=num_cs)\n",
    "\n",
    "    # 确定潜在的新充电位置\n",
    "    potential_new_cs_nodes = list(G.nodes() - charging_stations)\n",
    "\n",
    "    return G, pois, charging_stations, potential_new_cs_nodes"
   ]
  },
  {
   "cell_type": "markdown",
   "id": "34f452ad",
   "metadata": {},
   "source": [
    "The distance function returns the distance between two coordinates:"
   ]
  },
  {
   "cell_type": "code",
   "execution_count": 3,
   "id": "50f21d9b",
   "metadata": {},
   "outputs": [],
   "source": [
    "def distance(a, b):\n",
    "    return (a[0]**2 - 2*a[0]*b[0] + b[0]**2) + (a[1]**2 - 2*a[1]*b[1] + b[1]**2)"
   ]
  },
  {
   "cell_type": "markdown",
   "id": "789e1ead",
   "metadata": {},
   "source": [
    "The following function builds a binary quadratic model (bqm) from our problem scenario:"
   ]
  },
  {
   "cell_type": "code",
   "execution_count": 4,
   "id": "af54583d",
   "metadata": {},
   "outputs": [],
   "source": [
    "def build_bqm(potential_new_cs_nodes, num_poi, pois, num_cs, charging_stations, num_new_cs):\n",
    "    \"\"\"\n",
    "    构建模拟我们问题场景的BQM（二进制二次模型）\n",
    "\n",
    "    参数：\n",
    "\n",
    "        potential_new_cs_nodes（整数元组列表）：潜在的新充电位置\n",
    "        num_poi（整数）：感兴趣点的数量\n",
    "        pois（整数元组列表）：一组固定的感兴趣点\n",
    "        num_cs（整数）：现有充电站的数量\n",
    "        charging_stations（整数元组列表）：当前充电位置的集合\n",
    "        num_new_cs（整数）：所需的新充电站数量\n",
    "    返回值：\n",
    "\n",
    "        bqm_np（BinaryQuadraticModel）：输入场景的QUBO模型\n",
    "    \"\"\"\n",
    "\n",
    "    # 可调参数\n",
    "    gamma1 = len(potential_new_cs_nodes) * 4\n",
    "    gamma2 = len(potential_new_cs_nodes) / 3\n",
    "    gamma3 = len(potential_new_cs_nodes) * 1.7\n",
    "    gamma4 = len(potential_new_cs_nodes) ** 3\n",
    "\n",
    "    # 使用邻接向量（adjVectors）构建BQM，以找到最佳的新充电位置，以满足最小化条件。\n",
    "    # 距离感兴趣点的最小距离和距离现有充电位置的最大距离。\n",
    "    bqm = dimod.BinaryQuadraticModel(len(potential_new_cs_nodes), 'BINARY')\n",
    "\n",
    "    # 约束1：感兴趣点的最小平均距离\n",
    "    if num_poi > 0:\n",
    "        for i in range(len(potential_new_cs_nodes)):\n",
    "            # 计算从此节点到感兴趣点的平均距离\n",
    "            cand_loc = potential_new_cs_nodes[i]\n",
    "            avg_dist = sum(distance(cand_loc, loc) for loc in pois) / num_poi\n",
    "            bqm.linear[i] += avg_dist * gamma1\n",
    "\n",
    "    # 约束2：距离现有充电器的最大距离\n",
    "    if num_cs > 0:\n",
    "        for i in range(len(potential_new_cs_nodes)):\n",
    "            # 计算从该节点到感兴趣点的平均距离。\n",
    "            cand_loc = potential_new_cs_nodes[i]\n",
    "            avg_dist = -sum(distance(cand_loc, loc)\n",
    "                            for loc in charging_stations) / num_cs\n",
    "            bqm.linear[i] += avg_dist * gamma2\n",
    "\n",
    "    # 约束3：距离其他新充电站的最大距离。\n",
    "    if num_new_cs > 1:\n",
    "        for i in range(len(potential_new_cs_nodes)):\n",
    "            for j in range(i+1, len(potential_new_cs_nodes)):\n",
    "                ai = potential_new_cs_nodes[i]\n",
    "                aj = potential_new_cs_nodes[j]\n",
    "                dist = -distance(ai, aj)\n",
    "                bqm.add_interaction(i, j, dist * gamma3)\n",
    "\n",
    "    # 约束4：选择正好num_new_cs个新充电位置\n",
    "    bqm.update(dimod.generators.combinations(bqm.variables, num_new_cs, strength=gamma4))\n",
    "\n",
    "    return bqm"
   ]
  },
  {
   "cell_type": "markdown",
   "id": "cd1f8e51",
   "metadata": {},
   "source": [
    "Next we define a function to retrieve the results in the terminal output:"
   ]
  },
  {
   "cell_type": "code",
   "execution_count": 5,
   "id": "719805a4",
   "metadata": {},
   "outputs": [],
   "source": [
    "def printout_solution_to_cmdline(pois, num_poi, charging_stations, num_cs, new_charging_nodes, num_new_cs):\n",
    "    \"\"\"\n",
    "    将解决方案统计信息打印到命令行。\n",
    "\n",
    "    参数：\n",
    "\n",
    "        pois（整数元组列表）：一组固定的感兴趣点\n",
    "        num_poi（整数）：感兴趣点的数量\n",
    "        charging_stations（整数元组列表）：一组固定的当前充电位置\n",
    "        num_cs（整数）：现有充电站的数量\n",
    "        new_charging_nodes（整数元组列表）：新充电站的位置\n",
    "        num_new_cs（整数）：所需的新充电站数量\n",
    "    返回值：\n",
    "\n",
    "        无。\n",
    "    \"\"\"\n",
    "\n",
    "    print(\"\\nSolution returned: \\n------------------\")\n",
    "\n",
    "    print(\"\\nNew charging locations:\\t\\t\\t\\t\", new_charging_nodes)\n",
    "\n",
    "    if num_poi > 0:\n",
    "        poi_avg_dist = [0] * len(new_charging_nodes)\n",
    "        for loc in pois:\n",
    "            for i, new in enumerate(new_charging_nodes):\n",
    "                poi_avg_dist[i] += sum(abs(a - b) for a, b in zip(new, loc)) / num_poi\n",
    "        print(\"Average distance to POIs:\\t\\t\\t\", poi_avg_dist)\n",
    "\n",
    "    if num_cs > 0:\n",
    "        old_cs_avg_dist = [sum(abs(a - b) for a, b in zip(new, loc) for loc in charging_stations) / num_cs for new in new_charging_nodes]\n",
    "        print(\"Average distance to old charging stations:\\t\", old_cs_avg_dist)\n",
    "\n",
    "    if num_new_cs > 1:\n",
    "        new_cs_dist = 0\n",
    "        for i in range(num_new_cs):\n",
    "            for j in range(i+1, num_new_cs):\n",
    "                new_cs_dist += abs(new_charging_nodes[i][0]-new_charging_nodes[j][0])+abs(new_charging_nodes[i][1]-new_charging_nodes[j][1])\n",
    "        print(\"Distance between new chargers:\\t\\t\\t\", new_cs_dist)"
   ]
  },
  {
   "cell_type": "markdown",
   "id": "2bbd8bd0",
   "metadata": {},
   "source": [
    "We also want to create an output image of the solution scenario. Black nodes represent available space, red nodes the current charger locations, nodes marked \"P\" the Point of Interest (POI) locations and finally blue nodes the new charger locations:"
   ]
  },
  {
   "cell_type": "code",
   "execution_count": 6,
   "id": "e6e5ec4b",
   "metadata": {},
   "outputs": [],
   "source": [
    "def save_output_image(G, pois, charging_stations, new_charging_nodes):\n",
    "    \"\"\" \n",
    "    \n",
    "    创建解决方案场景的输出图像。\n",
    "\n",
    "        黑色节点：可用空间\n",
    "        红色节点：当前充电器位置\n",
    "        标有 'P' 的节点：POI 位置\n",
    "        蓝色节点：新充电站位置\n",
    "    参数：\n",
    "\n",
    "        G（networkx图）：大小为w乘以h的网格图\n",
    "        pois（整数元组列表）：一组固定的感兴趣点\n",
    "        charging_stations（整数元组列表）：一组固定的当前充电位置\n",
    "        new_charging_nodes（整数元组列表）：新充电站的位置\n",
    "    返回值：\n",
    "\n",
    "        无。输出保存到文件 \"map.png\"。\n",
    "        \n",
    "    \"\"\"\n",
    "\n",
    "    fig, (ax1, ax2) = plt.subplots(1, 2)\n",
    "    fig.suptitle('New EV Charger Locations')\n",
    "    pos = {x: [x[0],x[1]] for x in G.nodes()}\n",
    "\n",
    "    # 在地图上标识感兴趣点（POIs）\n",
    "    poi_graph = G.subgraph(pois)\n",
    "    poi_labels = {x: 'P' for x in poi_graph.nodes()}\n",
    "\n",
    "    # 在地图上标识旧的充电站。\n",
    "    cs_graph = G.subgraph(charging_stations)\n",
    "\n",
    "    # 在地图上将旧的充电站定位在感兴趣点（POIs）处。\n",
    "    poi_cs_list = set(pois) - (set(pois)-set(charging_stations))\n",
    "    poi_cs_graph = G.subgraph(poi_cs_list)\n",
    "    poi_cs_labels = {x: 'P' for x in poi_graph.nodes()}\n",
    "\n",
    "    # 绘制旧地图（左侧图像）。\n",
    "    nx.draw_networkx(G, ax=ax1, pos=pos, with_labels=False, node_color='k', font_color='w')\n",
    "    nx.draw_networkx(poi_graph, ax=ax1, pos=pos, with_labels=True,\n",
    "                        labels=poi_labels, node_color='k', font_color='w')\n",
    "    nx.draw_networkx(cs_graph, ax=ax1, pos=pos, with_labels=False, node_color='r',\n",
    "                        font_color='k')\n",
    "    nx.draw_networkx(poi_cs_graph, ax=ax1, pos=pos, with_labels=True,\n",
    "                        labels=poi_cs_labels, node_color='r', font_color='w')\n",
    "\n",
    "    # 绘制新地图（右侧图像）\n",
    "    new_cs_graph = G.subgraph(new_charging_nodes)\n",
    "    nx.draw_networkx(G, ax=ax2, pos=pos, with_labels=False, node_color='k',\n",
    "                        font_color='w')\n",
    "    nx.draw_networkx(poi_graph, ax=ax2, pos=pos, with_labels=True,\n",
    "                        labels=poi_labels,node_color='k', font_color='w')\n",
    "    nx.draw_networkx(cs_graph, ax=ax2, pos=pos, with_labels=False, node_color='r',\n",
    "                        font_color='k')\n",
    "    nx.draw_networkx(poi_cs_graph, ax=ax2, pos=pos, with_labels=True,\n",
    "                        labels=poi_cs_labels,  node_color='r', font_color='w')\n",
    "    nx.draw_networkx(new_cs_graph, ax=ax2, pos=pos, with_labels=False,\n",
    "                        node_color='#00b4d9', font_color='w')\n",
    "\n",
    "    # 保存图像\n",
    "    plt.savefig(\"map.png\")"
   ]
  },
  {
   "cell_type": "markdown",
   "id": "cb637036",
   "metadata": {},
   "source": [
    "## 设置参数"
   ]
  },
  {
   "cell_type": "markdown",
   "id": "84445343",
   "metadata": {},
   "source": [
    "在我们的示例中，我们定义一个尺寸为15 x 15的网格，包含三个感兴趣点（POI）。我们还放置了四个现有的充电站，并希望确定两个新的充电站："
   ]
  },
  {
   "cell_type": "code",
   "execution_count": 7,
   "id": "5932c423",
   "metadata": {},
   "outputs": [],
   "source": [
    "w = 15 # 网格的宽度\n",
    "h = 15 # 网格的高度\n",
    "num_poi = 3 # 感兴趣点的数量\n",
    "num_cs = 4 # 现有充电站的数量\n",
    "num_new_cs = 2 # 要放置的新充电站数量"
   ]
  },
  {
   "cell_type": "markdown",
   "id": "966badba",
   "metadata": {},
   "source": [
    "然后我们构建了城市的大型网格图："
   ]
  },
  {
   "cell_type": "code",
   "execution_count": 8,
   "id": "3906fc5f",
   "metadata": {},
   "outputs": [],
   "source": [
    "# 构建城市的大型网格图。\n",
    "G, pois, charging_stations, potential_new_cs_nodes = set_up_scenario(w, h, num_poi, num_cs)"
   ]
  },
  {
   "cell_type": "markdown",
   "id": "e4abb4de",
   "metadata": {},
   "source": [
    "然后调用函数构建BQM："
   ]
  },
  {
   "cell_type": "code",
   "execution_count": 9,
   "id": "27f5237e",
   "metadata": {},
   "outputs": [],
   "source": [
    "# 构建 BQM\n",
    "bqm = build_bqm(potential_new_cs_nodes, num_poi, pois, num_cs, charging_stations, num_new_cs)"
   ]
  },
  {
   "cell_type": "markdown",
   "id": "813ee6dd",
   "metadata": {},
   "source": [
    "要在Dynex神经形态计算平台上运行BQM，我们创建Dynex采样器："
   ]
  },
  {
   "cell_type": "code",
   "execution_count": 10,
   "id": "4208a5e2",
   "metadata": {},
   "outputs": [
    {
     "name": "stdout",
     "output_type": "stream",
     "text": [
      "[DYNEX] MODEL CONVERTED TO QUBO\n",
      "[ÐYNEX] PRECISION CUT FROM 1000.0 TO 1\n",
      "[DYNEX] PRECISION SET TO 1\n",
      "[DYNEX] QUBO: Constant offset of the binary quadratic model: 43175444.0\n"
     ]
    }
   ],
   "source": [
    "# 在Dynex上运算\n",
    "model = dynex.BQM(bqm);\n",
    "sampler = dynex.DynexSampler(model);"
   ]
  },
  {
   "cell_type": "markdown",
   "id": "e09041b8",
   "metadata": {},
   "source": [
    "我们将模型提交到Dynex平台，并指定在100个积分步骤之后从1024个Dynex芯片中读取数据："
   ]
  },
  {
   "cell_type": "code",
   "execution_count": 11,
   "id": "a3559fc9",
   "metadata": {},
   "outputs": [
    {
     "name": "stdout",
     "output_type": "stream",
     "text": [
      "[DYNEX|508] 0.29s #workers: 1 #chips: 1024 #steps: 100 global falsified softs: 220 global energy: 7097678632.0\n",
      "[DYNEX] FINISHED READ AFTER 0.29 SECONDS\n",
      "[DYNEX] SAMPLESET LOADED\n",
      "[DYNEX] MALLOB: JOB UPDATED: 508\n"
     ]
    }
   ],
   "source": [
    "sampleset = sampler.sample(num_reads=1024, annealing_time = 100);\n",
    "ss = sampler.dimod_assignments.first.sample;"
   ]
  },
  {
   "cell_type": "markdown",
   "id": "854e9bc1",
   "metadata": {},
   "source": [
    "具有最低能量的样本被存储在变量 'ss' 中，现在我们将其应用："
   ]
  },
  {
   "cell_type": "code",
   "execution_count": 12,
   "id": "b128ff6d",
   "metadata": {},
   "outputs": [],
   "source": [
    "new_charging_nodes = [potential_new_cs_nodes[k] for k, v in ss.items() if v == 1]"
   ]
  },
  {
   "cell_type": "markdown",
   "id": "03500f12",
   "metadata": {},
   "source": [
    "我们打印并绘制要放置的新充电站的结果："
   ]
  },
  {
   "cell_type": "code",
   "execution_count": 13,
   "id": "0435aa14",
   "metadata": {},
   "outputs": [
    {
     "name": "stdout",
     "output_type": "stream",
     "text": [
      "\n",
      "Solution returned: \n",
      "------------------\n",
      "\n",
      "New charging locations:\t\t\t\t [(11, 5), (3, 8)]\n",
      "Average distance to POIs:\t\t\t [9.666666666666666, 10.0]\n",
      "Average distance to old charging stations:\t [10.0, 15.0]\n",
      "Distance between new chargers:\t\t\t 11\n"
     ]
    }
   ],
   "source": [
    "# 将结果打印到命令行供用户查看。\n",
    "printout_solution_to_cmdline(pois, num_poi, charging_stations, num_cs, new_charging_nodes, num_new_cs)"
   ]
  },
  {
   "cell_type": "code",
   "execution_count": 14,
   "id": "9108a069",
   "metadata": {},
   "outputs": [
    {
     "data": {
      "image/png": "[encoded data removed]",
      "text/plain": [
       "<Figure size 432x288 with 2 Axes>"
      ]
     },
     "metadata": {},
     "output_type": "display_data"
    }
   ],
   "source": [
    "# 创建场景输出图像\n",
    "save_output_image(G, pois, charging_stations, new_charging_nodes)"
   ]
  },
  {
   "cell_type": "markdown",
   "id": "6c5bd67d",
   "metadata": {},
   "source": [
    "## 参考文献"
   ]
  },
  {
   "cell_type": "markdown",
   "id": "1063cc65",
   "metadata": {},
   "source": [
    "[1] Pagany, Raphaela, Anna Marquardt, and Roland Zink. \"《电动汽车充电需求位置模型—基于用户和目的地的电动汽车充电站定位方法》\" Sustainability 11.8 (2019): 2301. https://doi.org/10.3390/su11082301"
   ]
  },
  {
   "cell_type": "code",
   "execution_count": null,
   "outputs": [],
   "source": [],
   "metadata": {
    "collapsed": false
   },
   "id": "130a89ed7aa1a192"
  }
 ],
 "metadata": {
  "kernelspec": {
   "display_name": "Python 3",
   "language": "python",
   "name": "python3"
  },
  "language_info": {
   "codemirror_mode": {
    "name": "ipython",
    "version": 3
   },
   "file_extension": ".py",
   "mimetype": "text/x-python",
   "name": "python",
   "nbconvert_exporter": "python",
   "pygments_lexer": "ipython3",
   "version": "3.8.8"
  }
 },
 "nbformat": 4,
 "nbformat_minor": 5
}
