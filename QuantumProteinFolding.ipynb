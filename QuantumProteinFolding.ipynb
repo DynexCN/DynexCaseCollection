{
 "cells": [
  {
   "cell_type": "markdown",
   "metadata": {},
   "source": [
    "# 量子蛋白质折叠"
   ]
  },
  {
   "cell_type": "markdown",
   "metadata": {},
   "source": [
    "蛋白质折叠是蛋白质链从简单的氨基酸序列获得其功能性三维结构的物理过程。这种折叠是在氨基酸和周围环境之间的相互作用的引导下自发发生的，这决定了蛋白质的最终形状。正确的折叠对于蛋白质的功能至关重要，因为错误折叠可能导致阿尔茨海默氏症和帕金森氏症等疾病。"
   ]
  },
  {
   "cell_type": "code",
   "execution_count": 1,
   "metadata": {},
   "outputs": [],
   "source": [
    "import matplotlib.lines as mlines\n",
    "import dimod\n",
    "import matplotlib.pyplot as plt\n",
    "import dynex"
   ]
  },
  {
   "cell_type": "code",
   "execution_count": 8,
   "metadata": {},
   "outputs": [
    {
     "name": "stdout",
     "output_type": "stream",
     "text": [
      "[DYNEX] SAMPLER INITIALISED\n",
      "[DYNEX|TESTNET] *** WAITING FOR READS ***\n",
      "╭────────────┬─────────────┬───────────┬───────────────────────────┬─────────┬─────────┬────────────────╮\n",
      "│   DYNEXJOB │   BLOCK FEE │ ELAPSED   │ WORKERS READ              │ CHIPS   │ STEPS   │ GROUND STATE   │\n",
      "├────────────┼─────────────┼───────────┼───────────────────────────┼─────────┼─────────┼────────────────┤\n",
      "│         -1 │           0 │           │ *** WAITING FOR READS *** │         │         │                │\n",
      "╰────────────┴─────────────┴───────────┴───────────────────────────┴─────────┴─────────┴────────────────╯\n",
      "\n",
      "[DYNEX] FINISHED READ AFTER 0.00 SECONDS\n",
      "[DYNEX] SAMPLESET READY\n",
      "  x_0_0_0 x_0_0_2 x_0_1_1 x_0_1_3 x_0_2_0 x_0_2_2 ... x_6_3_3 energy num_oc.\n",
      "0       0       0       0       0       0       0 ...       0  -28.0       1\n",
      "['BINARY', 1 rows, 1 samples, 56 variables]\n"
     ]
    },
    {
     "data": {
      "text/plain": [
       "{0: (3, 3), 1: (3, 2), 2: (3, 1), 3: (2, 1), 4: (2, 0), 5: (1, 0), 6: (0, 0)}"
      ]
     },
     "execution_count": 8,
     "metadata": {},
     "output_type": "execute_result"
    }
   ],
   "source": [
    "# 蛋白质序列和网格尺寸\n",
    "sequence = \"PPHPPHP\" # HP = 7\n",
    "\n",
    "N = len(sequence)\n",
    "L = (len(sequence) // 2) + 1  # 设定 5x5 网格\n",
    "\n",
    "# 为每个网格点的每个珠子创建二进制变量（棋盘图案）\n",
    "variables = {(i, j, k): f\"x_{i}_{j}_{k}\" for i in range(N) for j in range(L) for k in range(L)\n",
    "             if (j + k) % 2 == i % 2}  # 基于珠索引的偶数/奇数站点放置\n",
    "\n",
    "# 定义 HP 模型的交互矩阵\n",
    "def interaction(h1, h2):\n",
    "    return -1 if h1 == 'H' and h2 == 'H' else 0\n",
    "\n",
    "# 初始化QUBO字典\n",
    "Q = {}\n",
    "\n",
    "# 添加 HP 能量术语\n",
    "for f in range(N):\n",
    "    for fp in range(f + 2, N):  # 确保按顺序排列不相邻\n",
    "        if interaction(sequence[f], sequence[fp]) != 0:\n",
    "            for j in range(L):\n",
    "                for k in range(L):\n",
    "                    for jp in range(L):\n",
    "                        for kp in range(L):\n",
    "                            if abs(j - jp) + abs(k - kp) == 1:  # 相邻的网格\n",
    "                                if (j + k) % 2 == f % 2 and (jp + kp) % 2 == fp % 2:  # 正确的站点\n",
    "                                    pair = (variables[f, j, k], variables[fp, jp, kp])\n",
    "                                    if pair in Q:\n",
    "                                        Q[pair] += interaction(sequence[f], sequence[fp])\n",
    "                                    else:\n",
    "                                        Q[pair] = interaction(sequence[f], sequence[fp])\n",
    "\n",
    "# 确保每个珠子恰好放置在一个位置的约束\n",
    "for i in range(N):\n",
    "    for j in range(L):\n",
    "        for k in range(L):\n",
    "            if (j + k) % 2 == i % 2:\n",
    "                one_site = [variables[i, jp, kp] for jp in range(L) for kp in range(L) if (jp + kp) % 2 == i % 2 and (jp, kp) != (j, k)]\n",
    "                for var in one_site:\n",
    "                    Q[(variables[i, j, k], var)] = Q.get((variables[i, j, k], var), 0) + 2  # 位于多个位置的二次惩罚\n",
    "\n",
    "# 增强的自我回避约束\n",
    "for j in range(L):\n",
    "    for k in range(L):\n",
    "        beads = [variables[i, j, k] for i in range(N) if (i, j, k) in variables]\n",
    "        if len(beads) > 1:  # 仅当不止一个点可以占据该位置时才需要\n",
    "            for b1 in range(len(beads)):\n",
    "                for b2 in range(b1 + 1, len(beads)):\n",
    "                    Q[(beads[b1], beads[b2])] = Q.get((beads[b1], beads[b2]), 0) + 10  # 显着增加重叠惩罚\n",
    "\n",
    "# 添加连续节点之间的连接约束，并增加惩罚\n",
    "for i in range(N - 1):\n",
    "    for j in range(L):\n",
    "        for k in range(L):\n",
    "            if (j + k) % 2 == i % 2:  # 基于珠索引的偶数或奇数位点\n",
    "                possible_next_positions = [(jp, kp) for jp in range(L) for kp in range(L)\n",
    "                                           if abs(j - jp) + abs(k - kp) == 1 and (jp + kp) % 2 == (i + 1) % 2]\n",
    "                if possible_next_positions:  # 确保有可能的职位\n",
    "                    next_bead_vars = [variables[i + 1, jp, kp] for jp, kp in possible_next_positions]\n",
    "                    # 如果不相邻，则施加更强的惩罚\n",
    "                    for next_var in next_bead_vars:\n",
    "                        Q[(variables[i, j, k], next_var)] = Q.get((variables[i, j, k], next_var), 0) - 3  # 吸引力为负\n",
    "\n",
    "\n",
    "\n",
    "# 创建二元二次模型\n",
    "bqm = dimod.BinaryQuadraticModel.from_qubo(Q)\n",
    "\n",
    "# ------------- Dynex -------------\n",
    "model = dynex.BQM(bqm)\n",
    "sampler = dynex.DynexSampler(model, mainnet=False, description='Quantum Protein Folding')\n",
    "sampleset = sampler.sample(num_reads=1000, annealing_time=100, debugging=False)\n",
    "print(sampleset)\n",
    "\n",
    "lowest_energy_sample = sampleset.first.sample\n",
    "\n",
    "# 从最低能量样本中的变量名称中提取珠子的位置\n",
    "positions = {}\n",
    "for variable_name, value in lowest_energy_sample.items():\n",
    "    if value == 1:\n",
    "        # 变量名格式为“x_i_j_k”，我们需要提取i,j,k\n",
    "        parts = variable_name.split('_')\n",
    "        i = int(parts[1])\n",
    "        j = int(parts[2])\n",
    "        k = int(parts[3])\n",
    "        positions[i] = (j, k)\n",
    "\n",
    "positions"
   ]
  },
  {
   "cell_type": "code",
   "execution_count": 5,
   "metadata": {},
   "outputs": [
    {
     "data": {
      "image/png": "[encoded data removed]",
      "text/plain": [
       "<Figure size 1000x700 with 1 Axes>"
      ]
     },
     "metadata": {},
     "output_type": "display_data"
    }
   ],
   "source": [
    "# 创建一个陷阱\n",
    "fig, ax = plt.subplots(figsize=(10, 7))\n",
    "ax.set_xlim(-0.5, 4.5)\n",
    "ax.set_ylim(-0.5, 4.5)\n",
    "ax.set_xticks(range(L+1))\n",
    "ax.set_yticks(range(L+1))\n",
    "ax.grid(True)\n",
    "\n",
    "# 定义疏水性 (H) 和极性 (P) 珠子的颜色\n",
    "colors = {'H': 'blue', 'P': 'red'}\n",
    "\n",
    "# 绘制序列中的每个珠子并用线连接\n",
    "for index in range(len(positions)):\n",
    "    j, k = positions[index]\n",
    "    color = colors[sequence[index]]\n",
    "    ax.plot(j, k, 'o', markersize=12, color=color)  # 陷阱位置\n",
    "    ax.text(j, k, f'{index}', color='white', ha='center', va='center')  # 标记点\n",
    "\n",
    "    # 在连续的点之间画线\n",
    "    if index > 0:\n",
    "        prev_j, prev_k = positions[index - 1]\n",
    "        ax.plot([prev_j, j], [prev_k, k], color='black') \n",
    "hydrophobic_legend = mlines.Line2D([], [], color='blue', marker='o',\n",
    "                                   markersize=10, label='Hydrophobic (H)', linestyle='None')\n",
    "polar_legend = mlines.Line2D([], [], color='red', marker='o',\n",
    "                             markersize=10, label='Polar (P)', linestyle='None')\n",
    "ax.legend(handles=[hydrophobic_legend, polar_legend])\n",
    "ax.set_xlabel('Grid x-coordinate')\n",
    "ax.set_ylabel('Grid y-coordinate')\n",
    "ax.set_title('Quantum Protein Folding for HP = 7 ('+sequence+')')\n",
    "plt.show()"
   ]
  }
 ],
 "metadata": {
  "kernelspec": {
   "display_name": "Python 3 (ipykernel)",
   "language": "python",
   "name": "python3"
  },
  "language_info": {
   "codemirror_mode": {
    "name": "ipython",
    "version": 3
   },
   "file_extension": ".py",
   "mimetype": "text/x-python",
   "name": "python",
   "nbconvert_exporter": "python",
   "pygments_lexer": "ipython3",
   "version": "3.10.12"
  }
 },
 "nbformat": 4,
 "nbformat_minor": 4
}
