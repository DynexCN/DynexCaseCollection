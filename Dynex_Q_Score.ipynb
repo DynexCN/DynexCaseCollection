{
 "cells": [
  {
   "cell_type": "markdown",
   "id": "dab9797a-d695-430d-9345-801697b584db",
   "metadata": {},
   "source": [
    "# Dynex' Q分数（Q-Score）"
   ]
  },
  {
   "cell_type": "markdown",
   "id": "1251659e-5210-4332-bb62-437268079178",
   "metadata": {},
   "source": [
    "Q-分数（Q-score）用于衡量运行代表性量子应用程序的效率，系统处理实际问题的效果，而不是其理论或物理性能。[1]。Dynex神经形态计算平台的Q-分数计算是基于Atos的官方包来测量Q-分数的[2]。"
   ]
  },
  {
   "cell_type": "markdown",
   "id": "1ea4a16a-07e9-40dc-8a3b-c18a6f3bebd6",
   "metadata": {},
   "source": [
    "在“评估量子退火器的Q-Score”一文中，Ward van der Schoot等人计算了一系列D-Wave量子设备、经典算法和混合量子-经典系统的Q-Score。公共的Q-Score软件包[2]已被用于生成Dynex Neuromorphic Computing Platform的Q-Score。"
   ]
  },
  {
   "cell_type": "code",
   "execution_count": 17,
   "id": "ce9c9138-5168-49a6-953b-69dd0c2cd297",
   "metadata": {
    "ExecuteTime": {
     "end_time": "2023-11-04T15:26:04.338614600Z",
     "start_time": "2023-11-04T15:26:04.215937600Z"
    }
   },
   "outputs": [],
   "source": [
    "import dynex\n",
    "import dimod\n",
    "from pyqubo import Array"
   ]
  },
  {
   "cell_type": "markdown",
   "id": "e3d50bf1-174a-49a2-8e4a-4b38d755e3b9",
   "metadata": {},
   "source": [
    "### Dynex SDK 版本"
   ]
  },
  {
   "cell_type": "code",
   "execution_count": 18,
   "id": "cf95e0fb-fd5e-42ef-a802-eaf70fb5eee7",
   "metadata": {
    "ExecuteTime": {
     "end_time": "2023-11-04T15:26:04.340568400Z",
     "start_time": "2023-11-04T15:26:04.220823700Z"
    }
   },
   "outputs": [
    {
     "data": {
      "text/plain": "'0.1.10'"
     },
     "execution_count": 18,
     "metadata": {},
     "output_type": "execute_result"
    }
   ],
   "source": [
    "dynex.__version__"
   ]
  },
  {
   "cell_type": "code",
   "execution_count": 19,
   "id": "86123acd-6a98-45a6-b1c3-d745633332a1",
   "metadata": {
    "ExecuteTime": {
     "end_time": "2023-11-04T15:26:04.349362800Z",
     "start_time": "2023-11-04T15:26:04.226688200Z"
    }
   },
   "outputs": [],
   "source": [
    "import networkx as nx\n",
    "from collections import defaultdict\n",
    "import numpy as np\n",
    "from datetime import datetime\n",
    "import pickle\n",
    "from dimod import BinaryQuadraticModel, BINARY\n",
    "from tqdm.notebook import tqdm"
   ]
  },
  {
   "cell_type": "markdown",
   "id": "457f81a0-ead4-43da-a291-7248ee193496",
   "metadata": {},
   "source": [
    "## 导入 Q-Score 包"
   ]
  },
  {
   "cell_type": "code",
   "execution_count": 20,
   "id": "f82d4eb3-3d21-4e4a-8fbe-6143292195f9",
   "metadata": {
    "ExecuteTime": {
     "end_time": "2023-11-04T15:26:04.377701500Z",
     "start_time": "2023-11-04T15:26:04.234504400Z"
    }
   },
   "outputs": [],
   "source": [
    "def draw_sampleset(G, sampleset):\n",
    "    \"\"\"\n",
    "    应用'sampleset'绘制图'G'的函数\n",
    "    \"\"\"\n",
    "    lut = sampleset.first.sample\n",
    "\n",
    "    # Interpret best result in terms of nodes and edges\n",
    "    S0 = [node for node in G.nodes if not lut[node]]\n",
    "    S1 = [node for node in G.nodes if lut[node]]\n",
    "    cut_edges = [(u, v) for u, v in G.edges if lut[u]!=lut[v]]\n",
    "    uncut_edges = [(u, v) for u, v in G.edges if lut[u]==lut[v]]\n",
    "\n",
    "    # Display best result\n",
    "    pos = nx.spring_layout(G)\n",
    "    nx.draw_networkx_nodes(G, pos, nodelist=S0, node_color='r')\n",
    "    nx.draw_networkx_nodes(G, pos, nodelist=S1, node_color='c')\n",
    "    nx.draw_networkx_edges(G, pos, edgelist=cut_edges, style='dashdot', alpha=0.5, width=3)\n",
    "    nx.draw_networkx_edges(G, pos, edgelist=uncut_edges, style='solid', width=3)\n",
    "    nx.draw_networkx_labels(G, pos)"
   ]
  },
  {
   "cell_type": "code",
   "execution_count": 21,
   "id": "3d5a0ea1-a0dc-4151-905a-b3ace2586b1c",
   "metadata": {
    "ExecuteTime": {
     "end_time": "2023-11-04T15:26:04.378679200Z",
     "start_time": "2023-11-04T15:26:04.244273600Z"
    }
   },
   "outputs": [],
   "source": [
    "def run_job(size, depth = 1, seed=None, plot=False, strength = 10, generate_random = False, debug = False):\n",
    "    \"\"\"\n",
    "    （重新）实现了Atos的generate_maxcut_job()函数，该函数在job_generation.py中指定。它生成一个给定大小的随机Erdos-Enyi图，将图转换为QUBO公式，返回两组以及切割的数量（=能量基态），以与论文一致。\n",
    "\n",
    "    参数：\n",
    "    -----------\n",
    "    - size (int): 最大切割问题图的大小\n",
    "    - depth (int): 问题的深度\n",
    "    - seed (int): 随机种子\n",
    "    - plot (boolean): 绘制图形\n",
    "    - strength (int): qubo公式边的权重\n",
    "    - generate_random (boolean): 随机分配的实现，可以替代论文中的0.178 * pow(size, 3 / 2)。\n",
    "    \n",
    "    Returns:\n",
    "    --------\n",
    "    - Set 0 (list)\n",
    "    - Set 1 (list)\n",
    "    - maximum_cut result (int)\n",
    "    - random_cut result (int)\n",
    "    \"\"\"\n",
    "    # 创建一个给定大小的Erdos-Renyi图：\n",
    "    G = nx.generators.erdos_renyi_graph(size, 0.5, seed=seed);\n",
    "    if debug:\n",
    "        print('Graph generated. Now constructing Binary Quadratic Model...')\n",
    "    if plot:\n",
    "        nx.draw(G);\n",
    "    \n",
    "    # 将图转换为Qubo：\n",
    "    #Q = defaultdict(int)\n",
    "    # Update Q matrix for every edge in the graph\n",
    "    #for i, j in G.edges:\n",
    "    #    Q[(i,i)]+= -1 * strength;\n",
    "    #    Q[(j,j)]+= -1 * strength;\n",
    "    #    Q[(i,j)]+=  2 * strength;\n",
    "    #bqm = dimod.BinaryQuadraticModel.from_qubo(Q, 0.0);\n",
    "    \n",
    "    # 我们直接构建一个二进制二次模型（更快）：\n",
    "    _bqm = BinaryQuadraticModel.empty(vartype=BINARY);\n",
    "    for i, j in tqdm(G.edges):\n",
    "        _bqm.add_linear(i, -1 * strength);\n",
    "        _bqm.add_linear(j, -1 * strength);\n",
    "        _bqm.add_quadratic(i,j, 2 * strength);\n",
    "        \n",
    "    if debug:\n",
    "        print('BQM generated. Starting sampling...');\n",
    "    \n",
    "    # 在Dynex平台上进行采样：\n",
    "    model = dynex.BQM(_bqm, logging=False);\n",
    "    sampler = dynex.DynexSampler(model, mainnet=False, description='Dynex SDK test', logging=False);\n",
    "    sampleset = sampler.sample(num_reads=500000, annealing_time = 300, debugging=False);\n",
    "    cut = (sampleset.first.energy * -1 ) / strength;\n",
    "    print('Ground state cut = ',cut);\n",
    "    \n",
    "    # 随机 cut?\n",
    "    r_cut = -1;\n",
    "    if generate_random:\n",
    "        random_assignment = list(np.random.randint(0, 2, size))\n",
    "        r_assignment = dimod.SampleSet.from_samples_bqm(random_assignment, _bqm)\n",
    "        r_cut = (r_assignment.first.energy * -1 ) / strength;\n",
    "    \n",
    "    if plot:\n",
    "        draw_sampleset(G, sampleset)\n",
    "    \n",
    "    return cut, r_cut\n",
    "    "
   ]
  },
  {
   "cell_type": "code",
   "execution_count": 22,
   "id": "76662e8c-221a-42cd-be41-0eebb5858884",
   "metadata": {
    "ExecuteTime": {
     "end_time": "2023-11-04T15:26:04.378679200Z",
     "start_time": "2023-11-04T15:26:04.248183300Z"
    }
   },
   "outputs": [],
   "source": [
    "_NB_INSTANCES_PER_SIZE = 5 #100\n",
    "_INITIAL_SIZE = 5\n",
    "_DEFAULT_SIZE_LIMIT = 20\n",
    "_DEFAULT_DEPTH = 1\n",
    "_DEFAULT_OUT_FILE = \"out.csv\"\n",
    "_DEFAULT_RAW_FILE = \"out.raw\"\n",
    "beta = 0.2\n",
    "seed = 1234"
   ]
  },
  {
   "cell_type": "code",
   "execution_count": 23,
   "id": "b0345f1c-e289-4ec9-8965-88f06ef8f27e",
   "metadata": {
    "ExecuteTime": {
     "end_time": "2023-11-04T15:26:04.378679200Z",
     "start_time": "2023-11-04T15:26:04.255023600Z"
    }
   },
   "outputs": [],
   "source": [
    "_INTRO = \"\"\"=== Running Q-score benchmark | {date} ===\n",
    "Instances size:    {init_size} -- {final_size}\n",
    "Beta:              {beta}\n",
    "Ansatz depth:      {depth}\n",
    "Output file:       {output}\n",
    "Raw output file:   {rawdata}\n",
    "Random seed:       {seed}\n",
    "=================================\"\"\"\n",
    "\n",
    "_HEADER = \"\"\"# Q-Score run | {date}\n",
    "# Instances size:    {init_size} -- {final_size}\n",
    "# Ansatz depth:      {depth}\n",
    "# Beta:              {beta}\n",
    "# Output file:       {output}\n",
    "# Raw output file:   {rawdata}\n",
    "# Random seed:       {seed}\n",
    "# size, avg. score, avg. random score\n",
    "\"\"\""
   ]
  },
  {
   "cell_type": "code",
   "execution_count": 24,
   "id": "bee53368-dfc3-4f13-b221-0921f2501c8b",
   "metadata": {
    "ExecuteTime": {
     "end_time": "2023-11-04T15:26:04.378679200Z",
     "start_time": "2023-11-04T15:26:04.262840Z"
    }
   },
   "outputs": [],
   "source": [
    "def _exhaustive(start_size, end_size):\n",
    "    \"\"\"\n",
    "    迭代遍历域的所有值，直到找到一个负值。\n",
    "    \"\"\"\n",
    "    values = dict()\n",
    "    for index in range(start_size, end_size + 1, 10):\n",
    "        value = yield index\n",
    "        values[index] = value\n",
    "        if value < 0:\n",
    "            if index == start_size:\n",
    "                return False, value, (False, start_size)\n",
    "            return True, values, index - 1\n",
    "    return False, values, (True, max(values), values[max(values)])\n",
    "\n",
    "\n",
    "def _dichotomic(start_size, end_size):\n",
    "    \"\"\"\"\"\"\n",
    "    lower = start_size\n",
    "    upper = end_size\n",
    "    value = yield lower\n",
    "    values = dict()\n",
    "    values[lower] = value\n",
    "    value = yield upper\n",
    "    values[upper] = value\n",
    "\n",
    "    if values[upper] > 0:\n",
    "        return False, values, (True, max(values), values[max(values)])\n",
    "    if values[lower] < 0:\n",
    "        return False, value, (False, start_size)\n",
    "    while True:\n",
    "        if abs(upper - lower) <= 1:\n",
    "            return True, values, lower\n",
    "        next_index = (upper + lower) // 2\n",
    "        values[next_index] = yield next_index\n",
    "        if values[next_index] < 0:\n",
    "            upper = next_index\n",
    "        else:\n",
    "            lower = next_index\n",
    "\n",
    "\n",
    "GENERATORS = {\"exhaustive\": _exhaustive, \"dichotomic\": _dichotomic}"
   ]
  },
  {
   "cell_type": "code",
   "execution_count": 25,
   "id": "9fefd3cb-bf6d-4505-b849-e07bef618835",
   "metadata": {
    "ExecuteTime": {
     "end_time": "2023-11-04T15:26:04.379653900Z",
     "start_time": "2023-11-04T15:26:04.270657100Z"
    }
   },
   "outputs": [],
   "source": [
    "class Driver:\n",
    "    \"\"\"\n",
    "    驱动与迭代器的交互。\n",
    "\n",
    "    论点:\n",
    "        fun(callable): 评估函数，它应该接受一个索引并返回一个分数。\n",
    "        iteration(str): 可选值为 \"exhaustive\" 或 \"dichotomic\"。\n",
    "        start_size(int): 起始大小（即最低索引）。\n",
    "        end_size(int): 结束大小（即最高索引）。\n",
    "    \"\"\"\n",
    "\n",
    "    def __init__(self, fun, iteration, start_size, end_size):\n",
    "        if iteration not in GENERATORS:\n",
    "            raise ValueError(f\"Unknown iteration method {iteration}\")\n",
    "        self.generator = GENERATORS[iteration](start_size, end_size)\n",
    "        self.fun = fun\n",
    "\n",
    "    def run(self):\n",
    "        \"\"\"\n",
    "        运行迭代并返回一个元组，其中包含：\n",
    "        成功状态（True，如果存在一个索引，使得 f(index) > 0 且 f(index + 1) <= 0，否则为 False）\n",
    "        一个包含所有评估点的映射 <index, value>\n",
    "        如果找到，索引，使得 f(index) > 0 且 f(index + 1) <= 0\n",
    "        \"\"\"\n",
    "        index = next(self.generator)\n",
    "        while True:\n",
    "            try:\n",
    "                index = self.generator.send(self.fun(index))\n",
    "            except StopIteration as exp:\n",
    "                return exp.value"
   ]
  },
  {
   "cell_type": "code",
   "execution_count": 26,
   "id": "6e1e9359-daae-4f40-9ee0-3bd146536fea",
   "metadata": {
    "ExecuteTime": {
     "end_time": "2023-11-04T15:26:04.382587800Z",
     "start_time": "2023-11-04T15:26:04.281406400Z"
    }
   },
   "outputs": [],
   "source": [
    "class QScore:\n",
    "    # pylint: disable=too-many-instance-attributes\n",
    "    \"\"\"\n",
    "\n",
    "    论点:\n",
    "        qpu (:class:~qat.core.qpu.QPUHandler): 用于基准测试的 QPU（包括其编译栈）。QPU 应支持变分优化。\n",
    "        initial_size (int, 可选): 尝试的初始实例大小。默认为 5。\n",
    "        size_limit (int, 可选): 试图解决的 MAX-CUT 实例大小限制。实例大小将在 5 到此限制之间变化。默认为 20。\n",
    "        beta (float, 可选): 测试的阈值比率。官方测试使用 20%（0.2）作为阈值。默认为 0.2。\n",
    "        iterator (str, 可选): 要使用的迭代方法（\"exhaustive\" 或 \"dichotomic\"）。默认为 \"dichotomic\"。\n",
    "        depth (int, 可选): 要使用的 QAOA 深度。默认为 1。\n",
    "        output (str, 可选): 用于存储基准测试输出的文件名（以 CSV 格式）。默认为 out.csv。\n",
    "        rawdata (str, 可选): 用于存储基准测试期间执行的所有运行的原始输出的文件名。默认为 out.raw。\n",
    "        seed (int, 可选): 用于生成实例的种子。\n",
    "    \"\"\"\n",
    "\n",
    "    def __init__(\n",
    "        self,\n",
    "        qpu,\n",
    "        size_limit=_DEFAULT_SIZE_LIMIT,\n",
    "        initial_size=_INITIAL_SIZE,\n",
    "        beta=0.2,\n",
    "        iterator= \"exhaustive\", # \"dichotomic\",\n",
    "        depth=_DEFAULT_DEPTH,\n",
    "        output=_DEFAULT_OUT_FILE,\n",
    "        rawdata=_DEFAULT_RAW_FILE,\n",
    "        seed=None,\n",
    "    ):\n",
    "        self._executor = qpu\n",
    "        self._size_limit = size_limit\n",
    "        self._iterator = iterator\n",
    "        self._initial_size = initial_size\n",
    "        self._depth = depth\n",
    "        self._output = output\n",
    "        self._rawdata = rawdata\n",
    "        self._seed = seed if seed is not None else np.random.randint(100000)\n",
    "        self._beta = beta\n",
    "\n",
    "    def run(self):\n",
    "        \"\"\"\n",
    "        运行基准测试。\n",
    "        \"\"\"\n",
    "        date_string = datetime.now().strftime(\"%d/%m/%Y %H:%M:%S\")\n",
    "        print(\n",
    "            _INTRO.format(\n",
    "                date=date_string,\n",
    "                init_size=self._initial_size,\n",
    "                final_size=self._size_limit,\n",
    "                beta=self._beta,\n",
    "                depth=self._depth,\n",
    "                output=self._output,\n",
    "                rawdata=self._rawdata,\n",
    "                seed=self._seed,\n",
    "            )\n",
    "        )\n",
    "        all_data = {}\n",
    "        seed = self._seed\n",
    "        to_output = _HEADER.format(\n",
    "            date=date_string,\n",
    "            init_size=self._initial_size,\n",
    "            beta=self._beta,\n",
    "            final_size=self._size_limit,\n",
    "            depth=self._depth,\n",
    "            output=self._output,\n",
    "            rawdata=self._rawdata,\n",
    "            seed=self._seed,\n",
    "        )\n",
    "\n",
    "        def _evaluate_point(size, seed=seed, to_output=to_output, self=self):\n",
    "            \"\"\"\n",
    "            计算单点的函数。\n",
    "            \"\"\"\n",
    "            print(f\"Running for n={size:2d}.\", end=\" \", flush=True)\n",
    "            scores = []\n",
    "            data = []\n",
    "            for _ in range(_NB_INSTANCES_PER_SIZE):\n",
    "                \n",
    "                #job = generate_maxcut_job(size, self._depth, seed=seed)\n",
    "                #result = self._executor.submit(job)\n",
    "                #result = -cut; # cut is already positive\n",
    "                #scores.append(-result.value)\n",
    "                #data.append({\"seed\": seed, \"score\": -result.value})\n",
    "                #seed += 1\n",
    "                \n",
    "                # 以上内容已被 Dynex 采样函数 run_job 替换。\n",
    "                cut, r_cut = run_job(size, depth = self._depth, seed=None, plot=False, strength = 1000);\n",
    "                scores.append(cut);\n",
    "                data.append({\"seed\": seed, \"score\": cut})\n",
    "                seed += 1\n",
    "                #print('    cut: ', cut)\n",
    "                \n",
    "            average_score = np.mean(scores) - size * (size - 1) / 8\n",
    "            avg_best_score = 0.178 * pow(size, 3 / 2)\n",
    "            print(f\"Score: {average_score:.2f}.\", end=\" \")\n",
    "            print(f\"Random best score: {avg_best_score:.2f}.\", end=\"\\t\")\n",
    "            to_output = f\"{size},{average_score},{avg_best_score}\\n\"\n",
    "            all_data[size] = data\n",
    "            pickle.dump(all_data, open(self._rawdata, \"wb\"))\n",
    "            with open(self._output, \"a\") as fout:\n",
    "                fout.write(to_output)\n",
    "            achieved_ratio = average_score / avg_best_score\n",
    "            if achieved_ratio > self._beta:\n",
    "                print(\"Success.\", \"beta = \",achieved_ratio)\n",
    "            else:\n",
    "                print(\"Fail.\", \"beta = \", achieved_ratio)\n",
    "            return achieved_ratio - self._beta\n",
    "\n",
    "        success, _, info = Driver(_evaluate_point, self._iterator, self._initial_size, self._size_limit).run()\n",
    "        \n",
    "        print('   ', info)\n",
    "\n",
    "        if success:\n",
    "            print(f\"Success. QScore({self._beta}) = {info}\")\n",
    "        else:\n",
    "            if info[0]:\n",
    "                print(f\"Failure. QScore({self._beta}) > {info[1]}\")\n",
    "                print(\"Maybe try to increase the max instance size !\")\n",
    "            else:\n",
    "                print(f\"Failure. QScore({self._beta}) < {info[1]}\")\n"
   ]
  },
  {
   "cell_type": "markdown",
   "id": "4cae0f1b-eb06-4beb-80ae-88322e779ea2",
   "metadata": {},
   "source": [
    "# 运行 Q-Score "
   ]
  },
  {
   "cell_type": "markdown",
   "id": "bbf9c84c-a830-42c9-ae88-4cddc1bf5450",
   "metadata": {},
   "source": [
    "根据论文，Q-Score 被定义为当 beta 低于 0.2 时的大小 'N'。要评估这一点，需要迭代地尝试从 5 到 x 的各种大小。所有运行的结果都存储在 \"out.csv\" 中，也可以用于绘制类似 [1] 中呈现的图表。运行将在达到 beta 低于阈值的情况下返回 'N' 的成功。"
   ]
  },
  {
   "cell_type": "code",
   "execution_count": null,
   "id": "05b1c2f8-e416-4d57-a92d-02bd95e3e942",
   "metadata": {
    "is_executing": true,
    "ExecuteTime": {
     "start_time": "2023-11-04T15:26:04.286294300Z"
    }
   },
   "outputs": [
    {
     "name": "stdout",
     "output_type": "stream",
     "text": [
      "=== Running Q-score benchmark | 04/11/2023 23:26:04 ===\n",
      "Instances size:    5 -- 180\n",
      "Beta:              0.2\n",
      "Ansatz depth:      1\n",
      "Output file:       out.csv\n",
      "Raw output file:   out.raw\n",
      "Random seed:       1234\n",
      "=================================\n",
      "Running for n= 5. "
     ]
    },
    {
     "data": {
      "text/plain": "  0%|          | 0/6 [00:00<?, ?it/s]",
      "application/vnd.jupyter.widget-view+json": {
       "version_major": 2,
       "version_minor": 0,
       "model_id": "ce498947958a40f889de1de04aa17daf"
      }
     },
     "metadata": {},
     "output_type": "display_data"
    }
   ],
   "source": [
    "QScore(None, size_limit = 180, depth = 1, output = 'out.csv', rawdata = 'out.raw', seed = 1234).run()"
   ]
  },
  {
   "cell_type": "markdown",
   "id": "100eba41-7700-4de2-b457-88aa2878fefc",
   "metadata": {},
   "source": [
    "# 绘制结果"
   ]
  },
  {
   "cell_type": "code",
   "execution_count": null,
   "id": "bd8dc031-ce8a-4576-af3f-86fea437471f",
   "metadata": {
    "is_executing": true
   },
   "outputs": [],
   "source": [
    "import pandas as pd\n",
    "import matplotlib.pyplot as plt\n",
    "df = pd.read_csv('out.csv', names = [\"n\",\"score\",\"random_score\"], header = None)\n",
    "df['beta'] = df['score'] / df['random_score']"
   ]
  },
  {
   "cell_type": "code",
   "execution_count": null,
   "id": "5dfe8a1e-26b0-43f7-9962-611fe829dcea",
   "metadata": {
    "is_executing": true
   },
   "outputs": [],
   "source": [
    "plt.figure(figsize=(8,6))\n",
    "plt.bar(df.n,0.05, width=1, bottom=df.beta-0.025, color='#000000')\n",
    "plt.plot(df['n'], df['beta'], linestyle='None', marker='o')\n",
    "plt.title('Dynex Neuromorphic Platform')\n",
    "plt.xlabel('Problem size N')\n",
    "plt.ylabel('Beta')\n",
    "plt.axhline(y = 0.2, color = 'r', linestyle = '--') \n",
    "plt.tight_layout()\n",
    "plt.show()"
   ]
  },
  {
   "cell_type": "markdown",
   "id": "8617b88e-7720-4282-8aa5-c0e08305dcb8",
   "metadata": {},
   "source": [
    "## 参考文献"
   ]
  },
  {
   "cell_type": "markdown",
   "id": "f13fa6ee-5555-423d-b684-f5b340cb2806",
   "metadata": {},
   "source": [
    "[1] Martiel S, Ayral T, Allouche C. 在以应用为中心、硬件无关和可扩展的方式中对量子协处理器进行基准测试。IEEE量子工程交易。2021年6月17日;2:1-1。"
   ]
  },
  {
   "cell_type": "markdown",
   "id": "6c7286fb-2627-4cd5-867f-ce0d93658e40",
   "metadata": {},
   "source": [
    "[2] Atos用于计算Atos Q-Score的软件包：\n",
    "https://github.com/myQLM/qscore/blob/master/qat/qscore/https://github.com/myQLM/qscore/blob/master/qat/qscore/"
   ]
  }
 ],
 "metadata": {
  "kernelspec": {
   "display_name": "Python 3 (ipykernel)",
   "language": "python",
   "name": "python3"
  },
  "language_info": {
   "codemirror_mode": {
    "name": "ipython",
    "version": 3
   },
   "file_extension": ".py",
   "mimetype": "text/x-python",
   "name": "python",
   "nbconvert_exporter": "python",
   "pygments_lexer": "ipython3",
   "version": "3.10.12"
  }
 },
 "nbformat": 4,
 "nbformat_minor": 5
}
