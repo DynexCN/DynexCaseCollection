{
 "cells": [
  {
   "cell_type": "markdown",
   "metadata": {},
   "source": [
    "# CFQRBM图像重建使用基于QRBM的协同过滤。\n",
    "\n",
    "在Dynex神经形态计算平台上使用量子退火，快速而准确地训练协同过滤的受限玻尔兹曼机。"
   ]
  },
  {
   "cell_type": "markdown",
   "metadata": {},
   "source": [
    "基于条纹和条纹数据集"
   ]
  },
  {
   "cell_type": "code",
   "execution_count": null,
   "metadata": {},
   "outputs": [],
   "source": [
    "import numpy as np\n",
    "import timeit\n",
    "import matplotlib.pyplot as plt\n",
    "\n",
    "\n",
    "\n",
    "image_height = 6 \n",
    "image_width = 6 \n",
    "\n",
    "len_x = image_height * image_width\n",
    "len_y = 0\n",
    "\n",
    "f = open(\"datasets/6x6.txt\")\n",
    "data = [[int(data) for data in f.read() if data in \"01\"]]"
   ]
  },
  {
   "cell_type": "code",
   "execution_count": null,
   "metadata": {
    "ExecuteTime": {
     "start_time": "2023-11-04T14:59:37.873963200Z"
    }
   },
   "outputs": [],
   "source": [
    "img = np.array(data).reshape(image_height,-1)\n",
    "plt.imshow(img)"
   ]
  },
  {
   "cell_type": "markdown",
   "metadata": {},
   "source": [
    "## 构建CFQIRBM"
   ]
  },
  {
   "cell_type": "code",
   "execution_count": null,
   "metadata": {
    "ExecuteTime": {
     "start_time": "2023-11-04T14:59:37.875917600Z"
    }
   },
   "outputs": [],
   "source": [
    "\n",
    "\n",
    "from CFQIQRBM.qrbm import QRBM\n",
    "import tqdm\n",
    "\n",
    "bm = QRBM(n_visible=len_x, n_hidden=56)\n",
    "bm.image_height = image_height\n",
    "bm.tqdm = tqdm"
   ]
  },
  {
   "cell_type": "markdown",
   "metadata": {},
   "source": [
    "## 训练CFQIRBM"
   ]
  },
  {
   "cell_type": "code",
   "execution_count": null,
   "metadata": {
    "ExecuteTime": {
     "start_time": "2023-11-04T14:59:37.876894800Z"
    }
   },
   "outputs": [],
   "source": [
    "bm.train(data, len_x, len_y, epochs = 50, num_samps = 1, lr = 1000, decay = 0.01, epochs_to_test = 1, print_training_data=True)"
   ]
  },
  {
   "cell_type": "markdown",
   "metadata": {},
   "source": [
    "参考文献:\n",
    "1. Tijmen Tieleman, ”Training Restricted Boltzmann Machines using Approximations to the Likelihood Gradient”, ICML, 2008.\n",
    "2. Ali Ghodsi, ”Deep Learning - Restricted Boltzmann Machines (RBM)”, 2015.\n",
    "3. Marcello Benedetti, John Realpe-Gomez, Rupak Biswas, Alejandro Perdomo-Ortiz, ”Quantum-Assisted Learning of Hardware-Embedded Probabilistic Graphical Models”, arXiv:1609.02542, 2016.\n",
    "4. Steven H. Adachi, Maxwell P. Henderson, ”Application of Quantum Annealing to Training of Deep Neural Networks”, arXiv:1510.06356, 2015.\n",
    "5. Mohammad H. Amin, Evgeny Andriyash, Jason Rolfe, Bohdan Kulchytskyy, Roger Melko, ”Quantum Boltzmann Machine”. arXiv:1601.02036, 2016.\n",
    "6. Cai, Xianggao, Xu, Zhanpeng, Lai, Guoming, Wu, Chengwei, Lin, Xiaola, ”GPU-Accelerated Restricted Boltzmann Machine for Collaborative Filtering”, 2012.\n",
    "7. Ruslan Salakhutdinov, Andriy Mnih, Geoffrey Hinton, ”Restricted Boltzmann Machines for Collaborative Filtering”, ICML, 2007."
   ]
  }
 ],
 "metadata": {
  "kernelspec": {
   "display_name": "Python 3 (ipykernel)",
   "language": "python",
   "name": "python3"
  },
  "language_info": {
   "codemirror_mode": {
    "name": "ipython",
    "version": 3
   },
   "file_extension": ".py",
   "mimetype": "text/x-python",
   "name": "python",
   "nbconvert_exporter": "python",
   "pygments_lexer": "ipython3",
   "version": "3.10.12"
  }
 },
 "nbformat": 4,
 "nbformat_minor": 4
}
