{
 "cells": [
  {
   "cell_type": "markdown",
   "id": "a4e8cfc7-c6c0-4841-8d6b-289158b5890d",
   "metadata": {},
   "source": [
    "# 使用 Dynex 有效探索苯酚衍生物"
   ]
  },
  {
   "cell_type": "markdown",
   "id": "d09f4568-c75a-4932-837c-5898350542ae",
   "metadata": {},
   "source": [
    "从大量可能的化合物中进行分子筛选是一项具有挑战性的任务。二次无约束二元优化 (QUBO) 求解器的出现提供了解决此问题的替代方案。我们提出了一种通过集成 QUBO 求解器和密度泛函理论 (DFT) 计算来筛选分子的过程。作为概念验证工作，我们将筛选酚类抑制剂的问题映射到 QUBO 模型上。我们通过借助 DFT 计算修改基团贡献法 (GCM)，将 -OH 键的键解离能 (BDE)（良好聚合物抑制剂的指标）近似引入 QUBO 模型。我们证明了该 QUBO 模型与 DFT 数据之间存在很强的相关性，在 85 个给定分子上进行测试时，相关系数和 Spearman 系数分别为 0.82 和 0.86。这种映射使我们能够通过 QUBO 求解器识别候选者，其 BDE 也通过 DFT 计算进行验证。我们的工作为将 GCM 融入 QUBO 求解器以解决分子筛选问题提供了一个有前途的方向。"
   ]
  },
  {
   "cell_type": "markdown",
   "id": "5544e285-2e3e-4538-91ad-a76d5aa99433",
   "metadata": {},
   "source": [
    "https://pubs.acs.org/doi/full/10.1021/acs.iecr.3c03331"
   ]
  },
  {
   "cell_type": "code",
   "execution_count": 44,
   "id": "d29d875a-69d0-4365-a351-b2a20a398a95",
   "metadata": {},
   "outputs": [],
   "source": [
    "from pyqubo import Binary, Constraint, SubH\n",
    "from pyqubo import UnaryEncInteger,LogEncInteger\n",
    "import numpy as np\n",
    "import csv\n",
    "import time\n",
    "import dimod"
   ]
  },
  {
   "cell_type": "code",
   "execution_count": 3,
   "id": "4f504178-35f6-41c7-9ccc-82e0a5d77ef6",
   "metadata": {},
   "outputs": [],
   "source": [
    "def csv_to_matrix(filename, size):\n",
    "    num_rows, num_cols = size\n",
    "    matrix = []\n",
    "    with open(filename, newline='') as csvfile:\n",
    "        reader = csv.reader(csvfile)\n",
    "        for row in reader:\n",
    "            \n",
    "            if len(row) != num_cols:\n",
    "                raise ValueError(\"Number of columns in row does not match expected number of columns\")\n",
    "            matrix_row = []\n",
    "            for value in row:\n",
    "                try:\n",
    "                    matrix_row.append(float(value))\n",
    "                except ValueError:\n",
    "                    matrix_row.append(value)\n",
    "            matrix.append(matrix_row)\n",
    "    if len(matrix) != num_rows:\n",
    "        raise ValueError(\"Number of rows in matrix does not match expected number of rows\")\n",
    "    return matrix"
   ]
  },
  {
   "cell_type": "markdown",
   "id": "a8c8d206-f539-4be1-b845-2ed027536293",
   "metadata": {},
   "source": [
    "## 我们从csv文件中输入通过DFT计算计算出的权重系数"
   ]
  },
  {
   "cell_type": "code",
   "execution_count": 46,
   "id": "538e3b9b-ea91-4c93-8e52-8889ee1183eb",
   "metadata": {},
   "outputs": [],
   "source": [
    "# 在我们的概念验证工作中，有 5 个位点和 11 种不同的分子结构可供选择。\n",
    "num_of_position, num_of_mol = 5,11\n",
    "\n",
    "# 来自一个功能组的贡献。\n",
    "w = csv_to_matrix('phenol-data/0117data_one_functional group.csv', (5,11))\n",
    "\n",
    "# 两个官能团相互作用的贡献\n",
    "W10 = csv_to_matrix('phenol-data/0117data_R1R2_double_functional group.csv', (11,11))\n",
    "W34 = csv_to_matrix('phenol-data/0117data_R1R2_double_functional group.csv', (11,11))\n",
    "W21 = csv_to_matrix('phenol-data/0117data_R2R3_double_functional group.csv', (11,11))\n",
    "W23 = csv_to_matrix('phenol-data/0117data_R2R3_double_functional group.csv', (11,11))\n",
    "\n",
    "# 第二最近邻交互\n",
    "W04 = csv_to_matrix('phenol-data/0117data_R1R5_double_functional group.csv', (11,11))\n",
    "W20 = csv_to_matrix('phenol-data/0117data_R1R3_double_functional group.csv', (11,11))\n",
    "W24 = csv_to_matrix('phenol-data/0117data_R1R3_double_functional group.csv', (11,11))\n",
    "W31 = csv_to_matrix('phenol-data/0117data_R2R4_double_functional group.csv', (11,11))\n",
    "W30 = csv_to_matrix('phenol-data/0117data_R1R4_double_functional group.csv', (11,11))\n",
    "W14 = csv_to_matrix('phenol-data/0117data_R1R4_double_functional group.csv', (11,11))"
   ]
  },
  {
   "cell_type": "markdown",
   "id": "5f661899-8683-4158-955a-001bd6f1d3de",
   "metadata": {},
   "source": [
    "### 这里我们将变量标记为$x_{ij}$，其中$i$标记不同的位点，$j$标记不同的功能组。"
   ]
  },
  {
   "cell_type": "code",
   "execution_count": 11,
   "id": "90ded681-60c6-4546-96ff-1191039bd504",
   "metadata": {},
   "outputs": [],
   "source": [
    "# 创建二进制变量\n",
    "def create_x_vars(num_of_position, num_of_mol):\n",
    "    a = np.ndarray(shape=(num_of_position, num_of_mol), dtype=Binary)\n",
    "    for i in range(num_of_position):\n",
    "        for j in range(num_of_mol):\n",
    "            vars_name = 'x'+str(i)+'_'+str(j)\n",
    "            a[i][j] = Binary(vars_name)\n",
    "    return a"
   ]
  },
  {
   "cell_type": "markdown",
   "id": "53d8d67a-bb9c-414a-b4bc-dcb38a6b7cef",
   "metadata": {},
   "source": [
    "### 我们根据权重系数构建目标函数。"
   ]
  },
  {
   "cell_type": "code",
   "execution_count": 12,
   "id": "c2c9edb9-0fda-4134-98b9-30956ef061f9",
   "metadata": {},
   "outputs": [],
   "source": [
    "def create_x_vars_name(num_of_position, num_of_mol):\n",
    "    a0 = np.ndarray(shape=(num_of_position, num_of_mol), dtype=Binary)\n",
    "    a1 = np.ndarray(shape=(num_of_position, num_of_mol), dtype=Binary)\n",
    "    for i in range(num_of_position):\n",
    "        for j in range(num_of_mol):\n",
    "            vars_name = 'x'+str(i)+'_'+str(j)\n",
    "            a1[i][j] = vars_name\n",
    "    return a1"
   ]
  },
  {
   "cell_type": "markdown",
   "id": "62d7ee89-fceb-46b3-a380-dddfa8a0bfc8",
   "metadata": {},
   "source": [
    "## 我们将论文中提到的约束施加到我们的目标函数上。"
   ]
  },
  {
   "cell_type": "code",
   "execution_count": 13,
   "id": "78578606-3cda-41ed-b3f0-aacd9331ae93",
   "metadata": {
    "tags": []
   },
   "outputs": [],
   "source": [
    "# 构造目标函数\n",
    "x = create_x_vars(num_of_position, num_of_mol)\n",
    "summ = 0\n",
    "for i in range(num_of_position):\n",
    "    for j in range(num_of_mol):\n",
    "        summ += w[i][j]*x[i][j]\n",
    "        \n",
    "\n",
    "summ_10 = 0\n",
    "summ_21 = 0\n",
    "summ_23 = 0\n",
    "summ_34 = 0\n",
    "summ_04 = 0\n",
    "\n",
    "summ_20 = 0\n",
    "summ_24 = 0\n",
    "\n",
    "summ_31 = 0\n",
    "summ_30 = 0\n",
    "summ_14 = 0\n",
    "\n",
    "\n",
    "for i in range(1,num_of_mol):\n",
    "    for j in range(1,num_of_mol):\n",
    "        # 最近邻交互\n",
    "        summ_10 += W10[j][i]*x[1][j]*x[0][i]\n",
    "        summ_34 += W34[j][i]*x[3][j]*x[4][i] \n",
    "\n",
    "        summ_21 += W21[j][i]*x[2][j]*x[1][i]  \n",
    "        summ_23 += W23[j][i]*x[2][j]*x[3][i]\n",
    "\n",
    "        summ_04 += W04[j][i]*x[0][j]*x[4][i] \n",
    "\n",
    "        # 第二最近邻交互\n",
    "        summ_20 += W20[j][i]*x[2][j]*x[0][i] \n",
    "        summ_24 += W24[j][i]*x[2][j]*x[4][i]\n",
    "\n",
    "        summ_31 += W31[j][i]*x[3][j]*x[1][i] \n",
    "        summ_30 += W30[j][i]*x[3][j]*x[0][i] \n",
    "        summ_14 += W14[j][i]*x[1][j]*x[4][i]\n",
    "\n",
    "obj = (summ_10 + summ_34 + summ_21 + summ_23 + summ_04 + summ_20 + summ_24 + summ_31 + summ_30 + summ_14 ) + summ  + 87.5"
   ]
  },
  {
   "cell_type": "code",
   "execution_count": 15,
   "id": "d45e078b-7df5-48a7-9060-cdc4e293a3fd",
   "metadata": {
    "tags": []
   },
   "outputs": [
    {
     "name": "stdout",
     "output_type": "stream",
     "text": [
      "87.5\n"
     ]
    }
   ],
   "source": [
    "H = obj\n",
    "H_model = H.compile()\n",
    "H_qubo, offset = H_model.to_qubo()\n",
    "print(offset)"
   ]
  },
  {
   "cell_type": "markdown",
   "id": "20a68976-b321-4060-8a1a-90ce28cb07bd",
   "metadata": {},
   "source": [
    "## 使用 Dynex 寻找 QUBO 模型的低能耗解决方案。"
   ]
  },
  {
   "cell_type": "code",
   "execution_count": 43,
   "id": "83a07af9-8aae-42b0-8ba4-9f54c15ac3e9",
   "metadata": {},
   "outputs": [
    {
     "name": "stdout",
     "output_type": "stream",
     "text": [
      "[DYNEX] PRECISION SET TO 0.001\n",
      "[DYNEX] SAMPLER INITIALISED\n",
      "[DYNEX|TESTNET] *** WAITING FOR READS ***\n",
      "╭────────────┬─────────────┬───────────┬───────────────────────────┬─────────┬─────────┬────────────────╮\n",
      "│   DYNEXJOB │   BLOCK FEE │ ELAPSED   │ WORKERS READ              │ CHIPS   │ STEPS   │ GROUND STATE   │\n",
      "├────────────┼─────────────┼───────────┼───────────────────────────┼─────────┼─────────┼────────────────┤\n",
      "│         -1 │           0 │           │ *** WAITING FOR READS *** │         │         │                │\n",
      "╰────────────┴─────────────┴───────────┴───────────────────────────┴─────────┴─────────┴────────────────╯\n",
      "\n",
      "[DYNEX] FINISHED READ AFTER 0.00 SECONDS\n",
      "[DYNEX] SAMPLESET READY\n",
      "Result:\n",
      "  x0_1 x0_10 x0_2 x0_3 x0_4 x0_5 x0_6 x0_7 x0_8 ... x4_9     energy num_oc.\n",
      "0    0     1    1    1    1    1    1    0    0 ...    0 -152.03753       1\n",
      "['BINARY', 1 rows, 1 samples, 50 variables]\n"
     ]
    }
   ],
   "source": [
    "import dynex\n",
    "sampleset = dynex.sample_qubo(H_qubo, offset, mainnet=True, num_reads=50000, annealing_time = 2000);\n",
    "print('Result:')\n",
    "print(sampleset)"
   ]
  },
  {
   "cell_type": "code",
   "execution_count": 41,
   "id": "964a1e6e-5d39-48b9-bc5f-7cb76b37f5c8",
   "metadata": {},
   "outputs": [],
   "source": [
    "# 从 prometheus_client 导入样本\n",
    "from dimod.views import samples\n",
    "\n",
    "optimal = []\n",
    "for i in samples.sample:\n",
    "    if samples.sample[i]==1:\n",
    "        optimal.append(i)"
   ]
  },
  {
   "cell_type": "code",
   "execution_count": 42,
   "id": "cb8a46c6-a553-4af9-a09a-bd580707dee0",
   "metadata": {},
   "outputs": [
    {
     "name": "stdout",
     "output_type": "stream",
     "text": [
      "The lowest BDE is: -64.53753022400002 kcal/mol\n",
      "with the structure: ['x0_10', 'x0_2', 'x0_3', 'x0_4', 'x0_5', 'x0_6', 'x1_10', 'x1_2', 'x1_5', 'x1_6', 'x1_7', 'x1_9', 'x2_1', 'x2_10', 'x2_2', 'x2_5', 'x2_7', 'x2_9', 'x3_10', 'x3_2', 'x3_5', 'x3_6', 'x3_7', 'x3_9', 'x4_10', 'x4_2', 'x4_3', 'x4_4', 'x4_5', 'x4_6']\n"
     ]
    }
   ],
   "source": [
    "print('The lowest BDE is:',samples.energy+offset, 'kcal/mol')\n",
    "print('with the structure:', optimal)"
   ]
  }
 ],
 "metadata": {
  "kernelspec": {
   "display_name": "Python 3 (ipykernel)",
   "language": "python",
   "name": "python3"
  },
  "language_info": {
   "codemirror_mode": {
    "name": "ipython",
    "version": 3
   },
   "file_extension": ".py",
   "mimetype": "text/x-python",
   "name": "python",
   "nbconvert_exporter": "python",
   "pygments_lexer": "ipython3",
   "version": "3.10.12"
  }
 },
 "nbformat": 4,
 "nbformat_minor": 5
}
