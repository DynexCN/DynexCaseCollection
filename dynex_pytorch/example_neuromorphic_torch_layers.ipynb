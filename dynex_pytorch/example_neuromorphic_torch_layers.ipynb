{
 "cells": [
  {
   "cell_type": "markdown",
   "id": "ba4d0c20-47c5-4edc-9a46-e96ce270b9e4",
   "metadata": {},
   "source": [
    "# Turning Neuromorphic Dynex Chips into Torch Layers"
   ]
  },
  {
   "cell_type": "code",
   "execution_count": 47,
   "id": "ea16bae0-d582-44c2-a32b-b0733e6ecf29",
   "metadata": {},
   "outputs": [],
   "source": [
    "import math\n",
    "import torch\n",
    "import torch.nn as nn\n",
    "import numpy as np\n",
    "import matplotlib.pyplot as plt\n",
    "from sklearn.metrics import classification_report\n",
    "from torchvision.transforms import ToTensor\n",
    "from torch.utils.data import random_split\n",
    "from torch.utils.data import DataLoader\n",
    "from torch.nn import Module\n",
    "from torch.nn import Conv2d\n",
    "from torch.nn import Linear\n",
    "from torch.nn import MaxPool2d\n",
    "from torch.nn import ReLU\n",
    "from torch.nn import LogSoftmax\n",
    "from torch import flatten\n",
    "from torch.optim import Adam"
   ]
  },
  {
   "cell_type": "markdown",
   "id": "eba0e774-0668-4bfe-bda6-3e22cf8ebe2a",
   "metadata": {},
   "source": [
    "## Import dnx layer classes"
   ]
  },
  {
   "cell_type": "code",
   "execution_count": 4,
   "id": "86fc9d73-965c-4d24-872b-142e2fdc9e74",
   "metadata": {},
   "outputs": [],
   "source": [
    "from HybridQRBM.pytorchdnx import dnx\n",
    "from HybridQRBM.optimizers import RBMOptimizer\n",
    "from HybridQRBM.samplers import DynexSampler"
   ]
  },
  {
   "cell_type": "markdown",
   "id": "db156edb-1a7b-4013-a0a3-025e8f05564a",
   "metadata": {},
   "source": [
    "## Parameters"
   ]
  },
  {
   "cell_type": "code",
   "execution_count": 8,
   "id": "ac5d5952-4df2-4d80-9be2-40b3d4372ab4",
   "metadata": {},
   "outputs": [],
   "source": [
    "# define training hyperparameters\n",
    "INIT_LR    = 1e-3\n",
    "BATCH_SIZE = 12000 #64\n",
    "EPOCHS     = 10\n",
    "device = \"cpu\" # no GPU used for Dynex only"
   ]
  },
  {
   "cell_type": "markdown",
   "id": "b9f814a6-8875-402c-b21d-f664c4185ce6",
   "metadata": {},
   "source": [
    "## Define Model"
   ]
  },
  {
   "cell_type": "code",
   "execution_count": 36,
   "id": "9b919152-4c82-4086-963c-5b1534e2f2a7",
   "metadata": {},
   "outputs": [],
   "source": [
    "optimizer = RBMOptimizer(\n",
    "                learning_rate=0.05,\n",
    "                momentum=0.9,\n",
    "                decay_factor=1.00005,\n",
    "                regularizers=()\n",
    "            );\n",
    "\n",
    "sampler = DynexSampler(mainnet=False, \n",
    "               num_reads=100, \n",
    "               annealing_time=1000, \n",
    "               debugging=False, \n",
    "               logging=False, \n",
    "               num_gibbs_updates=1, \n",
    "               minimum_stepsize=0.002);"
   ]
  },
  {
   "cell_type": "code",
   "execution_count": 37,
   "id": "b520b594-ea68-4c88-962d-840c7f1ffe93",
   "metadata": {},
   "outputs": [],
   "source": [
    "class QModel(nn.Module):\n",
    "    def __init__(self, n_hidden, sampler, optimizer):\n",
    "        super().__init__();\n",
    "        # Dynex Neuromporphic layer\n",
    "        self.dnxlayer = dnx(n_hidden, sampler=sampler, optimizer=optimizer); \n",
    "\n",
    "    def forward(self, x):\n",
    "        x = self.dnxlayer(x);\n",
    "        return x;"
   ]
  },
  {
   "cell_type": "markdown",
   "id": "5f207539-7361-4953-a373-57120ff140b5",
   "metadata": {},
   "source": [
    "## Load Data"
   ]
  },
  {
   "cell_type": "code",
   "execution_count": 38,
   "id": "506946c2-b543-4d28-8576-1b72ef645665",
   "metadata": {},
   "outputs": [],
   "source": [
    "# conversion function from grayscale to black & white\n",
    "from torchvision import transforms\n",
    "class ThresholdTransform(object):\n",
    "  def __init__(self, thr_255):\n",
    "    self.thr = thr_255 / 255.  # input threshold for [0..255] gray level, convert to [0..1]\n",
    "\n",
    "  def __call__(self, x):\n",
    "    return (x > self.thr).to(x.dtype)  # do not change the data type\n",
    "\n",
    "data_transformer = transforms.Compose([\n",
    "        #transforms.Grayscale(),\n",
    "        transforms.ToTensor(),\n",
    "        ThresholdTransform(thr_255=240)\n",
    "    ])"
   ]
  },
  {
   "cell_type": "code",
   "execution_count": 39,
   "id": "09636e29-8e5c-4572-854b-7d6169fac19d",
   "metadata": {},
   "outputs": [
    {
     "name": "stdout",
     "output_type": "stream",
     "text": [
      "[INFO] MNIST dataset lodaed\n"
     ]
    }
   ],
   "source": [
    "# load the MNIST dataset\n",
    "from torchvision.datasets import MNIST\n",
    "trainData = MNIST(root=\"data\", train=True, download=True,\n",
    "\ttransform=data_transformer)\n",
    "testData = MNIST(root=\"data\", train=False, download=True,\n",
    "\ttransform=data_transformer) \n",
    "print(\"[INFO] MNIST dataset lodaed\")"
   ]
  },
  {
   "cell_type": "code",
   "execution_count": 40,
   "id": "03cdfcce-6001-45ef-b3bf-694455b1b6f3",
   "metadata": {},
   "outputs": [],
   "source": [
    "# initialize the train, validation, and test data loaders\n",
    "trainDataLoader = DataLoader(trainData, shuffle=True, batch_size=BATCH_SIZE)\n",
    "testDataLoader = DataLoader(testData, batch_size=BATCH_SIZE)"
   ]
  },
  {
   "cell_type": "code",
   "execution_count": 41,
   "id": "be186985-a278-44fb-8976-48c35fcc9642",
   "metadata": {},
   "outputs": [
    {
     "name": "stdout",
     "output_type": "stream",
     "text": [
      "5 train steps per epoch\n"
     ]
    }
   ],
   "source": [
    "# calculate steps per epoch for training and validation set\n",
    "trainSteps = len(trainDataLoader.dataset) // BATCH_SIZE\n",
    "print(trainSteps,'train steps per epoch');"
   ]
  },
  {
   "cell_type": "markdown",
   "id": "eecbde1b-f124-4df5-a6e1-31befc31dc54",
   "metadata": {},
   "source": [
    "## Training"
   ]
  },
  {
   "cell_type": "code",
   "execution_count": 42,
   "id": "653ac4f3-89b3-409f-ba17-55584ebbd90a",
   "metadata": {},
   "outputs": [],
   "source": [
    "#img_dim = len(trainData.data[0]);\n",
    "n_hidden = 60;\n",
    "model = QModel(n_hidden, sampler, optimizer);"
   ]
  },
  {
   "cell_type": "code",
   "execution_count": 43,
   "id": "86f70235-caf3-4773-9d8b-45c2fc8a4836",
   "metadata": {
    "scrolled": true
   },
   "outputs": [
    {
     "name": "stdout",
     "output_type": "stream",
     "text": [
      "EPOCH 0 of 10\n",
      "DynexQRBM PyTorch Layer | SME: 0.249957\n",
      "DynexQRBM PyTorch Layer | SME: 0.194690\n",
      "DynexQRBM PyTorch Layer | SME: 0.159149\n",
      "DynexQRBM PyTorch Layer | SME: 0.127481\n",
      "DynexQRBM PyTorch Layer | SME: 0.101892\n",
      "EPOCH 1 of 10\n",
      "DynexQRBM PyTorch Layer | SME: 0.097564\n",
      "DynexQRBM PyTorch Layer | SME: 0.107390\n",
      "DynexQRBM PyTorch Layer | SME: 0.086634\n",
      "DynexQRBM PyTorch Layer | SME: 0.072916\n",
      "DynexQRBM PyTorch Layer | SME: 0.073510\n",
      "EPOCH 2 of 10\n",
      "DynexQRBM PyTorch Layer | SME: 0.074850\n",
      "DynexQRBM PyTorch Layer | SME: 0.073972\n",
      "DynexQRBM PyTorch Layer | SME: 0.072913\n",
      "DynexQRBM PyTorch Layer | SME: 0.070524\n",
      "DynexQRBM PyTorch Layer | SME: 0.068217\n",
      "EPOCH 3 of 10\n",
      "DynexQRBM PyTorch Layer | SME: 0.066364\n",
      "DynexQRBM PyTorch Layer | SME: 0.065011\n",
      "DynexQRBM PyTorch Layer | SME: 0.064532\n",
      "DynexQRBM PyTorch Layer | SME: 0.063777\n",
      "DynexQRBM PyTorch Layer | SME: 0.063184\n",
      "EPOCH 4 of 10\n",
      "DynexQRBM PyTorch Layer | SME: 0.062706\n",
      "DynexQRBM PyTorch Layer | SME: 0.062277\n",
      "DynexQRBM PyTorch Layer | SME: 0.062135\n",
      "DynexQRBM PyTorch Layer | SME: 0.062065\n",
      "DynexQRBM PyTorch Layer | SME: 0.062000\n",
      "EPOCH 5 of 10\n",
      "DynexQRBM PyTorch Layer | SME: 0.062123\n",
      "DynexQRBM PyTorch Layer | SME: 0.061772\n",
      "DynexQRBM PyTorch Layer | SME: 0.061012\n",
      "DynexQRBM PyTorch Layer | SME: 0.060810\n",
      "DynexQRBM PyTorch Layer | SME: 0.060630\n",
      "EPOCH 6 of 10\n",
      "DynexQRBM PyTorch Layer | SME: 0.060604\n",
      "DynexQRBM PyTorch Layer | SME: 0.060192\n",
      "DynexQRBM PyTorch Layer | SME: 0.060535\n",
      "DynexQRBM PyTorch Layer | SME: 0.059955\n",
      "DynexQRBM PyTorch Layer | SME: 0.059815\n",
      "EPOCH 7 of 10\n",
      "DynexQRBM PyTorch Layer | SME: 0.060005\n",
      "DynexQRBM PyTorch Layer | SME: 0.059753\n",
      "DynexQRBM PyTorch Layer | SME: 0.059629\n",
      "DynexQRBM PyTorch Layer | SME: 0.059874\n",
      "DynexQRBM PyTorch Layer | SME: 0.059541\n",
      "EPOCH 8 of 10\n",
      "DynexQRBM PyTorch Layer | SME: 0.059745\n",
      "DynexQRBM PyTorch Layer | SME: 0.059113\n",
      "DynexQRBM PyTorch Layer | SME: 0.058887\n",
      "DynexQRBM PyTorch Layer | SME: 0.059129\n",
      "DynexQRBM PyTorch Layer | SME: 0.059901\n",
      "EPOCH 9 of 10\n",
      "DynexQRBM PyTorch Layer | SME: 0.058886\n",
      "DynexQRBM PyTorch Layer | SME: 0.059122\n",
      "DynexQRBM PyTorch Layer | SME: 0.058794\n",
      "DynexQRBM PyTorch Layer | SME: 0.059324\n",
      "DynexQRBM PyTorch Layer | SME: 0.058324\n"
     ]
    }
   ],
   "source": [
    "for e in range(0, EPOCHS):\n",
    "\tprint('EPOCH',e,'of',EPOCHS);\n",
    "\t# set the model in training mode\n",
    "\tmodel.train()\n",
    "\t# loop over the training set\n",
    "\tfor (x, y) in trainDataLoader:\n",
    "\t\t# send the input to the device\n",
    "\t\t(x, y) = (x.to(device), y.to(device))\n",
    "\t\t# perform a forward pass and calculate the training loss\n",
    "\t\tpred = model(x);"
   ]
  },
  {
   "cell_type": "code",
   "execution_count": 45,
   "id": "de55dc1a-313f-4bb9-99b1-983569fad054",
   "metadata": {},
   "outputs": [],
   "source": [
    "#naiveModel = model.dnxlayer.errors\n",
    "dnxModel = model.dnxlayer.errors"
   ]
  },
  {
   "cell_type": "code",
   "execution_count": 46,
   "id": "d6a2894e-4c7a-4a68-9114-8f4f73a57a2d",
   "metadata": {},
   "outputs": [
    {
     "data": {
      "image/png": "[encoded data removed]",
      "text/plain": [
       "<Figure size 640x480 with 1 Axes>"
      ]
     },
     "metadata": {},
     "output_type": "display_data"
    }
   ],
   "source": [
    "plt.figure()\n",
    "plt.plot(dnxModel, label='dnxModel')\n",
    "plt.plot(naiveModel, label='naiveModel')\n",
    "plt.xlabel('epoch')\n",
    "plt.ylabel('MSE')\n",
    "plt.legend()\n",
    "plt.show()"
   ]
  }
 ],
 "metadata": {
  "kernelspec": {
   "display_name": "Python 3 (ipykernel)",
   "language": "python",
   "name": "python3"
  },
  "language_info": {
   "codemirror_mode": {
    "name": "ipython",
    "version": 3
   },
   "file_extension": ".py",
   "mimetype": "text/x-python",
   "name": "python",
   "nbconvert_exporter": "python",
   "pygments_lexer": "ipython3",
   "version": "3.10.12"
  }
 },
 "nbformat": 4,
 "nbformat_minor": 5
}
