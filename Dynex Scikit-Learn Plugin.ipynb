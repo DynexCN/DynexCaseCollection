{
 "cells": [
  {
   "cell_type": "markdown",
   "id": "882a3df6",
   "metadata": {},
   "source": [
    "# 示例：在Dynex上进行量子深度学习（使用scikit-learn）"
   ]
  },
  {
   "cell_type": "markdown",
   "id": "416d0516",
   "metadata": {},
   "source": [
    "这个示例展示了如何使用Dynex SDK的Scikit包，它提供了一个用于特征选择的scikit-learn转换器，利用了Dynex神经形态计算平台。特征的数量对神经网络的训练和准确性有影响。我们将演示如何显著减少特征数量会导致类似（甚至更好）的结果"
   ]
  },
  {
   "cell_type": "code",
   "execution_count": 8,
   "id": "ffbb1d59",
   "metadata": {
    "ExecuteTime": {
     "end_time": "2023-11-08T20:06:33.283897300Z",
     "start_time": "2023-11-08T20:06:33.101421Z"
    }
   },
   "outputs": [
    {
     "ename": "ModuleNotFoundError",
     "evalue": "No module named 'utilities'",
     "output_type": "error",
     "traceback": [
      "\u001B[1;31m---------------------------------------------------------------------------\u001B[0m",
      "\u001B[1;31mModuleNotFoundError\u001B[0m                       Traceback (most recent call last)",
      "Cell \u001B[1;32mIn[8], line 2\u001B[0m\n\u001B[0;32m      1\u001B[0m \u001B[38;5;28;01mimport\u001B[39;00m \u001B[38;5;21;01mdynex\u001B[39;00m\n\u001B[1;32m----> 2\u001B[0m \u001B[38;5;28;01mfrom\u001B[39;00m \u001B[38;5;21;01mdynex_scikit_plugin\u001B[39;00m \u001B[38;5;28;01mimport\u001B[39;00m dynex_scikit\n",
      "File \u001B[1;32mP:\\pythonProject\\DynexSDK\\dynex_scikit_plugin\\dynex_scikit.py:19\u001B[0m\n\u001B[0;32m     16\u001B[0m \u001B[38;5;28;01mfrom\u001B[39;00m \u001B[38;5;21;01msklearn\u001B[39;00m\u001B[38;5;21;01m.\u001B[39;00m\u001B[38;5;21;01mfeature_selection\u001B[39;00m \u001B[38;5;28;01mimport\u001B[39;00m SelectorMixin\n\u001B[0;32m     17\u001B[0m \u001B[38;5;28;01mfrom\u001B[39;00m \u001B[38;5;21;01msklearn\u001B[39;00m\u001B[38;5;21;01m.\u001B[39;00m\u001B[38;5;21;01mutils\u001B[39;00m\u001B[38;5;21;01m.\u001B[39;00m\u001B[38;5;21;01mvalidation\u001B[39;00m \u001B[38;5;28;01mimport\u001B[39;00m check_is_fitted\n\u001B[1;32m---> 19\u001B[0m \u001B[38;5;28;01mfrom\u001B[39;00m \u001B[38;5;21;01mutilities\u001B[39;00m \u001B[38;5;28;01mimport\u001B[39;00m corrcoef \u001B[38;5;66;03m#utilities.py\u001B[39;00m\n\u001B[0;32m     21\u001B[0m __all__ \u001B[38;5;241m=\u001B[39m [\u001B[38;5;124m\"\u001B[39m\u001B[38;5;124mSelectFromQuadraticModel\u001B[39m\u001B[38;5;124m\"\u001B[39m]\n\u001B[0;32m     24\u001B[0m \u001B[38;5;28;01mclass\u001B[39;00m \u001B[38;5;21;01mSelectFromQuadraticModel\u001B[39;00m(SelectorMixin, BaseEstimator):\n",
      "\u001B[1;31mModuleNotFoundError\u001B[0m: No module named 'utilities'"
     ]
    }
   ],
   "source": [
    "import dynex\n",
    "from dynex_scikit_plugin import dynex_scikit"
   ]
  },
  {
   "cell_type": "markdown",
   "id": "5f95205b",
   "metadata": {},
   "source": [
    "## 数据集：威斯康星州乳腺癌数据"
   ]
  },
  {
   "cell_type": "markdown",
   "id": "b2412bb7",
   "metadata": {},
   "source": [
    "这些特征是从乳腺肿块的细针穿刺（FNA）图像的数字化图像中计算的。它们描述了图像中存在的细胞核的特征。\n",
    "\n",
    "上面描述的分离平面是使用Multisurface Method-Tree（MSM-T）[K. P. Bennett，“通过线性规划构建决策树。”第4届中西部人工智能和认知科学协会会议论文集，1992年，第97-101页]获得的，这是一种使用线性规划构建决策树的分类方法。通过在1-4个特征和1-3个分离平面的空间中进行详尽搜索来选择相关特征。\n",
    "\n",
    "用于在三维空间中获得分离平面的实际线性规划描述如下：\n",
    "[K. P. Bennett和O. L. Mangasarian：“两个线性不可分集的稳健线性规划判别”，Optimization Methods and Software 1，1992，第23-34页]。"
   ]
  },
  {
   "cell_type": "code",
   "execution_count": null,
   "id": "6f07e71c",
   "metadata": {
    "ExecuteTime": {
     "start_time": "2023-11-08T20:06:33.138020700Z"
    }
   },
   "outputs": [],
   "source": [
    "from sklearn.datasets import load_breast_cancer"
   ]
  },
  {
   "cell_type": "code",
   "execution_count": null,
   "id": "a78bb92c",
   "metadata": {
    "ExecuteTime": {
     "start_time": "2023-11-08T20:06:33.139144Z"
    }
   },
   "outputs": [],
   "source": [
    "X_cancer, y_cancer = load_breast_cancer(return_X_y=True)"
   ]
  },
  {
   "cell_type": "code",
   "execution_count": null,
   "id": "24f937f7",
   "metadata": {
    "ExecuteTime": {
     "start_time": "2023-11-08T20:06:33.141203100Z"
    }
   },
   "outputs": [],
   "source": [
    "X_cancer.shape"
   ]
  },
  {
   "cell_type": "markdown",
   "id": "9b0bb9ef",
   "metadata": {},
   "source": [
    "# 深度神经网络"
   ]
  },
  {
   "cell_type": "markdown",
   "id": "d8d99d47",
   "metadata": {},
   "source": [
    "首先我们加载依赖"
   ]
  },
  {
   "cell_type": "code",
   "execution_count": null,
   "id": "7df264d8",
   "metadata": {
    "ExecuteTime": {
     "start_time": "2023-11-08T20:06:33.143277200Z"
    }
   },
   "outputs": [],
   "source": [
    "import numpy as np\n",
    "import matplotlib.pyplot as plt\n",
    "from sklearn.neural_network import MLPClassifier\n",
    "from sklearn.preprocessing import MinMaxScaler\n",
    "from sklearn.model_selection import train_test_split\n",
    "from sklearn.metrics import ConfusionMatrixDisplay, confusion_matrix"
   ]
  },
  {
   "cell_type": "markdown",
   "id": "fd0fea35",
   "metadata": {},
   "source": [
    "Sklearn提供了多个激活函数。首先，我们可视化不同的函数："
   ]
  },
  {
   "cell_type": "code",
   "execution_count": null,
   "id": "8ea12fbb",
   "metadata": {
    "ExecuteTime": {
     "start_time": "2023-11-08T20:06:33.144327900Z"
    }
   },
   "outputs": [],
   "source": [
    "xrange = np.linspace(-2, 2, 200)\n",
    "plt.figure(figsize=(7,6))\n",
    "plt.plot(xrange, np.maximum(xrange, 0), label = 'relu')\n",
    "plt.plot(xrange, np.tanh(xrange), label = 'tanh')\n",
    "plt.plot(xrange, 1 / (1 + np.exp(-xrange)), label = 'logistic')\n",
    "plt.legend()\n",
    "plt.title('Neural network activation functions')\n",
    "plt.xlabel('Input value (x)')\n",
    "plt.ylabel('Activation function output')\n",
    "plt.show()"
   ]
  },
  {
   "cell_type": "markdown",
   "id": "67237838",
   "metadata": {},
   "source": [
    "## 数据准备"
   ]
  },
  {
   "cell_type": "markdown",
   "id": "a4f58ff7",
   "metadata": {},
   "source": [
    "我们需要将数据集分为训练和验证（测试）数据，并对数据进行缩放。"
   ]
  },
  {
   "cell_type": "code",
   "execution_count": null,
   "id": "33ffc00f",
   "metadata": {
    "ExecuteTime": {
     "start_time": "2023-11-08T20:06:33.146936700Z"
    }
   },
   "outputs": [],
   "source": [
    "scaler = MinMaxScaler();\n",
    "X_train, X_test, y_train, y_test = train_test_split(X_cancer, y_cancer, random_state = 0)\n",
    "X_train_scaled = scaler.fit_transform(X_train)\n",
    "X_test_scaled = scaler.transform(X_test)\n",
    "print('Training Datapoints: ',len(X_train), 'Validation Datapoints:', len(X_test))\n",
    "print('Features:', X_cancer.shape[1])"
   ]
  },
  {
   "cell_type": "markdown",
   "id": "432c16da",
   "metadata": {},
   "source": [
    "原始的乳腺癌数据集具有30个特征"
   ]
  },
  {
   "cell_type": "markdown",
   "id": "b06bdf66",
   "metadata": {},
   "source": [
    "## 多层感知器分类器（MLP）"
   ]
  },
  {
   "cell_type": "markdown",
   "id": "20ff80f2",
   "metadata": {},
   "source": [
    "首先，我们构建了一个具有隐藏层（100, 100）的深度学习网络。我们将使用MPL分类器，其代表多层感知器分类器，这个名称本身就与神经网络有关。与其他分类算法（如支持向量机或朴素贝叶斯分类器）不同，MLPClassifier 依赖于底层的神经网络来执行分类任务。"
   ]
  },
  {
   "cell_type": "markdown",
   "id": "d00d25aa",
   "metadata": {},
   "source": [
    "## 使用Adam随机梯度下降优化器"
   ]
  },
  {
   "cell_type": "markdown",
   "id": "1795ab2a",
   "metadata": {},
   "source": [
    "第一种方法是使用“relu”激活函数，并应用默认的“adam”求解器进行模型训练"
   ]
  },
  {
   "cell_type": "code",
   "execution_count": null,
   "id": "4a52d700",
   "metadata": {
    "ExecuteTime": {
     "start_time": "2023-11-08T20:06:33.147465900Z"
    }
   },
   "outputs": [],
   "source": [
    "from sympy import true\n",
    "\n",
    "model = MLPClassifier(hidden_layer_sizes=(100, 100),\n",
    "              activation='relu',\n",
    "              solver='adam',\n",
    "              learning_rate='adaptive',\n",
    "              early_stopping=True)\n",
    "\n",
    "model.fit(X_train_scaled, y_train)\n",
    "prd_r = model.predict(X_test_scaled)\n",
    "loss_values = model.loss_curve_\n",
    "plt.plot(loss_values)\n",
    "plt.show()"
   ]
  },
  {
   "cell_type": "code",
   "execution_count": null,
   "id": "315e7bec",
   "metadata": {
    "ExecuteTime": {
     "start_time": "2023-11-08T20:06:33.149522700Z"
    }
   },
   "outputs": [],
   "source": [
    "print('Breast cancer dataset')\n",
    "print('Accuracy of NN classifier on training set: {:.2f}'\n",
    "     .format(model.score(X_train_scaled, y_train)))\n",
    "print('Accuracy of NN classifier on test set: {:.2f}'\n",
    "     .format(model.score(X_test_scaled, y_test)))"
   ]
  },
  {
   "cell_type": "code",
   "execution_count": null,
   "id": "064bf47c",
   "metadata": {
    "ExecuteTime": {
     "start_time": "2023-11-08T20:06:33.150612200Z"
    }
   },
   "outputs": [],
   "source": [
    "cm = confusion_matrix(y_test, prd_r)\n",
    "cm_display = ConfusionMatrixDisplay(cm).plot()"
   ]
  },
  {
   "cell_type": "markdown",
   "id": "4f7740b2",
   "metadata": {},
   "source": [
    "可以看到，模型在测试集上的准确率约为92%，这是一个良好的开始。上面的混淆矩阵显示了模型在验证数据集上的预测与预期结果的比较。在这种情况下，模型错误地诊断了12例乳腺癌病例，相当于11.76% 的假阳性"
   ]
  },
  {
   "cell_type": "markdown",
   "id": "a0f954d9",
   "metadata": {},
   "source": [
    "# 使用'lbfgs'，这是拟牛顿方法家族中的一个优化器"
   ]
  },
  {
   "cell_type": "markdown",
   "id": "94c29be2",
   "metadata": {},
   "source": [
    "Scikit-learn提供了更强大的多层感知器网络功能。我们将使用'lbfgs'，这是拟牛顿方法中的一个优化器："
   ]
  },
  {
   "cell_type": "code",
   "execution_count": 9,
   "id": "60d94405",
   "metadata": {
    "ExecuteTime": {
     "start_time": "2023-11-08T20:06:33.151674800Z"
    }
   },
   "outputs": [
    {
     "ename": "NameError",
     "evalue": "name 'MLPClassifier' is not defined",
     "output_type": "error",
     "traceback": [
      "\u001B[1;31m---------------------------------------------------------------------------\u001B[0m",
      "\u001B[1;31mNameError\u001B[0m                                 Traceback (most recent call last)",
      "Cell \u001B[1;32mIn[9], line 1\u001B[0m\n\u001B[1;32m----> 1\u001B[0m clf \u001B[38;5;241m=\u001B[39m \u001B[43mMLPClassifier\u001B[49m(hidden_layer_sizes \u001B[38;5;241m=\u001B[39m [\u001B[38;5;241m100\u001B[39m, \u001B[38;5;241m100\u001B[39m], \n\u001B[0;32m      2\u001B[0m                     alpha \u001B[38;5;241m=\u001B[39m \u001B[38;5;241m5.0\u001B[39m,\n\u001B[0;32m      3\u001B[0m                     random_state \u001B[38;5;241m=\u001B[39m \u001B[38;5;241m0\u001B[39m, \n\u001B[0;32m      4\u001B[0m                     solver\u001B[38;5;241m=\u001B[39m\u001B[38;5;124m'\u001B[39m\u001B[38;5;124mlbfgs\u001B[39m\u001B[38;5;124m'\u001B[39m)\u001B[38;5;241m.\u001B[39mfit(X_train_scaled, y_train) \n",
      "\u001B[1;31mNameError\u001B[0m: name 'MLPClassifier' is not defined"
     ]
    }
   ],
   "source": [
    "clf = MLPClassifier(hidden_layer_sizes = [100, 100], \n",
    "                    alpha = 5.0,\n",
    "                    random_state = 0, \n",
    "                    solver='lbfgs').fit(X_train_scaled, y_train) "
   ]
  },
  {
   "cell_type": "code",
   "execution_count": null,
   "id": "2da11a12",
   "metadata": {
    "ExecuteTime": {
     "start_time": "2023-11-08T20:06:33.164305300Z"
    }
   },
   "outputs": [],
   "source": [
    "print('Breast cancer dataset')\n",
    "print('Accuracy of NN classifier on training set: {:.2f}'\n",
    "     .format(clf.score(X_train_scaled, y_train)))\n",
    "print('Accuracy of NN classifier on test set: {:.2f}'\n",
    "     .format(clf.score(X_test_scaled, y_test)))"
   ]
  },
  {
   "cell_type": "code",
   "execution_count": null,
   "id": "be160984",
   "metadata": {
    "ExecuteTime": {
     "start_time": "2023-11-08T20:06:33.166373Z"
    }
   },
   "outputs": [],
   "source": [
    "y_pred = clf.predict(X_test_scaled)\n",
    "cm = confusion_matrix(y_test, y_pred)\n",
    "cm_display = ConfusionMatrixDisplay(cm).plot()"
   ]
  },
  {
   "cell_type": "markdown",
   "id": "c0429e92",
   "metadata": {},
   "source": [
    "模型的准确率显著提高至97%，假阳性率为4.30%"
   ]
  },
  {
   "cell_type": "markdown",
   "id": "63dc3400",
   "metadata": {},
   "source": [
    "## 使用Dynex SciKit插件来减少特征数量"
   ]
  },
  {
   "cell_type": "markdown",
   "id": "a4d3ce9e",
   "metadata": {},
   "source": [
    "我们可以运行一个用于特征选择的量子算法，以找出乳腺癌数据集的相关特征。这是通过调用Dynex Scikit-Learn插件 \"SelectFromQuadraticModel\" 来实现的，我们可以指定目标特征数。我们希望将特征的数量减少33%，仅保留20个特征："
   ]
  },
  {
   "cell_type": "code",
   "execution_count": null,
   "id": "7b398f40",
   "metadata": {
    "ExecuteTime": {
     "start_time": "2023-11-08T20:06:33.167422200Z"
    }
   },
   "outputs": [],
   "source": [
    "\n",
    "\n",
    "X_new = dynex_scikit.SelectFromQuadraticModel(num_features=20).fit_transform(X_cancer, y_cancer)"
   ]
  },
  {
   "cell_type": "markdown",
   "id": "39fcb22e",
   "metadata": {},
   "source": [
    "变量 X_new 包含了经过 scikit-learn 转换的数据，现在有20个特征："
   ]
  },
  {
   "cell_type": "code",
   "execution_count": null,
   "id": "ab7b0eb9",
   "metadata": {
    "ExecuteTime": {
     "start_time": "2023-11-08T20:06:33.169502500Z"
    }
   },
   "outputs": [],
   "source": [
    "X_new.shape"
   ]
  },
  {
   "cell_type": "markdown",
   "id": "2580bb9e",
   "metadata": {},
   "source": [
    "我们执行与上面相同的训练方法，但将乳腺癌数据集缩减为20个特征："
   ]
  },
  {
   "cell_type": "code",
   "execution_count": null,
   "id": "1b2bac3c",
   "metadata": {
    "ExecuteTime": {
     "start_time": "2023-11-08T20:06:33.170623600Z"
    }
   },
   "outputs": [],
   "source": [
    "X_train, X_test, y_train, y_test = train_test_split(X_new, y_cancer, random_state = 0)\n",
    "X_train_scaled = scaler.fit_transform(X_train)\n",
    "X_test_scaled = scaler.transform(X_test)"
   ]
  },
  {
   "cell_type": "code",
   "execution_count": null,
   "id": "fb4cd984",
   "metadata": {
    "ExecuteTime": {
     "start_time": "2023-11-08T20:06:33.172721600Z"
    }
   },
   "outputs": [],
   "source": [
    "clf = MLPClassifier(hidden_layer_sizes = [100, 100], alpha = 5.0,\n",
    "                   random_state = 0, solver='lbfgs').fit(X_train_scaled, y_train)"
   ]
  },
  {
   "cell_type": "code",
   "execution_count": null,
   "id": "530edda3",
   "metadata": {
    "ExecuteTime": {
     "start_time": "2023-11-08T20:06:33.173726400Z"
    }
   },
   "outputs": [],
   "source": [
    "print('Breast cancer dataset')\n",
    "print('Accuracy of NN classifier on training set: {:.2f}'\n",
    "     .format(clf.score(X_train_scaled, y_train)))\n",
    "print('Accuracy of NN classifier on test set: {:.2f}'\n",
    "     .format(clf.score(X_test_scaled, y_test)))"
   ]
  },
  {
   "cell_type": "code",
   "execution_count": null,
   "id": "0739b894",
   "metadata": {
    "ExecuteTime": {
     "start_time": "2023-11-08T20:06:33.174776200Z"
    }
   },
   "outputs": [],
   "source": [
    "y_pred = clf.predict(X_test_scaled)\n",
    "cm = confusion_matrix(y_test, y_pred)\n",
    "cm_display = ConfusionMatrixDisplay(cm).plot()"
   ]
  },
  {
   "cell_type": "markdown",
   "id": "b3406c69",
   "metadata": {},
   "source": [
    "训练出的模型显示了较少的假阳性，尽管它只是使用原始数据集的三分之二特征进行训练，但准确度数值相似"
   ]
  },
  {
   "cell_type": "markdown",
   "id": "1e046d19",
   "metadata": {},
   "source": [
    "参考文献:\n",
    "\n",
    "[1] Milne, Andrew, Maxwell Rounds 和 Phil Goddard. 2017. \"Optimal Feature Selection in Credit Scoring and Classification Using a Quantum Annealer.\" 1QBit；白皮书。链接：https://1qbit.com/whitepaper/optimal-feature-selection-in-credit-scoring-classification-using-quantum-annealer/"
   ]
  }
 ],
 "metadata": {
  "kernelspec": {
   "display_name": "Python 3",
   "language": "python",
   "name": "python3"
  },
  "language_info": {
   "codemirror_mode": {
    "name": "ipython",
    "version": 3
   },
   "file_extension": ".py",
   "mimetype": "text/x-python",
   "name": "python",
   "nbconvert_exporter": "python",
   "pygments_lexer": "ipython3",
   "version": "3.8.8"
  }
 },
 "nbformat": 4,
 "nbformat_minor": 5
}
