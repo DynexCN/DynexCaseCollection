{
 "cells": [
  {
   "cell_type": "markdown",
   "id": "d794412b-8cb6-45ed-894f-dfeb0a108af5",
   "metadata": {},
   "source": [
    "# 量子数划分"
   ]
  },
  {
   "cell_type": "markdown",
   "id": "c0dd6b02-4c8b-4aed-93fa-78463b1a60e2",
   "metadata": {},
   "source": []
  },
  {
   "cell_type": "code",
   "execution_count": 1,
   "id": "3f4f5809-e324-43ff-b680-f3a411b53f58",
   "metadata": {},
   "outputs": [],
   "source": [
    "import dynex\n",
    "import dimod\n",
    "from qubovert.problems import NumberPartitioning"
   ]
  },
  {
   "cell_type": "markdown",
   "id": "b5dfc1be-7afc-42ba-b4b8-f01508a8c1f6",
   "metadata": {},
   "source": [
    "NumberPartitioning 问题的目标如下：\n",
    "\n",
    "给定一个包含 N 个正数的列表 S = [n1, … , nN]，是否可以将这组数字划分为两个不相交的子集 R 和 S − R，使得两个集合中的元素之和相同？\n",
    "\n",
    "请注意，如果我们不能执行此分区，那么下一个目标是找到一个几乎可以执行此操作的分区，即最小化两个分区之间的总和差异的分区。"
   ]
  },
  {
   "cell_type": "code",
   "execution_count": 2,
   "id": "87a5132a-a36e-4d0f-bbc0-c13cc4da44cb",
   "metadata": {},
   "outputs": [],
   "source": [
    "S = [1, 2, 3, 4]\n",
    "problem = NumberPartitioning(S)\n",
    "Q = problem.to_qubo()"
   ]
  },
  {
   "cell_type": "code",
   "execution_count": 3,
   "id": "7d55a452-c115-482d-b6a5-c3f84da4088d",
   "metadata": {},
   "outputs": [],
   "source": [
    "bqm = dimod.BinaryQuadraticModel.from_qubo(Q.Q, Q.offset)"
   ]
  },
  {
   "cell_type": "code",
   "execution_count": 4,
   "id": "58ce0834-dfb2-4499-8db6-e61b51c8b7dd",
   "metadata": {},
   "outputs": [
    {
     "name": "stdout",
     "output_type": "stream",
     "text": [
      "[DYNEX] PRECISION SET TO 0.001\n",
      "[DYNEX] SAMPLER INITIALISED\n",
      "[DYNEX|TESTNET] *** WAITING FOR READS ***\n",
      "╭────────────┬──────────┬─────────────────┬─────────────┬───────────┬───────────────────────────┬────────────┬─────────┬────────────────╮\n",
      "│   DYNEXJOB │   QUBITS │   QUANTUM GATES │   BLOCK FEE │ ELAPSED   │ WORKERS READ              │ CIRCUITS   │ STEPS   │ GROUND STATE   │\n",
      "├────────────┼──────────┼─────────────────┼─────────────┼───────────┼───────────────────────────┼────────────┼─────────┼────────────────┤\n",
      "│         -1 │       14 │              29 │           0 │           │ *** WAITING FOR READS *** │            │         │                │\n",
      "╰────────────┴──────────┴─────────────────┴─────────────┴───────────┴───────────────────────────┴────────────┴─────────┴────────────────╯\n",
      "\n",
      "[DYNEX] FINISHED READ AFTER 0.30 SECONDS\n",
      "[DYNEX] SAMPLESET READY\n",
      "   0  1  2  3  4  5 energy num_oc.\n",
      "0  1  0  0  1  1  0    1.0       1\n",
      "['BINARY', 1 rows, 1 samples, 6 variables]\n"
     ]
    }
   ],
   "source": [
    "sampleset = dynex.sample(bqm, mainnet=False, num_reads=1024, annealing_time=200);\n",
    "print(sampleset)"
   ]
  },
  {
   "cell_type": "code",
   "execution_count": 5,
   "id": "977fe637-057c-4993-a427-caa0b3ed52ab",
   "metadata": {},
   "outputs": [
    {
     "name": "stdout",
     "output_type": "stream",
     "text": [
      "Optimal solution: ({'c', 'b', 'a'}, {'e', 'd', 'f'}) valid? True\n"
     ]
    }
   ],
   "source": [
    "solution = problem.convert_solution(sampleset.first.sample)\n",
    "print('Optimal solution:',solution,'valid?',problem.is_solution_valid(solution))"
   ]
  },
  {
   "cell_type": "code",
   "execution_count": null,
   "id": "8053b159-7735-4fe2-a3b1-01a68aea21ff",
   "metadata": {},
   "outputs": [],
   "source": []
  }
 ],
 "metadata": {
  "kernelspec": {
   "display_name": "Python 3 (ipykernel)",
   "language": "python",
   "name": "python3"
  },
  "language_info": {
   "codemirror_mode": {
    "name": "ipython",
    "version": 3
   },
   "file_extension": ".py",
   "mimetype": "text/x-python",
   "name": "python",
   "nbconvert_exporter": "python",
   "pygments_lexer": "ipython3",
   "version": "3.10.12"
  }
 },
 "nbformat": 4,
 "nbformat_minor": 5
}
