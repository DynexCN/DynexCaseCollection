{
 "cells": [
  {
   "cell_type": "markdown",
   "id": "1fa94d56-57dd-4cc6-beda-9100e769ee4f",
   "metadata": {},
   "source": [
    "# Dynex SDK - Qiskit Native Gate 电路示例"
   ]
  },
  {
   "cell_type": "markdown",
   "id": "d63e025d-8aeb-4840-ac69-cd6430043608",
   "metadata": {},
   "source": [
    "导入需要的包"
   ]
  },
  {
   "cell_type": "code",
   "execution_count": 1,
   "id": "3258cd0a-8fb4-4ce7-89a1-4120322ef52c",
   "metadata": {},
   "outputs": [],
   "source": [
    "import dynex\n",
    "from dynex import dynex_circuit\n",
    "import qiskit\n",
    "from qiskit import QuantumCircuit"
   ]
  },
  {
   "cell_type": "markdown",
   "id": "a4b4dad6-3b7d-4b17-93d5-4ab82c8b5aef",
   "metadata": {},
   "source": [
    "定义电路:"
   ]
  },
  {
   "cell_type": "code",
   "execution_count": 2,
   "id": "f1e789a4-612d-433f-95fb-43cebab281f8",
   "metadata": {},
   "outputs": [
    {
     "data": {
      "text/plain": [
       "<qiskit.circuit.instructionset.InstructionSet at 0x7fec40ad04c0>"
      ]
     },
     "execution_count": 2,
     "metadata": {},
     "output_type": "execute_result"
    }
   ],
   "source": [
    "wires = 2;\n",
    "params = [0.785, 1.57]\n",
    "\n",
    "qc = QuantumCircuit(wires)\n",
    "qc.rx(params[0], 0)\n",
    "qc.ry(params[1], 1)"
   ]
  },
  {
   "cell_type": "markdown",
   "id": "e37c1084-a8ad-48fe-8ad3-78dc49b3a55d",
   "metadata": {},
   "source": [
    "画出电路:"
   ]
  },
  {
   "cell_type": "code",
   "execution_count": 3,
   "id": "5a8a1f3f-8984-49b6-a644-a0e403e25811",
   "metadata": {},
   "outputs": [
    {
     "data": {
      "text/html": [
       "<pre style=\"word-wrap: normal;white-space: pre;background: #fff0;line-height: 1.1;font-family: &quot;Courier New&quot;,Courier,monospace\">     ┌───────────┐\n",
       "q_0: ┤ Rx(0.785) ├\n",
       "     └┬──────────┤\n",
       "q_1: ─┤ Ry(1.57) ├\n",
       "      └──────────┘</pre>"
      ],
      "text/plain": [
       "     ┌───────────┐\n",
       "q_0: ┤ Rx(0.785) ├\n",
       "     └┬──────────┤\n",
       "q_1: ─┤ Ry(1.57) ├\n",
       "      └──────────┘"
      ]
     },
     "execution_count": 3,
     "metadata": {},
     "output_type": "execute_result"
    }
   ],
   "source": [
    "# 画图:\n",
    "qc.draw()"
   ]
  },
  {
   "cell_type": "markdown",
   "id": "8b9f9d7e-213e-40e3-9362-fd57faebab66",
   "metadata": {},
   "source": [
    "在 Dynex 平台上执行和测量电路："
   ]
  },
  {
   "cell_type": "code",
   "execution_count": 4,
   "id": "248c2c08-935c-49a1-a81f-ca03d23e3cc2",
   "metadata": {},
   "outputs": [
    {
     "name": "stdout",
     "output_type": "stream",
     "text": [
      "╭────────────┬──────────┬─────────────────┬─────────────┬───────────┬────────────────┬────────────┬─────────┬────────────────╮\n",
      "│   DYNEXJOB │   QUBITS │   QUANTUM GATES │   BLOCK FEE │   ELAPSED │   WORKERS READ │   CIRCUITS │   STEPS │   GROUND STATE │\n",
      "├────────────┼──────────┼─────────────────┼─────────────┼───────────┼────────────────┼────────────┼─────────┼────────────────┤\n",
      "│      29834 │       16 │              32 │        0.00 │      3.44 │              1 │    9515200 │     256 │       97037.00 │\n",
      "╰────────────┴──────────┴─────────────────┴─────────────┴───────────┴────────────────┴────────────┴─────────┴────────────────╯\n",
      "╭────────────┬─────────────────┬────────────┬───────┬──────────┬──────────────┬─────────────────────────────┬───────────┬──────────╮\n",
      "│     WORKER │         VERSION │   CIRCUITS │   LOC │   ENERGY │      RUNTIME │                 LAST UPDATE │     STEPS │   STATUS │\n",
      "├────────────┼─────────────────┼────────────┼───────┼──────────┼──────────────┼─────────────────────────────┼───────────┼──────────┤\n",
      "│ 76c8..45dc │ 2.3.5.OZM.134.W │    9515200 │     5 │ 97037.00 │ 3.456260188s │ 2024-08-11T19:15:26.244727Z │ 0 (0.00%) │  \u001B[1;31mSTOPPED\u001B[0m │\n",
      "╰────────────┴─────────────────┴────────────┴───────┴──────────┴──────────────┴─────────────────────────────┴───────────┴──────────╯\n",
      "[DYNEX] FINISHED READ AFTER 344.45 SECONDS\n",
      "[DYNEX] SAMPLESET READY\n",
      "Mesaure: [1 0]\n"
     ]
    }
   ],
   "source": [
    "# 在 Dynex 上执行电路：\n",
    "measure = dynex_circuit.execute(qc, params, wires, mainnet=True, method='measure')\n",
    "print('Mesaure:',measure)"
   ]
  },
  {
   "cell_type": "code",
   "execution_count": null,
   "id": "551c3416-bbc8-4bca-bb77-ef3622e1dade",
   "metadata": {},
   "outputs": [],
   "source": []
  }
 ],
 "metadata": {
  "kernelspec": {
   "display_name": "Python 3 (ipykernel)",
   "language": "python",
   "name": "python3"
  },
  "language_info": {
   "codemirror_mode": {
    "name": "ipython",
    "version": 3
   },
   "file_extension": ".py",
   "mimetype": "text/x-python",
   "name": "python",
   "nbconvert_exporter": "python",
   "pygments_lexer": "ipython3",
   "version": "3.10.12"
  }
 },
 "nbformat": 4,
 "nbformat_minor": 5
}
