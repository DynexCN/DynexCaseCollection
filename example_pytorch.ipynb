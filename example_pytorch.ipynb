{
 "cells": [
  {
   "cell_type": "markdown",
   "id": "ba4d0c20-47c5-4edc-9a46-e96ce270b9e4",
   "metadata": {},
   "source": [
    "# 将神经形态Dynex芯片转化为Torch层"
   ]
  },
  {
   "cell_type": "code",
   "execution_count": 1,
   "id": "ea16bae0-d582-44c2-a32b-b0733e6ecf29",
   "metadata": {
    "ExecuteTime": {
     "end_time": "2023-11-11T10:33:36.399297400Z",
     "start_time": "2023-11-11T10:33:31.193718900Z"
    }
   },
   "outputs": [],
   "source": [
    "import math\n",
    "import dynex\n",
    "import torch\n",
    "import torch.nn as nn\n",
    "import numpy as np\n",
    "import matplotlib.pyplot as plt\n",
    "from sklearn.metrics import classification_report\n",
    "from torchvision.transforms import ToTensor\n",
    "from torch.utils.data import random_split\n",
    "from torch.utils.data import DataLoader\n",
    "from torch.nn import Module\n",
    "from torch.nn import Conv2d\n",
    "from torch.nn import Linear\n",
    "from torch.nn import MaxPool2d\n",
    "from torch.nn import ReLU\n",
    "from torch.nn import LogSoftmax\n",
    "from torch import flatten\n",
    "from torch.optim import Adam"
   ]
  },
  {
   "cell_type": "markdown",
   "id": "eba0e774-0668-4bfe-bda6-3e22cf8ebe2a",
   "metadata": {},
   "source": [
    "## 定义 dnx layer 类"
   ]
  },
  {
   "cell_type": "code",
   "execution_count": 2,
   "id": "86fc9d73-965c-4d24-872b-142e2fdc9e74",
   "metadata": {
    "ExecuteTime": {
     "end_time": "2023-11-11T10:33:36.412895Z",
     "start_time": "2023-11-11T10:33:36.400382500Z"
    }
   },
   "outputs": [
    {
     "name": "stdout",
     "output_type": "stream",
     "text": [
      "0.1.10\n"
     ]
    }
   ],
   "source": [
    "from HybridQRBM.pytorchdnx import dnx\n",
    "from HybridQRBM.optimizers import RBMOptimizer\n",
    "from HybridQRBM.samplers import DynexSampler\n",
    "print(dynex.__version__)"
   ]
  },
  {
   "cell_type": "markdown",
   "id": "db156edb-1a7b-4013-a0a3-025e8f05564a",
   "metadata": {},
   "source": [
    "## 参数"
   ]
  },
  {
   "cell_type": "code",
   "execution_count": 3,
   "id": "ac5d5952-4df2-4d80-9be2-40b3d4372ab4",
   "metadata": {
    "ExecuteTime": {
     "end_time": "2023-11-11T10:33:36.429707Z",
     "start_time": "2023-11-11T10:33:36.412895Z"
    }
   },
   "outputs": [],
   "source": [
    "# 定义训练的超参数\n",
    "INIT_LR    = 1e-3\n",
    "BATCH_SIZE = 12000 #64\n",
    "EPOCHS     = 1\n",
    "device = \"cpu\" # 仅使用Dynex，不使用GPU"
   ]
  },
  {
   "cell_type": "markdown",
   "id": "b9f814a6-8875-402c-b21d-f664c4185ce6",
   "metadata": {},
   "source": [
    "## 定义模型"
   ]
  },
  {
   "cell_type": "code",
   "execution_count": 4,
   "id": "9b919152-4c82-4086-963c-5b1534e2f2a7",
   "metadata": {
    "ExecuteTime": {
     "end_time": "2023-11-11T10:33:36.459120Z",
     "start_time": "2023-11-11T10:33:36.418125300Z"
    }
   },
   "outputs": [],
   "source": [
    "optimizer = RBMOptimizer(\n",
    "                learning_rate=0.05,\n",
    "                momentum=0.9,\n",
    "                decay_factor=1.00005,\n",
    "                regularizers=()\n",
    "            );\n",
    "\n",
    "sampler = DynexSampler(mainnet=True,\n",
    "\n",
    "               num_reads=100, \n",
    "               annealing_time=1000, \n",
    "               debugging=False, \n",
    "               logging=False, \n",
    "               num_gibbs_updates=1, \n",
    "               minimum_stepsize=0.002);"
   ]
  },
  {
   "cell_type": "code",
   "execution_count": 5,
   "id": "b520b594-ea68-4c88-962d-840c7f1ffe93",
   "metadata": {
    "ExecuteTime": {
     "end_time": "2023-11-11T10:33:36.461216400Z",
     "start_time": "2023-11-11T10:33:36.427115800Z"
    }
   },
   "outputs": [],
   "source": [
    "class QModel(nn.Module):\n",
    "    def __init__(self, n_hidden, sampler, optimizer, trainSteps):\n",
    "        super().__init__();\n",
    "        # Dynex 神经形态 layer\n",
    "        self.dnxlayer = dnx(n_hidden, sampler=sampler, optimizer=optimizer, steps_per_epoch=trainSteps); \n",
    "\n",
    "    def forward(self, x):\n",
    "        x = self.dnxlayer(x);\n",
    "        return x;"
   ]
  },
  {
   "cell_type": "markdown",
   "id": "5f207539-7361-4953-a373-57120ff140b5",
   "metadata": {},
   "source": [
    "## 加载数据"
   ]
  },
  {
   "cell_type": "code",
   "execution_count": 6,
   "id": "506946c2-b543-4d28-8576-1b72ef645665",
   "metadata": {
    "ExecuteTime": {
     "end_time": "2023-11-11T10:33:36.462219800Z",
     "start_time": "2023-11-11T10:33:36.433856400Z"
    }
   },
   "outputs": [],
   "source": [
    "# 从灰度到黑白的转换函数\n",
    "from torchvision import transforms\n",
    "class ThresholdTransform(object):\n",
    "  def __init__(self, thr_255):\n",
    "    self.thr = thr_255 / 255.  # 输入的灰度级别的阈值范围为[0..255]，将其转换为[0..1]。\n",
    "\n",
    "  def __call__(self, x):\n",
    "    return (x > self.thr).to(x.dtype)  # 不改变数据类型。\n",
    "\n",
    "data_transformer = transforms.Compose([\n",
    "        #transforms.Grayscale(),\n",
    "        transforms.ToTensor(),\n",
    "        ThresholdTransform(thr_255=240)\n",
    "    ])"
   ]
  },
  {
   "cell_type": "code",
   "execution_count": 7,
   "id": "09636e29-8e5c-4572-854b-7d6169fac19d",
   "metadata": {
    "ExecuteTime": {
     "end_time": "2023-11-11T10:33:36.554387900Z",
     "start_time": "2023-11-11T10:33:36.439116Z"
    }
   },
   "outputs": [
    {
     "name": "stdout",
     "output_type": "stream",
     "text": [
      "[INFO] MNIST dataset loaded\n"
     ]
    }
   ],
   "source": [
    "# 加载MNIST数据集。\n",
    "from torchvision.datasets import MNIST\n",
    "trainData = MNIST(root=\"data\", train=True, download=True,\n",
    "\ttransform=data_transformer)\n",
    "testData = MNIST(root=\"data\", train=False, download=True,\n",
    "\ttransform=data_transformer) \n",
    "print(\"[INFO] MNIST dataset loaded\")"
   ]
  },
  {
   "cell_type": "code",
   "execution_count": 8,
   "id": "9a07a94b-65bd-45a3-826e-731607bd47f3",
   "metadata": {
    "ExecuteTime": {
     "end_time": "2023-11-11T10:33:36.569392100Z",
     "start_time": "2023-11-11T10:33:36.483522200Z"
    }
   },
   "outputs": [
    {
     "data": {
      "text/plain": "Dataset MNIST\n    Number of datapoints: 60000\n    Root location: data\n    Split: Train\n    StandardTransform\nTransform: Compose(\n               ToTensor()\n               <__main__.ThresholdTransform object at 0x0000019422827AC0>\n           )"
     },
     "execution_count": 8,
     "metadata": {},
     "output_type": "execute_result"
    }
   ],
   "source": [
    "trainData"
   ]
  },
  {
   "cell_type": "code",
   "execution_count": 9,
   "id": "03cdfcce-6001-45ef-b3bf-694455b1b6f3",
   "metadata": {
    "ExecuteTime": {
     "end_time": "2023-11-11T10:33:36.569392100Z",
     "start_time": "2023-11-11T10:33:36.493024800Z"
    }
   },
   "outputs": [],
   "source": [
    "# 初始化训练、验证和测试数据加载器。\n",
    "trainDataLoader = DataLoader(trainData, shuffle=True, batch_size=BATCH_SIZE)\n",
    "testDataLoader = DataLoader(testData, batch_size=BATCH_SIZE)"
   ]
  },
  {
   "cell_type": "code",
   "execution_count": 10,
   "id": "be186985-a278-44fb-8976-48c35fcc9642",
   "metadata": {
    "ExecuteTime": {
     "end_time": "2023-11-11T10:33:36.571458800Z",
     "start_time": "2023-11-11T10:33:36.498256500Z"
    }
   },
   "outputs": [
    {
     "name": "stdout",
     "output_type": "stream",
     "text": [
      "5 train steps per epoch\n"
     ]
    }
   ],
   "source": [
    "# 计算训练和验证集的每个周期的步骤数。\n",
    "trainSteps = len(trainDataLoader.dataset) // BATCH_SIZE\n",
    "print(trainSteps,'train steps per epoch');"
   ]
  },
  {
   "cell_type": "markdown",
   "id": "eecbde1b-f124-4df5-a6e1-31befc31dc54",
   "metadata": {},
   "source": [
    "## 训练"
   ]
  },
  {
   "cell_type": "code",
   "execution_count": 11,
   "id": "653ac4f3-89b3-409f-ba17-55584ebbd90a",
   "metadata": {
    "ExecuteTime": {
     "end_time": "2023-11-11T10:33:36.572503100Z",
     "start_time": "2023-11-11T10:33:36.504733100Z"
    }
   },
   "outputs": [],
   "source": [
    "#img_dim = len(trainData.data[0]);\n",
    "n_hidden = 60;\n",
    "model = QModel(n_hidden, sampler, optimizer, trainSteps);"
   ]
  },
  {
   "cell_type": "code",
   "execution_count": 12,
   "id": "86f70235-caf3-4773-9d8b-45c2fc8a4836",
   "metadata": {
    "scrolled": true,
    "ExecuteTime": {
     "end_time": "2023-11-11T10:41:28.707303900Z",
     "start_time": "2023-11-11T10:33:36.512142900Z"
    }
   },
   "outputs": [
    {
     "name": "stdout",
     "output_type": "stream",
     "text": [
      "EPOCH 0 of 1\n",
      "DynexQRBM PyTorch Layer | batch data appended: 1\n",
      "DynexQRBM PyTorch Layer | batch data appended: 2\n",
      "DynexQRBM PyTorch Layer | batch data appended: 3\n",
      "DynexQRBM PyTorch Layer | batch data appended: 4\n",
      "DynexQRBM PyTorch Layer | batch data appended: 5\n",
      "DynexQRBM PyTorch Layer | end of batch, sampling... 60000 x 784\n"
     ]
    },
    {
     "data": {
      "text/plain": "file upload progress:   0%|          | 0.00/4.05M [00:00<?, ?B/s]",
      "application/vnd.jupyter.widget-view+json": {
       "version_major": 2,
       "version_minor": 0,
       "model_id": "04e32b08ffa247758f2e1d1e14e18557"
      }
     },
     "metadata": {},
     "output_type": "display_data"
    },
    {
     "name": "stdout",
     "output_type": "stream",
     "text": [
      "DynexQRBM PyTorch Layer | applying sampling result... 60000 x 784\n",
      "DynexQRBM PyTorch Layer | SME: 0.009540 ACCURACY: 99.046021%\n"
     ]
    }
   ],
   "source": [
    "for e in range(0, EPOCHS):\n",
    "\tprint('EPOCH',e,'of',EPOCHS);\n",
    "\t# 将模型设置为训练模式。\n",
    "\tmodel.train()\n",
    "\t# 遍历训练集。\n",
    "\tfor (x, y) in trainDataLoader:\n",
    "\t\t# 将输入发送到设备\n",
    "\t\t(x, y) = (x.to(device), y.to(device))\n",
    "\t\t# 执行前向传播并计算训练损失。\n",
    "\t\tpred = model(x);"
   ]
  },
  {
   "cell_type": "code",
   "execution_count": 13,
   "id": "de55dc1a-313f-4bb9-99b1-983569fad054",
   "metadata": {
    "ExecuteTime": {
     "end_time": "2023-11-11T10:41:28.713752600Z",
     "start_time": "2023-11-11T10:41:28.709497500Z"
    }
   },
   "outputs": [],
   "source": [
    "dnxModel = model.dnxlayer.errors"
   ]
  },
  {
   "cell_type": "code",
   "execution_count": 14,
   "id": "d6a2894e-4c7a-4a68-9114-8f4f73a57a2d",
   "metadata": {
    "ExecuteTime": {
     "end_time": "2023-11-11T10:41:28.875439100Z",
     "start_time": "2023-11-11T10:41:28.713752600Z"
    }
   },
   "outputs": [
    {
     "data": {
      "text/plain": "<Figure size 640x480 with 1 Axes>",
      "image/png": "[encoded data removed]"
     },
     "metadata": {},
     "output_type": "display_data"
    }
   ],
   "source": [
    "plt.figure()\n",
    "plt.plot(dnxModel, label='dnxModel')\n",
    "plt.xlabel('epoch')\n",
    "plt.ylabel('MSE')\n",
    "plt.legend()\n",
    "plt.show()"
   ]
  },
  {
   "cell_type": "code",
   "execution_count": 14,
   "id": "5bb51465-9286-43a2-bb10-c578c467abeb",
   "metadata": {
    "ExecuteTime": {
     "end_time": "2023-11-11T10:41:28.879679200Z",
     "start_time": "2023-11-11T10:41:28.875439100Z"
    }
   },
   "outputs": [],
   "source": []
  },
  {
   "cell_type": "code",
   "execution_count": 14,
   "id": "91f57868-1591-49cc-9434-8e8620420b1a",
   "metadata": {
    "ExecuteTime": {
     "end_time": "2023-11-11T10:41:28.882835700Z",
     "start_time": "2023-11-11T10:41:28.879679200Z"
    }
   },
   "outputs": [],
   "source": []
  },
  {
   "cell_type": "code",
   "execution_count": 14,
   "id": "e2f051ba-ddc4-4be0-a3e8-b46739928575",
   "metadata": {
    "ExecuteTime": {
     "end_time": "2023-11-11T10:41:28.895397800Z",
     "start_time": "2023-11-11T10:41:28.883839400Z"
    }
   },
   "outputs": [],
   "source": []
  },
  {
   "cell_type": "code",
   "execution_count": 14,
   "id": "6f59c5d7-fac2-4f4f-980b-a1b52bcdef60",
   "metadata": {
    "ExecuteTime": {
     "end_time": "2023-11-11T10:41:28.895397800Z",
     "start_time": "2023-11-11T10:41:28.889062900Z"
    }
   },
   "outputs": [],
   "source": []
  },
  {
   "cell_type": "code",
   "execution_count": 14,
   "id": "ad4e8071-33ef-4dbc-a0d7-a4dc46775190",
   "metadata": {
    "ExecuteTime": {
     "end_time": "2023-11-11T10:41:28.957167900Z",
     "start_time": "2023-11-11T10:41:28.893331400Z"
    }
   },
   "outputs": [],
   "source": []
  },
  {
   "cell_type": "code",
   "execution_count": 14,
   "id": "7516be0c-20fa-4711-b719-70d7cf48f56b",
   "metadata": {
    "ExecuteTime": {
     "end_time": "2023-11-11T10:41:28.957167900Z",
     "start_time": "2023-11-11T10:41:28.897489100Z"
    }
   },
   "outputs": [],
   "source": []
  },
  {
   "cell_type": "code",
   "execution_count": 14,
   "id": "0f0341c6-bfba-456c-b520-a49ad9e7dceb",
   "metadata": {
    "ExecuteTime": {
     "end_time": "2023-11-11T10:41:28.958213100Z",
     "start_time": "2023-11-11T10:41:28.901660800Z"
    }
   },
   "outputs": [],
   "source": []
  },
  {
   "cell_type": "code",
   "execution_count": 14,
   "id": "e0ee5ec4-feed-4bc7-8483-b8d87c68b017",
   "metadata": {
    "ExecuteTime": {
     "end_time": "2023-11-11T10:41:28.958213100Z",
     "start_time": "2023-11-11T10:41:28.904900900Z"
    }
   },
   "outputs": [],
   "source": []
  },
  {
   "cell_type": "code",
   "execution_count": 14,
   "id": "b0a9092d-5a0e-4eeb-8226-6c11ee0c9d5e",
   "metadata": {
    "ExecuteTime": {
     "end_time": "2023-11-11T10:41:28.958213100Z",
     "start_time": "2023-11-11T10:41:28.909036Z"
    }
   },
   "outputs": [],
   "source": []
  },
  {
   "cell_type": "markdown",
   "id": "09d08262-8057-4b31-b3c2-72b52c9fd1b3",
   "metadata": {},
   "source": [
    "## PyTorch CNN"
   ]
  },
  {
   "cell_type": "code",
   "execution_count": 15,
   "id": "7ec401d8-9a0d-4d0e-8d28-a5e87e42e7bd",
   "metadata": {
    "ExecuteTime": {
     "end_time": "2023-11-11T10:41:28.958213100Z",
     "start_time": "2023-11-11T10:41:28.915359600Z"
    }
   },
   "outputs": [],
   "source": [
    "# numChannels:\n",
    "# 1 -> 灰度或二值图像\n",
    "# 3 -> RGB彩色图像\n",
    "# classes:\n",
    "# 输出类别的数量\n",
    "\n",
    "\n",
    "\n",
    "\n",
    "class BasicModel(nn.Module):\n",
    "    def __init__(self, numChannels, classes):\n",
    "         # 调用父类的构造函数：\n",
    "        super().__init__()\n",
    "\n",
    "        # 初始化第一组的CONV => RELU => POOL层。\n",
    "        self.conv1 = Conv2d(in_channels=numChannels, out_channels=20,\n",
    "\t\t\tkernel_size=(5, 5))\n",
    "        self.relu1 = ReLU()\n",
    "        self.maxpool1 = MaxPool2d(kernel_size=(2, 2), stride=(2, 2))\n",
    "\t\t\n",
    "        # 初始化第二组的CONV => RELU => POOL层。\n",
    "        self.conv2 = Conv2d(in_channels=20, out_channels=50,\n",
    "\t\t\tkernel_size=(5, 5))\n",
    "        self.relu2 = ReLU()\n",
    "        self.maxpool2 = MaxPool2d(kernel_size=(2, 2), stride=(2, 2))\n",
    "\t\t\n",
    "        # 初始化第一（也是唯一的）组FC => RELU层。\n",
    "        self.fc1 = Linear(in_features=800, out_features=500)\n",
    "        # self.fc1 = DynexLayer(in_features=800, out_features=500)\n",
    "        self.relu3 = ReLU()\n",
    "\t\t\n",
    "        # 初始化我们的softmax分类器。\n",
    "        self.fc2 = Linear(in_features=500, out_features=classes)\n",
    "        self.logSoftmax = LogSoftmax(dim=1)\n",
    "        \n",
    "        #self.conv = nn.Conv2d(1, 128, 3)\n",
    "        #self.linear = DynexLayer(256, 2);\n",
    "        \n",
    "\n",
    "    def forward(self, x):\n",
    "        # 通过我们的第一组CONV => RELU => 将输入传递\n",
    "\t\t# POOL layers\n",
    "        x = self.conv1(x)\n",
    "        x = self.relu1(x)\n",
    "        x = self.maxpool1(x)\n",
    "\t\t# 将前一层的输出传递给第二层。\n",
    "\t\t# set of CONV => RELU => POOL layers\n",
    "        x = self.conv2(x)\n",
    "        x = self.relu2(x)\n",
    "        x = self.maxpool2(x)\n",
    "\t\t# 将前一层的输出展平并传递。\n",
    "\t\t# 通过我们唯一的FC => RELU层。\n",
    "        x = flatten(x, 1)\n",
    "        x = self.fc1(x)\n",
    "        x = self.relu3(x)\n",
    "\t\t# 将输出传递到我们的softmax分类器以获取输出。\n",
    "\t\t# 预测\n",
    "        x = self.fc2(x)\n",
    "        output = self.logSoftmax(x)\n",
    "\t\t# 返回输出预测\n",
    "        return output\n",
    "        \n",
    "        #x = self. conv(x)\n",
    "        #x = x.view(-1, 256)\n",
    "        #return self.linear(x)"
   ]
  },
  {
   "cell_type": "code",
   "execution_count": 16,
   "id": "0d72fcc3-7297-4247-ba37-334731043482",
   "metadata": {
    "ExecuteTime": {
     "end_time": "2023-11-11T10:41:28.958213100Z",
     "start_time": "2023-11-11T10:41:28.920564800Z"
    }
   },
   "outputs": [],
   "source": [
    "# 定义训练超参数\n",
    "INIT_LR = 1e-3\n",
    "BATCH_SIZE = 64\n",
    "EPOCHS = 10\n",
    "# 定义训练和验证集的拆分\n",
    "TRAIN_SPLIT = 0.75\n",
    "VAL_SPLIT = 1 - TRAIN_SPLIT\n",
    "# 设置用于训练模型的设备\n",
    "device = torch.device(\"cuda\" if torch.cuda.is_available() else \"cpu\")"
   ]
  },
  {
   "cell_type": "code",
   "execution_count": 17,
   "id": "9f0fd607-768a-4bfc-b8cd-2ada1ed9d2f4",
   "metadata": {
    "ExecuteTime": {
     "end_time": "2023-11-11T10:41:28.958213100Z",
     "start_time": "2023-11-11T10:41:28.924817Z"
    }
   },
   "outputs": [],
   "source": [
    "# 加载MNIST数据集\n",
    "#from torchvision.datasets import MNIST\n",
    "#print(\"[INFO] loading the MNIST dataset...\")\n",
    "#trainData = MNIST(root=\"data\", train=True, download=True,\n",
    "#\ttransform=ToTensor())\n",
    "#testData = MNIST(root=\"data\", train=False, download=True,\n",
    "#\ttransform=ToTensor())"
   ]
  },
  {
   "cell_type": "code",
   "execution_count": 18,
   "id": "40bf4056-4e9b-43ed-bc13-3827f5adfd83",
   "metadata": {
    "ExecuteTime": {
     "end_time": "2023-11-11T10:42:21.096458300Z",
     "start_time": "2023-11-11T10:41:28.932111100Z"
    }
   },
   "outputs": [
    {
     "name": "stdout",
     "output_type": "stream",
     "text": [
      "[INFO] loading the CIFAR10 dataset...\n",
      "Downloading https://www.cs.toronto.edu/~kriz/cifar-10-python.tar.gz to data\\cifar-10-python.tar.gz\n"
     ]
    },
    {
     "name": "stderr",
     "output_type": "stream",
     "text": [
      "100%|██████████| 170498071/170498071 [00:46<00:00, 3647668.75it/s]\n"
     ]
    },
    {
     "name": "stdout",
     "output_type": "stream",
     "text": [
      "Extracting data\\cifar-10-python.tar.gz to data\n",
      "Files already downloaded and verified\n"
     ]
    }
   ],
   "source": [
    "# 加载CIFAR10数据集。\n",
    "from torchvision.datasets import CIFAR10\n",
    "print(\"[INFO] loading the CIFAR10 dataset...\")\n",
    "trainData = CIFAR10(root=\"data\", train=True, download=True,\n",
    "\ttransform=ToTensor())\n",
    "testData = CIFAR10(root=\"data\", train=False, download=True,\n",
    "\ttransform=ToTensor())"
   ]
  },
  {
   "cell_type": "code",
   "execution_count": 18,
   "id": "7355426c-4f7b-4532-84fe-e45b5ad3679a",
   "metadata": {
    "ExecuteTime": {
     "end_time": "2023-11-11T10:42:21.100565400Z",
     "start_time": "2023-11-11T10:42:21.098511100Z"
    }
   },
   "outputs": [],
   "source": []
  },
  {
   "cell_type": "code",
   "execution_count": 19,
   "id": "05548f5f-21d5-44c6-8f51-767a4b154927",
   "metadata": {
    "ExecuteTime": {
     "end_time": "2023-11-11T10:42:21.107873800Z",
     "start_time": "2023-11-11T10:42:21.099536100Z"
    }
   },
   "outputs": [
    {
     "name": "stdout",
     "output_type": "stream",
     "text": [
      "[INFO] generating the train/validation split...\n",
      "37500 train samples and 12500 validation samples\n"
     ]
    }
   ],
   "source": [
    "# 计算训练/验证集的拆分。\n",
    "print(\"[INFO] generating the train/validation split...\")\n",
    "numTrainSamples = int(len(trainData) * TRAIN_SPLIT)\n",
    "numValSamples = int(len(trainData) * VAL_SPLIT)\n",
    "(trainData, valData) = random_split(trainData,\n",
    "\t[numTrainSamples, numValSamples],\n",
    "\tgenerator=torch.Generator().manual_seed(42))\n",
    "print(numTrainSamples,'train samples and',numValSamples,'validation samples');"
   ]
  },
  {
   "cell_type": "code",
   "execution_count": 20,
   "id": "366bd74a-6c56-4a87-b884-d4bd61f17eaa",
   "metadata": {
    "ExecuteTime": {
     "end_time": "2023-11-11T10:42:21.120495800Z",
     "start_time": "2023-11-11T10:42:21.108983400Z"
    }
   },
   "outputs": [],
   "source": [
    "# 初始化训练、验证和测试数据加载器。\n",
    "trainDataLoader = DataLoader(trainData, shuffle=True,\n",
    "\tbatch_size=BATCH_SIZE)\n",
    "valDataLoader = DataLoader(valData, batch_size=BATCH_SIZE)\n",
    "testDataLoader = DataLoader(testData, batch_size=BATCH_SIZE)"
   ]
  },
  {
   "cell_type": "code",
   "execution_count": 21,
   "id": "dadcf11a-251e-4be0-b022-97b9804fc522",
   "metadata": {
    "ExecuteTime": {
     "end_time": "2023-11-11T10:42:21.166729300Z",
     "start_time": "2023-11-11T10:42:21.115224300Z"
    }
   },
   "outputs": [
    {
     "name": "stdout",
     "output_type": "stream",
     "text": [
      "585 train steps and 195 validation steps\n"
     ]
    }
   ],
   "source": [
    "# 计算训练集和验证集的每个周期的步骤数。\n",
    "trainSteps = len(trainDataLoader.dataset) // BATCH_SIZE\n",
    "valSteps = len(valDataLoader.dataset) // BATCH_SIZE\n",
    "print(trainSteps,'train steps and',valSteps,'validation steps');"
   ]
  },
  {
   "cell_type": "code",
   "execution_count": 22,
   "id": "ef38a8d8-b2b3-4113-a715-db205bbed428",
   "metadata": {
    "ExecuteTime": {
     "end_time": "2023-11-11T10:42:21.683900100Z",
     "start_time": "2023-11-11T10:42:21.122617400Z"
    }
   },
   "outputs": [
    {
     "name": "stdout",
     "output_type": "stream",
     "text": [
      "[INFO] initializing the model...\n"
     ]
    }
   ],
   "source": [
    "# 初始化模型。\n",
    "print(\"[INFO] initializing the model...\")\n",
    "model = BasicModel(numChannels=1, classes=len(trainData.dataset.classes)).to(device)"
   ]
  },
  {
   "cell_type": "code",
   "execution_count": 23,
   "id": "4a8e94d8-a2ba-489f-9118-40e12556e311",
   "metadata": {
    "ExecuteTime": {
     "end_time": "2023-11-11T10:42:21.694886400Z",
     "start_time": "2023-11-11T10:42:21.684950200Z"
    }
   },
   "outputs": [],
   "source": [
    "# 初始化我们的优化器和损失函数。\n",
    "opt = Adam(model.parameters(), lr=INIT_LR)\n",
    "lossFn = nn.NLLLoss()"
   ]
  },
  {
   "cell_type": "code",
   "execution_count": 24,
   "id": "cc536f09-7ef3-4e5f-9d59-213e9e0460ab",
   "metadata": {
    "ExecuteTime": {
     "end_time": "2023-11-11T10:42:21.695404900Z",
     "start_time": "2023-11-11T10:42:21.689094900Z"
    }
   },
   "outputs": [],
   "source": [
    "# 初始化一个字典来存储训练历史。\n",
    "\n",
    "H = {\n",
    "\t\"train_loss\": [],\n",
    "\t\"train_acc\": [],\n",
    "\t\"val_loss\": [],\n",
    "\t\"val_acc\": []\n",
    "}"
   ]
  },
  {
   "cell_type": "markdown",
   "id": "6193dbbe-760d-435d-b94c-2a0f0c78f722",
   "metadata": {},
   "source": [
    "## 训练模型"
   ]
  },
  {
   "cell_type": "code",
   "execution_count": 25,
   "id": "2219ec49-1340-4e27-8d6c-a270179b1f01",
   "metadata": {
    "ExecuteTime": {
     "end_time": "2023-11-11T10:42:30.214523100Z",
     "start_time": "2023-11-11T10:42:21.693351900Z"
    }
   },
   "outputs": [
    {
     "ename": "RuntimeError",
     "evalue": "Given groups=1, weight of size [20, 1, 5, 5], expected input[64, 3, 32, 32] to have 1 channels, but got 3 channels instead",
     "output_type": "error",
     "traceback": [
      "\u001B[1;31m---------------------------------------------------------------------------\u001B[0m",
      "\u001B[1;31mRuntimeError\u001B[0m                              Traceback (most recent call last)",
      "Cell \u001B[1;32mIn[25], line 18\u001B[0m\n\u001B[0;32m     16\u001B[0m (x, y) \u001B[38;5;241m=\u001B[39m (x\u001B[38;5;241m.\u001B[39mto(device), y\u001B[38;5;241m.\u001B[39mto(device))\n\u001B[0;32m     17\u001B[0m \u001B[38;5;66;03m# 执行前向传播并计算训练损失。\u001B[39;00m\n\u001B[1;32m---> 18\u001B[0m pred \u001B[38;5;241m=\u001B[39m \u001B[43mmodel\u001B[49m\u001B[43m(\u001B[49m\u001B[43mx\u001B[49m\u001B[43m)\u001B[49m\n\u001B[0;32m     19\u001B[0m loss \u001B[38;5;241m=\u001B[39m lossFn(pred, y)\n\u001B[0;32m     20\u001B[0m \u001B[38;5;66;03m# 清零梯度，执行反向传播步骤\u001B[39;00m\n\u001B[0;32m     21\u001B[0m \u001B[38;5;66;03m# 并更新权重。\u001B[39;00m\n",
      "File \u001B[1;32mP:\\pythonProject\\DynexSDK\\py310\\lib\\site-packages\\torch\\nn\\modules\\module.py:1518\u001B[0m, in \u001B[0;36mModule._wrapped_call_impl\u001B[1;34m(self, *args, **kwargs)\u001B[0m\n\u001B[0;32m   1516\u001B[0m     \u001B[38;5;28;01mreturn\u001B[39;00m \u001B[38;5;28mself\u001B[39m\u001B[38;5;241m.\u001B[39m_compiled_call_impl(\u001B[38;5;241m*\u001B[39margs, \u001B[38;5;241m*\u001B[39m\u001B[38;5;241m*\u001B[39mkwargs)  \u001B[38;5;66;03m# type: ignore[misc]\u001B[39;00m\n\u001B[0;32m   1517\u001B[0m \u001B[38;5;28;01melse\u001B[39;00m:\n\u001B[1;32m-> 1518\u001B[0m     \u001B[38;5;28;01mreturn\u001B[39;00m \u001B[38;5;28mself\u001B[39m\u001B[38;5;241m.\u001B[39m_call_impl(\u001B[38;5;241m*\u001B[39margs, \u001B[38;5;241m*\u001B[39m\u001B[38;5;241m*\u001B[39mkwargs)\n",
      "File \u001B[1;32mP:\\pythonProject\\DynexSDK\\py310\\lib\\site-packages\\torch\\nn\\modules\\module.py:1527\u001B[0m, in \u001B[0;36mModule._call_impl\u001B[1;34m(self, *args, **kwargs)\u001B[0m\n\u001B[0;32m   1522\u001B[0m \u001B[38;5;66;03m# If we don't have any hooks, we want to skip the rest of the logic in\u001B[39;00m\n\u001B[0;32m   1523\u001B[0m \u001B[38;5;66;03m# this function, and just call forward.\u001B[39;00m\n\u001B[0;32m   1524\u001B[0m \u001B[38;5;28;01mif\u001B[39;00m \u001B[38;5;129;01mnot\u001B[39;00m (\u001B[38;5;28mself\u001B[39m\u001B[38;5;241m.\u001B[39m_backward_hooks \u001B[38;5;129;01mor\u001B[39;00m \u001B[38;5;28mself\u001B[39m\u001B[38;5;241m.\u001B[39m_backward_pre_hooks \u001B[38;5;129;01mor\u001B[39;00m \u001B[38;5;28mself\u001B[39m\u001B[38;5;241m.\u001B[39m_forward_hooks \u001B[38;5;129;01mor\u001B[39;00m \u001B[38;5;28mself\u001B[39m\u001B[38;5;241m.\u001B[39m_forward_pre_hooks\n\u001B[0;32m   1525\u001B[0m         \u001B[38;5;129;01mor\u001B[39;00m _global_backward_pre_hooks \u001B[38;5;129;01mor\u001B[39;00m _global_backward_hooks\n\u001B[0;32m   1526\u001B[0m         \u001B[38;5;129;01mor\u001B[39;00m _global_forward_hooks \u001B[38;5;129;01mor\u001B[39;00m _global_forward_pre_hooks):\n\u001B[1;32m-> 1527\u001B[0m     \u001B[38;5;28;01mreturn\u001B[39;00m forward_call(\u001B[38;5;241m*\u001B[39margs, \u001B[38;5;241m*\u001B[39m\u001B[38;5;241m*\u001B[39mkwargs)\n\u001B[0;32m   1529\u001B[0m \u001B[38;5;28;01mtry\u001B[39;00m:\n\u001B[0;32m   1530\u001B[0m     result \u001B[38;5;241m=\u001B[39m \u001B[38;5;28;01mNone\u001B[39;00m\n",
      "Cell \u001B[1;32mIn[15], line 43\u001B[0m, in \u001B[0;36mBasicModel.forward\u001B[1;34m(self, x)\u001B[0m\n\u001B[0;32m     40\u001B[0m     \u001B[38;5;28;01mdef\u001B[39;00m \u001B[38;5;21mforward\u001B[39m(\u001B[38;5;28mself\u001B[39m, x):\n\u001B[0;32m     41\u001B[0m         \u001B[38;5;66;03m# 通过我们的第一组CONV => RELU => 将输入传递\u001B[39;00m\n\u001B[0;32m     42\u001B[0m \t\t\u001B[38;5;66;03m# POOL layers\u001B[39;00m\n\u001B[1;32m---> 43\u001B[0m         x \u001B[38;5;241m=\u001B[39m \u001B[38;5;28;43mself\u001B[39;49m\u001B[38;5;241;43m.\u001B[39;49m\u001B[43mconv1\u001B[49m\u001B[43m(\u001B[49m\u001B[43mx\u001B[49m\u001B[43m)\u001B[49m\n\u001B[0;32m     44\u001B[0m         x \u001B[38;5;241m=\u001B[39m \u001B[38;5;28mself\u001B[39m\u001B[38;5;241m.\u001B[39mrelu1(x)\n\u001B[0;32m     45\u001B[0m         x \u001B[38;5;241m=\u001B[39m \u001B[38;5;28mself\u001B[39m\u001B[38;5;241m.\u001B[39mmaxpool1(x)\n",
      "File \u001B[1;32mP:\\pythonProject\\DynexSDK\\py310\\lib\\site-packages\\torch\\nn\\modules\\module.py:1518\u001B[0m, in \u001B[0;36mModule._wrapped_call_impl\u001B[1;34m(self, *args, **kwargs)\u001B[0m\n\u001B[0;32m   1516\u001B[0m     \u001B[38;5;28;01mreturn\u001B[39;00m \u001B[38;5;28mself\u001B[39m\u001B[38;5;241m.\u001B[39m_compiled_call_impl(\u001B[38;5;241m*\u001B[39margs, \u001B[38;5;241m*\u001B[39m\u001B[38;5;241m*\u001B[39mkwargs)  \u001B[38;5;66;03m# type: ignore[misc]\u001B[39;00m\n\u001B[0;32m   1517\u001B[0m \u001B[38;5;28;01melse\u001B[39;00m:\n\u001B[1;32m-> 1518\u001B[0m     \u001B[38;5;28;01mreturn\u001B[39;00m \u001B[38;5;28mself\u001B[39m\u001B[38;5;241m.\u001B[39m_call_impl(\u001B[38;5;241m*\u001B[39margs, \u001B[38;5;241m*\u001B[39m\u001B[38;5;241m*\u001B[39mkwargs)\n",
      "File \u001B[1;32mP:\\pythonProject\\DynexSDK\\py310\\lib\\site-packages\\torch\\nn\\modules\\module.py:1527\u001B[0m, in \u001B[0;36mModule._call_impl\u001B[1;34m(self, *args, **kwargs)\u001B[0m\n\u001B[0;32m   1522\u001B[0m \u001B[38;5;66;03m# If we don't have any hooks, we want to skip the rest of the logic in\u001B[39;00m\n\u001B[0;32m   1523\u001B[0m \u001B[38;5;66;03m# this function, and just call forward.\u001B[39;00m\n\u001B[0;32m   1524\u001B[0m \u001B[38;5;28;01mif\u001B[39;00m \u001B[38;5;129;01mnot\u001B[39;00m (\u001B[38;5;28mself\u001B[39m\u001B[38;5;241m.\u001B[39m_backward_hooks \u001B[38;5;129;01mor\u001B[39;00m \u001B[38;5;28mself\u001B[39m\u001B[38;5;241m.\u001B[39m_backward_pre_hooks \u001B[38;5;129;01mor\u001B[39;00m \u001B[38;5;28mself\u001B[39m\u001B[38;5;241m.\u001B[39m_forward_hooks \u001B[38;5;129;01mor\u001B[39;00m \u001B[38;5;28mself\u001B[39m\u001B[38;5;241m.\u001B[39m_forward_pre_hooks\n\u001B[0;32m   1525\u001B[0m         \u001B[38;5;129;01mor\u001B[39;00m _global_backward_pre_hooks \u001B[38;5;129;01mor\u001B[39;00m _global_backward_hooks\n\u001B[0;32m   1526\u001B[0m         \u001B[38;5;129;01mor\u001B[39;00m _global_forward_hooks \u001B[38;5;129;01mor\u001B[39;00m _global_forward_pre_hooks):\n\u001B[1;32m-> 1527\u001B[0m     \u001B[38;5;28;01mreturn\u001B[39;00m forward_call(\u001B[38;5;241m*\u001B[39margs, \u001B[38;5;241m*\u001B[39m\u001B[38;5;241m*\u001B[39mkwargs)\n\u001B[0;32m   1529\u001B[0m \u001B[38;5;28;01mtry\u001B[39;00m:\n\u001B[0;32m   1530\u001B[0m     result \u001B[38;5;241m=\u001B[39m \u001B[38;5;28;01mNone\u001B[39;00m\n",
      "File \u001B[1;32mP:\\pythonProject\\DynexSDK\\py310\\lib\\site-packages\\torch\\nn\\modules\\conv.py:460\u001B[0m, in \u001B[0;36mConv2d.forward\u001B[1;34m(self, input)\u001B[0m\n\u001B[0;32m    459\u001B[0m \u001B[38;5;28;01mdef\u001B[39;00m \u001B[38;5;21mforward\u001B[39m(\u001B[38;5;28mself\u001B[39m, \u001B[38;5;28minput\u001B[39m: Tensor) \u001B[38;5;241m-\u001B[39m\u001B[38;5;241m>\u001B[39m Tensor:\n\u001B[1;32m--> 460\u001B[0m     \u001B[38;5;28;01mreturn\u001B[39;00m \u001B[38;5;28;43mself\u001B[39;49m\u001B[38;5;241;43m.\u001B[39;49m\u001B[43m_conv_forward\u001B[49m\u001B[43m(\u001B[49m\u001B[38;5;28;43minput\u001B[39;49m\u001B[43m,\u001B[49m\u001B[43m \u001B[49m\u001B[38;5;28;43mself\u001B[39;49m\u001B[38;5;241;43m.\u001B[39;49m\u001B[43mweight\u001B[49m\u001B[43m,\u001B[49m\u001B[43m \u001B[49m\u001B[38;5;28;43mself\u001B[39;49m\u001B[38;5;241;43m.\u001B[39;49m\u001B[43mbias\u001B[49m\u001B[43m)\u001B[49m\n",
      "File \u001B[1;32mP:\\pythonProject\\DynexSDK\\py310\\lib\\site-packages\\torch\\nn\\modules\\conv.py:456\u001B[0m, in \u001B[0;36mConv2d._conv_forward\u001B[1;34m(self, input, weight, bias)\u001B[0m\n\u001B[0;32m    452\u001B[0m \u001B[38;5;28;01mif\u001B[39;00m \u001B[38;5;28mself\u001B[39m\u001B[38;5;241m.\u001B[39mpadding_mode \u001B[38;5;241m!=\u001B[39m \u001B[38;5;124m'\u001B[39m\u001B[38;5;124mzeros\u001B[39m\u001B[38;5;124m'\u001B[39m:\n\u001B[0;32m    453\u001B[0m     \u001B[38;5;28;01mreturn\u001B[39;00m F\u001B[38;5;241m.\u001B[39mconv2d(F\u001B[38;5;241m.\u001B[39mpad(\u001B[38;5;28minput\u001B[39m, \u001B[38;5;28mself\u001B[39m\u001B[38;5;241m.\u001B[39m_reversed_padding_repeated_twice, mode\u001B[38;5;241m=\u001B[39m\u001B[38;5;28mself\u001B[39m\u001B[38;5;241m.\u001B[39mpadding_mode),\n\u001B[0;32m    454\u001B[0m                     weight, bias, \u001B[38;5;28mself\u001B[39m\u001B[38;5;241m.\u001B[39mstride,\n\u001B[0;32m    455\u001B[0m                     _pair(\u001B[38;5;241m0\u001B[39m), \u001B[38;5;28mself\u001B[39m\u001B[38;5;241m.\u001B[39mdilation, \u001B[38;5;28mself\u001B[39m\u001B[38;5;241m.\u001B[39mgroups)\n\u001B[1;32m--> 456\u001B[0m \u001B[38;5;28;01mreturn\u001B[39;00m \u001B[43mF\u001B[49m\u001B[38;5;241;43m.\u001B[39;49m\u001B[43mconv2d\u001B[49m\u001B[43m(\u001B[49m\u001B[38;5;28;43minput\u001B[39;49m\u001B[43m,\u001B[49m\u001B[43m \u001B[49m\u001B[43mweight\u001B[49m\u001B[43m,\u001B[49m\u001B[43m \u001B[49m\u001B[43mbias\u001B[49m\u001B[43m,\u001B[49m\u001B[43m \u001B[49m\u001B[38;5;28;43mself\u001B[39;49m\u001B[38;5;241;43m.\u001B[39;49m\u001B[43mstride\u001B[49m\u001B[43m,\u001B[49m\n\u001B[0;32m    457\u001B[0m \u001B[43m                \u001B[49m\u001B[38;5;28;43mself\u001B[39;49m\u001B[38;5;241;43m.\u001B[39;49m\u001B[43mpadding\u001B[49m\u001B[43m,\u001B[49m\u001B[43m \u001B[49m\u001B[38;5;28;43mself\u001B[39;49m\u001B[38;5;241;43m.\u001B[39;49m\u001B[43mdilation\u001B[49m\u001B[43m,\u001B[49m\u001B[43m \u001B[49m\u001B[38;5;28;43mself\u001B[39;49m\u001B[38;5;241;43m.\u001B[39;49m\u001B[43mgroups\u001B[49m\u001B[43m)\u001B[49m\n",
      "\u001B[1;31mRuntimeError\u001B[0m: Given groups=1, weight of size [20, 1, 5, 5], expected input[64, 3, 32, 32] to have 1 channels, but got 3 channels instead"
     ]
    }
   ],
   "source": [
    "# 训练：遍历周期。\n",
    "\n",
    "for e in range(0, EPOCHS):\n",
    "\t# 将模型设置为训练模式\n",
    "\tmodel.train()\n",
    "\t# 初始化总的训练和验证损失\n",
    "\ttotalTrainLoss = 0\n",
    "\ttotalValLoss = 0\n",
    "\t# 初始化训练中正确预测的数量。\n",
    "\t# and 验证步骤\n",
    "\ttrainCorrect = 0\n",
    "\tvalCorrect = 0\n",
    "\t# 遍历训练集\n",
    "\tfor (x, y) in trainDataLoader:\n",
    "\t\t# 将输入发送到设备。\n",
    "\t\t(x, y) = (x.to(device), y.to(device))\n",
    "\t\t# 执行前向传播并计算训练损失。\n",
    "\t\tpred = model(x)\n",
    "\t\tloss = lossFn(pred, y)\n",
    "\t\t# 清零梯度，执行反向传播步骤\n",
    "\t\t# 并更新权重。\n",
    "\t\topt.zero_grad()\n",
    "\t\tloss.backward()\n",
    "\t\topt.step()\n",
    "\t\t# 将损失添加到到目前为止的总训练损失中，\n",
    "\t\t# 计算正确预测的数量。\n",
    "\t\ttotalTrainLoss += loss\n",
    "\t\ttrainCorrect += (pred.argmax(1) == y).type(\n",
    "\t\t\ttorch.float).sum().item()\n",
    "\t\n",
    "    # 评估：在评估时关闭自动微分。\n",
    "\twith torch.no_grad():\n",
    "    \t# 将模型设置为评估模式。\n",
    "\t\tmodel.eval()\n",
    "    \t# 遍历验证集。\n",
    "\t\tfor (x, y) in valDataLoader:\n",
    "        \t# 将输入发送到设备。\n",
    "\t\t    (x, y) = (x.to(device), y.to(device))\n",
    "        \t# 进行预测并计算验证损失。\n",
    "\t\t    pred = model(x)\n",
    "\t\t    totalValLoss += lossFn(pred, y)\n",
    "        \t# 计算正确预测的数量\n",
    "\t\t    valCorrect += (pred.argmax(1) == y).type(\n",
    "                torch.float).sum().item()\n",
    "\n",
    "\t# 计算平均训练和验证损失。\n",
    "\tavgTrainLoss = totalTrainLoss / trainSteps\n",
    "\tavgValLoss = totalValLoss / valSteps\n",
    "\t# 计算训练和验证的准确率\n",
    "\ttrainCorrect = trainCorrect / len(trainDataLoader.dataset)\n",
    "\tvalCorrect = valCorrect / len(valDataLoader.dataset)\n",
    "\t# 更新我们的训练历史。\n",
    "\tH[\"train_loss\"].append(avgTrainLoss.cpu().detach().numpy())\n",
    "\tH[\"train_acc\"].append(trainCorrect)\n",
    "\tH[\"val_loss\"].append(avgValLoss.cpu().detach().numpy())\n",
    "\tH[\"val_acc\"].append(valCorrect)\n",
    "\t# 打印模型的训练和验证信息。\n",
    "\tprint(\"[INFO] EPOCH: {}/{}\".format(e + 1, EPOCHS))\n",
    "\tprint(\"Train loss: {:.6f}, Train accuracy: {:.4f}\".format(\n",
    "        avgTrainLoss, trainCorrect))\n",
    "\tprint(\"Val loss: {:.6f}, Val accuracy: {:.4f}\\n\".format(\n",
    "        avgValLoss, valCorrect))"
   ]
  },
  {
   "cell_type": "markdown",
   "id": "127914cb-3e67-4a92-b061-656a16bcb580",
   "metadata": {},
   "source": [
    "## 统计数据"
   ]
  },
  {
   "cell_type": "code",
   "execution_count": null,
   "id": "3738a1f7-9b0a-44e8-ab0f-6685b38d83c4",
   "metadata": {
    "ExecuteTime": {
     "end_time": "2023-11-11T10:42:30.216705700Z",
     "start_time": "2023-11-11T10:42:30.215586900Z"
    }
   },
   "outputs": [],
   "source": [
    "# 在测试评估中关闭自动微分。\n",
    "with torch.no_grad():\n",
    "\t# 将模型设置为评估模式。\n",
    "\tmodel.eval()\n",
    "\t\n",
    "\t# 初始化一个列表以存储我们的预测。\n",
    "\tpreds = []\n",
    "\t# 遍历测试集。\n",
    "\tfor (x, y) in testDataLoader:\n",
    "\t\t# 将输入发送到设备。\n",
    "\t\tx = x.to(device)\n",
    "\t\t# 进行预测并将它们添加到列表中。\n",
    "\t\tpred = model(x)\n",
    "\t\tpreds.extend(pred.argmax(axis=1).cpu().numpy())\n",
    "# 生成一个分类报告。\n",
    "print(classification_report(testData.targets.cpu().numpy(),\n",
    "\tnp.array(preds), target_names=testData.classes))"
   ]
  },
  {
   "cell_type": "markdown",
   "id": "648804bf-7bfb-40a8-9d27-dee1729bdc68",
   "metadata": {},
   "source": [
    "## 画出结果"
   ]
  },
  {
   "cell_type": "code",
   "execution_count": null,
   "id": "8eea191c-4f28-41c2-814c-f519ce9da73f",
   "metadata": {
    "ExecuteTime": {
     "start_time": "2023-11-11T10:42:30.216629900Z"
    }
   },
   "outputs": [],
   "source": [
    "# 绘制训练损失和准确率。\n",
    "# 使用\"ggplot\"样式\n",
    "plt.figure()\n",
    "plt.plot(H[\"train_loss\"], label=\"train_loss\")\n",
    "plt.plot(H[\"val_loss\"], label=\"val_loss\")\n",
    "plt.plot(H[\"train_acc\"], label=\"train_acc\")\n",
    "plt.plot(H[\"val_acc\"], label=\"val_acc\")\n",
    "plt.title(\"Training Loss and Accuracy on Dataset\")\n",
    "plt.xlabel(\"Epoch #\")\n",
    "plt.ylabel(\"Loss/Accuracy\")\n",
    "plt.legend(loc=\"lower left\")\n",
    "plt.show()\n",
    "#plt.savefig(args[\"plot\"])\n",
    "# 保存到硬盘\n",
    "#torch.save(model, args[\"model\"])"
   ]
  },
  {
   "cell_type": "code",
   "execution_count": null,
   "id": "a6b228a6-47f0-4ff9-ab87-44550815b9b5",
   "metadata": {
    "ExecuteTime": {
     "end_time": "2023-11-11T10:42:30.220834500Z",
     "start_time": "2023-11-11T10:42:30.217710300Z"
    }
   },
   "outputs": [],
   "source": []
  },
  {
   "cell_type": "code",
   "execution_count": null,
   "id": "9d09280f-8bfd-4381-b553-8bb9cced00ce",
   "metadata": {
    "ExecuteTime": {
     "start_time": "2023-11-11T10:42:30.218759500Z"
    }
   },
   "outputs": [],
   "source": []
  },
  {
   "cell_type": "code",
   "execution_count": null,
   "id": "72a122de-0410-4a31-a31e-44f6fc704176",
   "metadata": {
    "ExecuteTime": {
     "end_time": "2023-11-11T10:42:30.220834500Z",
     "start_time": "2023-11-11T10:42:30.220834500Z"
    }
   },
   "outputs": [],
   "source": []
  }
 ],
 "metadata": {
  "kernelspec": {
   "display_name": "Python 3 (ipykernel)",
   "language": "python",
   "name": "python3"
  },
  "language_info": {
   "codemirror_mode": {
    "name": "ipython",
    "version": 3
   },
   "file_extension": ".py",
   "mimetype": "text/x-python",
   "name": "python",
   "nbconvert_exporter": "python",
   "pygments_lexer": "ipython3",
   "version": "3.10.12"
  }
 },
 "nbformat": 4,
 "nbformat_minor": 5
}
