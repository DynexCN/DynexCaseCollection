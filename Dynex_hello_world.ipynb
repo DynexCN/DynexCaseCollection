{
 "cells": [
  {
   "cell_type": "markdown",
   "id": "dab9797a-d695-430d-9345-801697b584db",
   "metadata": {},
   "source": [
    "# Dynex SDK - 测试SDK"
   ]
  },
  {
   "cell_type": "code",
   "execution_count": 32,
   "id": "a49802e4-2b5b-4046-b69b-e0b33cfbc2c4",
   "metadata": {
    "ExecuteTime": {
     "end_time": "2023-11-04T13:04:37.159677100Z",
     "start_time": "2023-11-04T13:04:36.960963600Z"
    }
   },
   "outputs": [
    {
     "name": "stdout",
     "output_type": "stream",
     "text": [
      "The autoreload extension is already loaded. To reload it, use:\n",
      "  %reload_ext autoreload\n"
     ]
    }
   ],
   "source": [
    "%load_ext autoreload\n",
    "%autoreload 2"
   ]
  },
  {
   "cell_type": "code",
   "execution_count": 33,
   "id": "ce9c9138-5168-49a6-953b-69dd0c2cd297",
   "metadata": {
    "ExecuteTime": {
     "end_time": "2023-11-04T13:04:37.280399Z",
     "start_time": "2023-11-04T13:04:37.120591100Z"
    }
   },
   "outputs": [],
   "source": [
    "import dynex\n",
    "import dimod\n",
    "from pyqubo import Array"
   ]
  },
  {
   "cell_type": "markdown",
   "id": "e3d50bf1-174a-49a2-8e4a-4b38d755e3b9",
   "metadata": {},
   "source": [
    "## 验证Dynex版本"
   ]
  },
  {
   "cell_type": "code",
   "execution_count": 34,
   "id": "cf95e0fb-fd5e-42ef-a802-eaf70fb5eee7",
   "metadata": {
    "ExecuteTime": {
     "end_time": "2023-11-04T13:04:37.434871900Z",
     "start_time": "2023-11-04T13:04:37.278444600Z"
    }
   },
   "outputs": [
    {
     "data": {
      "text/plain": "'0.1.10'"
     },
     "execution_count": 34,
     "metadata": {},
     "output_type": "execute_result"
    }
   ],
   "source": [
    "dynex.__version__"
   ]
  },
  {
   "cell_type": "markdown",
   "id": "bc8795b4-bfd8-486e-b2e0-d98785b2aa49",
   "metadata": {},
   "source": [
    "## 测试您的配置"
   ]
  },
  {
   "cell_type": "markdown",
   "id": "2e763f4f-d24f-4ca7-93a3-cdab70950a0a",
   "metadata": {},
   "source": [
    "需要成功运行才能开始使用 Dynex SDK 进行采样。在使用 Dynex SDK 进行采样之前，必须确保之前的运行是成功的，以确保系统或配置处于正常工作状态。"
   ]
  },
  {
   "cell_type": "code",
   "execution_count": 35,
   "id": "442e7b70-7213-430c-82ef-5b165d1f382a",
   "metadata": {
    "ExecuteTime": {
     "end_time": "2023-11-04T13:05:09.907640500Z",
     "start_time": "2023-11-04T13:04:37.430967200Z"
    }
   },
   "outputs": [
    {
     "name": "stdout",
     "output_type": "stream",
     "text": [
      "[DYNEX] TEST: dimod BQM construction...\n",
      "[DYNEX] PASSED\n",
      "[DYNEX] TEST: Dynex Sampler object...\n",
      "[DYNEX] PASSED\n",
      "[DYNEX] TEST: uploading computing file...\n"
     ]
    },
    {
     "data": {
      "text/plain": "file upload progress:   0%|          | 0.00/65.0 [00:00<?, ?B/s]",
      "application/vnd.jupyter.widget-view+json": {
       "version_major": 2,
       "version_minor": 0,
       "model_id": "69976e9d33d74278b629353044f62986"
      }
     },
     "metadata": {},
     "output_type": "display_data"
    },
    {
     "name": "stdout",
     "output_type": "stream",
     "text": [
      "[DYNEX] PASSED\n",
      "[DYNEX] TEST: submitting sample file...\n"
     ]
    },
    {
     "data": {
      "text/plain": "file upload progress:   0%|          | 0.00/65.0 [00:00<?, ?B/s]",
      "application/vnd.jupyter.widget-view+json": {
       "version_major": 2,
       "version_minor": 0,
       "model_id": "bd1d3253c22c4565a498b26c49461a25"
      }
     },
     "metadata": {},
     "output_type": "display_data"
    },
    {
     "name": "stdout",
     "output_type": "stream",
     "text": [
      "[DYNEX] PASSED\n",
      "[DYNEX] TEST: retrieving samples...\n",
      "[DYNEX] PASSED\n",
      "[DYNEX] TEST: worker access to computing files\n",
      "[DYNEX] PASSED\n",
      "[DYNEX] TEST RESULT: ALL TESTS PASSED\n"
     ]
    }
   ],
   "source": [
    "dynex.test()"
   ]
  },
  {
   "cell_type": "markdown",
   "id": "fced7cc0-66eb-4269-b7b4-b284516dcb3e",
   "metadata": {},
   "source": [
    "## 查看你账户的API"
   ]
  },
  {
   "cell_type": "code",
   "execution_count": 36,
   "id": "31e09dcd-a9bb-4d7a-80e0-f343faa3f3d1",
   "metadata": {
    "ExecuteTime": {
     "end_time": "2023-11-04T13:05:10.927220Z",
     "start_time": "2023-11-04T13:05:09.905686400Z"
    }
   },
   "outputs": [
    {
     "name": "stdout",
     "output_type": "stream",
     "text": [
      "ACCOUNT: njyqnacl@vip.qq.com\n",
      "API SUCCESSFULLY CONNECTED TO DYNEX\n",
      "-----------------------------------\n",
      "ACCOUNT LIMITS:\n",
      "MAXIMUM NUM_READS: 100,000\n",
      "MAXIMUM ANNEALING_TIME: 10,000\n",
      "MAXIMUM JOB DURATION: 60 MINUTES\n",
      "\n",
      "USAGE:\n",
      "TOTAL USAGE: 123,000,000 / 1,000,000,000 ( 12.3 %) NUM_READS x ANNEALING_TIME\n"
     ]
    }
   ],
   "source": [
    "dynex.account_status()"
   ]
  },
  {
   "cell_type": "markdown",
   "id": "1e49bfb6-7181-46e1-85a2-af8c051d9139",
   "metadata": {},
   "source": [
    "## 创建一个简单的QUBO公式"
   ]
  },
  {
   "cell_type": "code",
   "execution_count": 37,
   "id": "aebae30f-3fd8-4f3a-9cd2-bbc9281be89a",
   "metadata": {
    "ExecuteTime": {
     "end_time": "2023-11-04T13:05:11.074853700Z",
     "start_time": "2023-11-04T13:05:10.924288900Z"
    }
   },
   "outputs": [],
   "source": [
    "N = 15\n",
    "K = 3\n",
    "numbers = [4.8097315016016315, 4.325157567810298, 2.9877429101815127,\n",
    "           3.199880179616316, 0.5787939511978596, 1.2520928214246918,\n",
    "           2.262867466401502, 1.2300003067401255, 2.1601079352817925,\n",
    "           3.63753899583021, 4.598232793833491, 2.6215815162575646,\n",
    "           3.4227134835783364, 0.28254151584552023, 4.2548151473817075]\n",
    "\n",
    "q = Array.create('q', N, 'BINARY')\n",
    "H = sum(numbers[i] * q[i] for i in range(N)) + 5.0 * (sum(q) - K)**2\n",
    "model = H.compile()\n",
    "Q, offset = model.to_qubo(index_label=True)"
   ]
  },
  {
   "cell_type": "code",
   "execution_count": 38,
   "id": "d3f7fb3c-69f0-4078-92d7-1910533744b0",
   "metadata": {
    "ExecuteTime": {
     "end_time": "2023-11-04T13:05:11.226840500Z",
     "start_time": "2023-11-04T13:05:11.074853700Z"
    }
   },
   "outputs": [],
   "source": [
    "# 从QUBO导入BQM:\n",
    "bqm = dimod.BinaryQuadraticModel.from_qubo(Q, offset)"
   ]
  },
  {
   "cell_type": "markdown",
   "id": "d82490d8-17f9-47c5-a0a2-84bcc6611939",
   "metadata": {},
   "source": [
    "## 在Dynex上进行采样"
   ]
  },
  {
   "cell_type": "code",
   "execution_count": 39,
   "id": "9c390424-e2ed-4c12-8d3c-12ce9a86d4af",
   "metadata": {},
   "outputs": [
    {
     "name": "stdout",
     "output_type": "stream",
     "text": [
      "╭────────────┬───────────┬────────────────┬─────────┬─────────┬────────────────╮\n",
      "│   DYNEXJOB │   ELAPSED │   WORKERS READ │   CHIPS │   STEPS │   GROUND STATE │\n",
      "├────────────┼───────────┼────────────────┼─────────┼─────────┼────────────────┤\n",
      "│       7767 │      0.31 │              1 │    4992 │     200 │      290466.00 │\n",
      "╰────────────┴───────────┴────────────────┴─────────┴─────────┴────────────────╯\n",
      "╭───────────────────────────────────┬───────────┬─────────┬───────┬──────────┬───────────┬───────────────┬──────────╮\n",
      "│                            WORKER │   VERSION │   CHIPS │   LOC │   ENERGY │   RUNTIME │   LAST UPDATE │   STATUS │\n",
      "├───────────────────────────────────┼───────────┼─────────┼───────┼──────────┼───────────┼───────────────┼──────────┤\n",
      "│       *** WAITING FOR WORKERS *** │           │         │       │          │           │               │          │\n",
      "│ Boost job priority: <coming soon> │           │         │       │          │           │               │          │\n",
      "╰───────────────────────────────────┴───────────┴─────────┴───────┴──────────┴───────────┴───────────────┴──────────╯\n",
      "[DYNEX] FINISHED READ AFTER 0.31 SECONDS\n",
      "[DYNEX] COMPUTING FILE 7f2f720eae8e20b06d5f90caf5dc91a9.bin REMOVED\n",
      "[DYNEX] SAMPLESET READY\n",
      "结果:\n",
      "   0  1  2  3  4  5  6  7  8  9 10 11 12 13 14   energy num_oc.\n",
      "0  0  1  0  0  0  0  0  1  0  0  1  0  0  0  0 2.091336       1\n",
      "['BINARY', 1 rows, 1 samples, 15 variables]\n"
     ]
    }
   ],
   "source": [
    "model = dynex.BQM(bqm);\n",
    "sampler = dynex.DynexSampler(model,  mainnet=True, description='Dynex SDK_Rumony_1');\n",
    "sampleset = sampler.sample(num_reads=5000, annealing_time = 200, debugging=False);\n",
    "print('结果:')\n",
    "print(sampleset)"
   ]
  },
  {
   "cell_type": "markdown",
   "id": "d4e5688d-bc98-4b44-8c22-0c30884ddef5",
   "metadata": {},
   "source": [
    "## 在Dynex上使用克隆进行采样"
   ]
  },
  {
   "cell_type": "code",
   "execution_count": 40,
   "id": "00b7abac-2c7b-450a-ba03-399d765625ce",
   "metadata": {
    "ExecuteTime": {
     "end_time": "2023-11-04T13:07:05.237160300Z",
     "start_time": "2023-11-04T13:05:36.194422200Z"
    }
   },
   "outputs": [
    {
     "name": "stdout",
     "output_type": "stream",
     "text": [
      "[DYNEX] STARTING SAMPLING ( 4 CLONES )...\n",
      "结果:\n",
      "   0  1  2  3  4  5  6  7  8  9 10 11 12 13 14   energy num_oc.\n",
      "0  0  1  0  0  0  0  0  1  0  0  1  0  0  0  0 2.091336       4\n",
      "['BINARY', 1 rows, 4 samples, 15 variables]\n"
     ]
    }
   ],
   "source": [
    "model = dynex.BQM(bqm);\n",
    "sampler = dynex.DynexSampler(model,  mainnet=True, description='Dynex SDK_Rumony_2');\n",
    "sampleset = sampler.sample(num_reads=20000, annealing_time = 1000, clones = 4, debugging=False);\n",
    "print('结果:')\n",
    "print(sampleset)"
   ]
  },
  {
   "cell_type": "markdown",
   "source": [],
   "metadata": {
    "collapsed": false
   },
   "id": "812319c1abdba6df"
  },
  {
   "cell_type": "markdown",
   "id": "171a368e-bf05-46f7-aaaf-122034f23dcd",
   "metadata": {},
   "source": [
    "## 绘制样本集"
   ]
  },
  {
   "cell_type": "code",
   "execution_count": 41,
   "id": "eb8bd278-3162-4b72-9315-a1c64313e7bb",
   "metadata": {
    "ExecuteTime": {
     "end_time": "2023-11-04T13:07:05.388706300Z",
     "start_time": "2023-11-04T13:07:05.232274400Z"
    }
   },
   "outputs": [],
   "source": [
    "import matplotlib.pyplot as plt\n",
    "import numpy as np"
   ]
  },
  {
   "cell_type": "code",
   "execution_count": 42,
   "id": "d64d678e-62a4-42a5-90fd-d50d2e493905",
   "metadata": {
    "ExecuteTime": {
     "end_time": "2023-11-04T13:07:05.666299200Z",
     "start_time": "2023-11-04T13:07:05.390660700Z"
    }
   },
   "outputs": [
    {
     "name": "stderr",
     "output_type": "stream",
     "text": [
      "P:\\pythonProject\\DynexSDK\\py310\\lib\\site-packages\\IPython\\core\\pylabtools.py:152: UserWarning: Glyph 20986 (\\N{CJK UNIFIED IDEOGRAPH-51FA}) missing from current font.\n",
      "  fig.canvas.print_figure(bytes_io, **kw)\n",
      "P:\\pythonProject\\DynexSDK\\py310\\lib\\site-packages\\IPython\\core\\pylabtools.py:152: UserWarning: Glyph 29616 (\\N{CJK UNIFIED IDEOGRAPH-73B0}) missing from current font.\n",
      "  fig.canvas.print_figure(bytes_io, **kw)\n",
      "P:\\pythonProject\\DynexSDK\\py310\\lib\\site-packages\\IPython\\core\\pylabtools.py:152: UserWarning: Glyph 27425 (\\N{CJK UNIFIED IDEOGRAPH-6B21}) missing from current font.\n",
      "  fig.canvas.print_figure(bytes_io, **kw)\n",
      "P:\\pythonProject\\DynexSDK\\py310\\lib\\site-packages\\IPython\\core\\pylabtools.py:152: UserWarning: Glyph 25968 (\\N{CJK UNIFIED IDEOGRAPH-6570}) missing from current font.\n",
      "  fig.canvas.print_figure(bytes_io, **kw)\n",
      "P:\\pythonProject\\DynexSDK\\py310\\lib\\site-packages\\IPython\\core\\pylabtools.py:152: UserWarning: Glyph 65288 (\\N{FULLWIDTH LEFT PARENTHESIS}) missing from current font.\n",
      "  fig.canvas.print_figure(bytes_io, **kw)\n",
      "P:\\pythonProject\\DynexSDK\\py310\\lib\\site-packages\\IPython\\core\\pylabtools.py:152: UserWarning: Glyph 27491 (\\N{CJK UNIFIED IDEOGRAPH-6B63}) missing from current font.\n",
      "  fig.canvas.print_figure(bytes_io, **kw)\n",
      "P:\\pythonProject\\DynexSDK\\py310\\lib\\site-packages\\IPython\\core\\pylabtools.py:152: UserWarning: Glyph 65289 (\\N{FULLWIDTH RIGHT PARENTHESIS}) missing from current font.\n",
      "  fig.canvas.print_figure(bytes_io, **kw)\n",
      "P:\\pythonProject\\DynexSDK\\py310\\lib\\site-packages\\IPython\\core\\pylabtools.py:152: UserWarning: Glyph 26679 (\\N{CJK UNIFIED IDEOGRAPH-6837}) missing from current font.\n",
      "  fig.canvas.print_figure(bytes_io, **kw)\n",
      "P:\\pythonProject\\DynexSDK\\py310\\lib\\site-packages\\IPython\\core\\pylabtools.py:152: UserWarning: Glyph 26412 (\\N{CJK UNIFIED IDEOGRAPH-672C}) missing from current font.\n",
      "  fig.canvas.print_figure(bytes_io, **kw)\n",
      "P:\\pythonProject\\DynexSDK\\py310\\lib\\site-packages\\IPython\\core\\pylabtools.py:152: UserWarning: Glyph 38598 (\\N{CJK UNIFIED IDEOGRAPH-96C6}) missing from current font.\n",
      "  fig.canvas.print_figure(bytes_io, **kw)\n",
      "P:\\pythonProject\\DynexSDK\\py310\\lib\\site-packages\\IPython\\core\\pylabtools.py:152: UserWarning: Glyph 27225 (\\N{CJK UNIFIED IDEOGRAPH-6A59}) missing from current font.\n",
      "  fig.canvas.print_figure(bytes_io, **kw)\n",
      "P:\\pythonProject\\DynexSDK\\py310\\lib\\site-packages\\IPython\\core\\pylabtools.py:152: UserWarning: Glyph 33394 (\\N{CJK UNIFIED IDEOGRAPH-8272}) missing from current font.\n",
      "  fig.canvas.print_figure(bytes_io, **kw)\n",
      "P:\\pythonProject\\DynexSDK\\py310\\lib\\site-packages\\IPython\\core\\pylabtools.py:152: UserWarning: Glyph 65306 (\\N{FULLWIDTH COLON}) missing from current font.\n",
      "  fig.canvas.print_figure(bytes_io, **kw)\n",
      "P:\\pythonProject\\DynexSDK\\py310\\lib\\site-packages\\IPython\\core\\pylabtools.py:152: UserWarning: Glyph 26368 (\\N{CJK UNIFIED IDEOGRAPH-6700}) missing from current font.\n",
      "  fig.canvas.print_figure(bytes_io, **kw)\n",
      "P:\\pythonProject\\DynexSDK\\py310\\lib\\site-packages\\IPython\\core\\pylabtools.py:152: UserWarning: Glyph 20302 (\\N{CJK UNIFIED IDEOGRAPH-4F4E}) missing from current font.\n",
      "  fig.canvas.print_figure(bytes_io, **kw)\n",
      "P:\\pythonProject\\DynexSDK\\py310\\lib\\site-packages\\IPython\\core\\pylabtools.py:152: UserWarning: Glyph 22522 (\\N{CJK UNIFIED IDEOGRAPH-57FA}) missing from current font.\n",
      "  fig.canvas.print_figure(bytes_io, **kw)\n",
      "P:\\pythonProject\\DynexSDK\\py310\\lib\\site-packages\\IPython\\core\\pylabtools.py:152: UserWarning: Glyph 24577 (\\N{CJK UNIFIED IDEOGRAPH-6001}) missing from current font.\n",
      "  fig.canvas.print_figure(bytes_io, **kw)\n",
      "P:\\pythonProject\\DynexSDK\\py310\\lib\\site-packages\\IPython\\core\\pylabtools.py:152: UserWarning: Glyph 21464 (\\N{CJK UNIFIED IDEOGRAPH-53D8}) missing from current font.\n",
      "  fig.canvas.print_figure(bytes_io, **kw)\n",
      "P:\\pythonProject\\DynexSDK\\py310\\lib\\site-packages\\IPython\\core\\pylabtools.py:152: UserWarning: Glyph 37327 (\\N{CJK UNIFIED IDEOGRAPH-91CF}) missing from current font.\n",
      "  fig.canvas.print_figure(bytes_io, **kw)\n"
     ]
    },
    {
     "data": {
      "text/plain": "<Figure size 640x480 with 1 Axes>",
      "image/png": "[encoded data removed]"
     },
     "metadata": {},
     "output_type": "display_data"
    }
   ],
   "source": [
    "# 总的数据:\n",
    "data = np.zeros(len(sampleset.variables)) \n",
    "for s in sampleset.record: #s[0] samples [1] energy [2] num_oc\n",
    "    for i in range(0,len(s[0])):\n",
    "        data[i] += ( s[0][i] * s[2] ); # w按 num_oc 加权\n",
    "\n",
    "plt.bar(sampleset.variables, data)\n",
    "plt.bar(sampleset.variables, sampleset.first.sample.values())\n",
    "plt.xlabel(\"变量\")\n",
    "plt.ylabel(\"出现次数（正数）\")\n",
    "plt.title(\"样本集（橙色：最低基态）\")\n",
    "plt.show() "
   ]
  },
  {
   "cell_type": "code",
   "execution_count": 42,
   "id": "69e95b5d-9b7c-4c72-9cbd-5f2f264993d1",
   "metadata": {
    "ExecuteTime": {
     "end_time": "2023-11-04T13:07:05.674118700Z",
     "start_time": "2023-11-04T13:07:05.666299200Z"
    }
   },
   "outputs": [],
   "source": []
  },
  {
   "cell_type": "code",
   "execution_count": 42,
   "id": "5e3e8d0c-61bf-41a6-948c-c6535115cc33",
   "metadata": {
    "ExecuteTime": {
     "end_time": "2023-11-04T13:07:05.675096200Z",
     "start_time": "2023-11-04T13:07:05.671187400Z"
    }
   },
   "outputs": [],
   "source": []
  }
 ],
 "metadata": {
  "kernelspec": {
   "display_name": "Python 3 (ipykernel)",
   "language": "python",
   "name": "python3"
  },
  "language_info": {
   "codemirror_mode": {
    "name": "ipython",
    "version": 3
   },
   "file_extension": ".py",
   "mimetype": "text/x-python",
   "name": "python",
   "nbconvert_exporter": "python",
   "pygments_lexer": "ipython3",
   "version": "3.10.12"
  }
 },
 "nbformat": 4,
 "nbformat_minor": 5
}
