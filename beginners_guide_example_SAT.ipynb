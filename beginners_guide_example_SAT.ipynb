{
 "cells": [
  {
   "cell_type": "markdown",
   "id": "56f0b47e",
   "metadata": {},
   "source": [
    "# 在Dynex平台上使用Python进行计算 - SAT"
   ]
  },
  {
   "cell_type": "markdown",
   "id": "ed479bbd",
   "metadata": {},
   "source": [
    "Dynex是基于DynexSolve芯片算法的全球首个神经形态超级计算区块链，采用了一种解决现实世界问题的“有用工作证明”（PoUW）方法。这个示例演示了如何使用Dynex SDK在Dynex平台上使用Python进行计算。"
   ]
  },
  {
   "cell_type": "code",
   "execution_count": 1,
   "id": "4c52a895",
   "metadata": {},
   "outputs": [],
   "source": [
    "import dynex\n",
    "import dimod"
   ]
  },
  {
   "cell_type": "markdown",
   "id": "afd0e043",
   "metadata": {},
   "source": [
    "## 搭建一个SAT问题"
   ]
  },
  {
   "cell_type": "markdown",
   "id": "499a2526",
   "metadata": {},
   "source": [
    "在逻辑学和计算机科学中，布尔可满足性问题（有时称为命题可满足性问题，缩写为SATISFIABILITY、SAT或B-SAT）是确定是否存在一个满足给定布尔公式的解释的问题。换句话说，它询问了是否可以以一种方式一致地将给定布尔公式的变量替换为TRUE或FALSE的值，使得公式的计算结果为TRUE。如果是这种情况，那么该公式被称为可满足。另一方面，如果不存在这样的分配，那么由公式表示的函数对所有可能的变量分配都为FALSE，公式就是不可满足的。例如，公式 \"a AND NOT b\" 是可满足的，因为可以找到值a = TRUE和b = FALSE，使得 (a AND NOT b) = TRUE。相比之下，\"a AND NOT a\" 是不可满足的。"
   ]
  },
  {
   "cell_type": "markdown",
   "id": "cc67c3a1",
   "metadata": {},
   "source": [
    "我们需要定义一个表示我们问题的SAT模型。构建这样一个模型的最简单方法是通过定义子句："
   ]
  },
  {
   "cell_type": "code",
   "execution_count": 2,
   "id": "931cfac2",
   "metadata": {},
   "outputs": [
    {
     "name": "stdout",
     "output_type": "stream",
     "text": [
      "[[1, -2, 3], [-1, 4, 5], [6, 7, -8], [-9, -10, 11], [12, 13, -14], [-1, 15, -16], [17, -18, 19], [-20, 2, 3], [4, -5, 6], [-7, 8, 9], [10, 11, -12], [-13, -14, 15], [16, 17, -18], [-19, 20, 1], [2, -3, 4], [-5, 6, 7], [8, 9, -10], [-11, -12, 13], [14, 15, -16], [-17, 18, 19]]\n"
     ]
    }
   ],
   "source": [
    "# 案例：SAT问题\n",
    "clauses = [[1, -2, 3], [-1, 4, 5], [6, 7, -8], [-9, -10, 11], [12, 13, -14],\n",
    "           [-1, 15, -16], [17, -18, 19], [-20, 2, 3], [4, -5, 6], [-7, 8, 9],\n",
    "           [10, 11, -12], [-13, -14, 15], [16, 17, -18], [-19, 20, 1], [2, -3, 4],\n",
    "           [-5, 6, 7], [8, 9, -10], [-11, -12, 13], [14, 15, -16], [-17, 18, 19]]\n",
    "\n",
    "model = dynex.SAT(clauses);\n",
    "\n",
    "print(clauses);"
   ]
  },
  {
   "cell_type": "markdown",
   "id": "4122925b",
   "metadata": {},
   "source": [
    "## 与Dynex采样器互动"
   ]
  },
  {
   "cell_type": "markdown",
   "id": "9e3c77de",
   "metadata": {},
   "source": [
    "为了找到SAT模型的最小能量状态（即为我们的模型提供最小能量值的变量值分配），Dynex SDK提供了采样器和求解器。求解器是运行问题的资源。采样器是多次运行问题以获取样本集合的过程，每个样本都是我们问题的一个可能解决方案。为方便起见，通常我们会将Dynex的采样器总称，也包括求解器。"
   ]
  },
  {
   "cell_type": "code",
   "execution_count": 3,
   "id": "0cbcad35",
   "metadata": {},
   "outputs": [],
   "source": [
    "sampler = dynex.DynexSampler(model);"
   ]
  },
  {
   "cell_type": "markdown",
   "id": "1548a123",
   "metadata": {},
   "source": [
    "一旦我们在程序中建立了采样器，我们就可以调用它来对我们的模型进行采样。每种类型的模型都有与采样器互动的特定方法，无论是QUBO、BinaryQuadrticModel还是其他类型。我们使用Dynex的采样函数之一来对我们的SAT模型进行采样，具体取决于我们使用的模型类型。例如，下面的代码片段演示了如何使用Dynex平台对SAT对象进行采样。"
   ]
  },
  {
   "cell_type": "code",
   "execution_count": 5,
   "id": "ade2765b",
   "metadata": {},
   "outputs": [
    {
     "name": "stdout",
     "output_type": "stream",
     "text": [
      "time: 0.00s #workers: 1 #chips: 32 #steps: 1 global loc: 0 global energy: 1.5\n",
      "FINISHED READ AFTER 0.01 SECONDS\n",
      "SAMPLESET LOADED\n"
     ]
    }
   ],
   "source": [
    "sampleset = sampler.sample(num_reads=32, annealing_time = 100);"
   ]
  },
  {
   "cell_type": "markdown",
   "id": "6db670b2",
   "metadata": {},
   "source": [
    "在我们对SAT模型进行采样后，采样器会返回一个SampleSet对象。这个对象包含了所有返回的样本以及它们对应的能量值、芯片数量、积分步数等信息。附加信息因使用的采样器而异。随着用户对Dynex SDK和可用的各种采样器更加熟悉，花一些时间来探索SampleSet对象中提供的丰富信息通常是有用的。我们可以访问的一些关键属性和方法如下："
   ]
  },
  {
   "cell_type": "code",
   "execution_count": 6,
   "id": "1975c33e",
   "metadata": {},
   "outputs": [
    {
     "name": "stdout",
     "output_type": "stream",
     "text": [
      "{'sample': ['1.000000', '1.000000', '1.000000', '1.000000', '1.000000', '1.000000', '1.000000', '1.000000', '1.000000', '1.000000', '1.000000', '1.000000', '1.000000', '1.000000', '1.000000', '1.000000', '1.000000', '1.000000', '1.000000', '1.000000'], 'chips': 32, 'steps': 1, 'loc': 0, 'energy': 1.5}\n"
     ]
    }
   ],
   "source": [
    "print(sampleset[-1]) # 能量最低的样本"
   ]
  },
  {
   "cell_type": "markdown",
   "id": "ba609414",
   "metadata": {},
   "source": [
    "The sample shows the corresponding energy values for our QM and additional information like total energy, number of chips or number of integration steps."
   ]
  },
  {
   "cell_type": "code",
   "execution_count": 7,
   "id": "92cecdda",
   "metadata": {},
   "outputs": [
    {
     "data": {
      "text/plain": [
       "[{'sample': ['1.000000',\n",
       "   '1.000000',\n",
       "   '1.000000',\n",
       "   '1.000000',\n",
       "   '1.000000',\n",
       "   '1.000000',\n",
       "   '1.000000',\n",
       "   '1.000000',\n",
       "   '1.000000',\n",
       "   '1.000000',\n",
       "   '1.000000',\n",
       "   '1.000000',\n",
       "   '1.000000',\n",
       "   '1.000000',\n",
       "   '1.000000',\n",
       "   '1.000000',\n",
       "   '1.000000',\n",
       "   '1.000000',\n",
       "   '1.000000',\n",
       "   '1.000000'],\n",
       "  'chips': 32,\n",
       "  'steps': 1,\n",
       "  'loc': 0,\n",
       "  'energy': 1.5},\n",
       " {'sample': ['1.000000',\n",
       "   '1.000000',\n",
       "   '1.000000',\n",
       "   '1.000000',\n",
       "   '1.000000',\n",
       "   '1.000000',\n",
       "   '1.000000',\n",
       "   '1.000000',\n",
       "   '1.000000',\n",
       "   '1.000000',\n",
       "   '1.000000',\n",
       "   '1.000000',\n",
       "   '1.000000',\n",
       "   '1.000000',\n",
       "   '1.000000',\n",
       "   '1.000000',\n",
       "   '1.000000',\n",
       "   '1.000000',\n",
       "   '1.000000',\n",
       "   '1.000000'],\n",
       "  'chips': 32,\n",
       "  'steps': 1,\n",
       "  'loc': 0,\n",
       "  'energy': 1.5}]"
      ]
     },
     "execution_count": 7,
     "metadata": {},
     "output_type": "execute_result"
    }
   ],
   "source": [
    "sampleset # 全部样本"
   ]
  },
  {
   "cell_type": "markdown",
   "id": "01232e54",
   "metadata": {},
   "source": [
    "每一行显示了一个返回的样本（解决方案），以及相应的能量值、使用的芯片数量（每个Dynex芯片提供一次读取），以及积分步数（=退火时间）。请注意，实际的积分步数可以低于指定的退火时间，因为在找到解决方案后，ODE积分会结束。"
   ]
  },
  {
   "cell_type": "code",
   "execution_count": null,
   "id": "11d4820e",
   "metadata": {},
   "outputs": [],
   "source": []
  }
 ],
 "metadata": {
  "kernelspec": {
   "display_name": "Python 3",
   "language": "python",
   "name": "python3"
  },
  "language_info": {
   "codemirror_mode": {
    "name": "ipython",
    "version": 3
   },
   "file_extension": ".py",
   "mimetype": "text/x-python",
   "name": "python",
   "nbconvert_exporter": "python",
   "pygments_lexer": "ipython3",
   "version": "3.8.8"
  }
 },
 "nbformat": 4,
 "nbformat_minor": 5
}
