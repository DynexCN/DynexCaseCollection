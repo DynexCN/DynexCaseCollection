{
 "cells": [
  {
   "cell_type": "markdown",
   "id": "1fa94d56-57dd-4cc6-beda-9100e769ee4f",
   "metadata": {},
   "source": [
    "# Dynex SDK - PennyLane Native Gate 电路示例"
   ]
  },
  {
   "cell_type": "markdown",
   "id": "d63e025d-8aeb-4840-ac69-cd6430043608",
   "metadata": {},
   "source": [
    "导入需要的包"
   ]
  },
  {
   "cell_type": "code",
   "execution_count": 1,
   "id": "3258cd0a-8fb4-4ce7-89a1-4120322ef52c",
   "metadata": {},
   "outputs": [],
   "source": [
    "import dynex\n",
    "from dynex import dynex_circuit\n",
    "from pennylane import numpy as np\n",
    "import pennylane as qml"
   ]
  },
  {
   "cell_type": "markdown",
   "id": "a4b4dad6-3b7d-4b17-93d5-4ab82c8b5aef",
   "metadata": {},
   "source": [
    "定义电路:"
   ]
  },
  {
   "cell_type": "code",
   "execution_count": 2,
   "id": "f1e789a4-612d-433f-95fb-43cebab281f8",
   "metadata": {},
   "outputs": [],
   "source": [
    "params = [np.pi, np.pi] # [0.1, 0.2]\n",
    "wires = 2\n",
    "\n",
    "def circuit(params):\n",
    "    qml.RX(params[0], wires=0)\n",
    "    qml.RY(params[1], wires=1)\n",
    "    qml.CNOT(wires=[0, 1])\n",
    "    qml.Hadamard(wires=0)\n",
    "    return qml.state()"
   ]
  },
  {
   "cell_type": "markdown",
   "id": "e37c1084-a8ad-48fe-8ad3-78dc49b3a55d",
   "metadata": {},
   "source": [
    "We draw the circuit:"
   ]
  },
  {
   "cell_type": "code",
   "execution_count": 3,
   "id": "5a8a1f3f-8984-49b6-a644-a0e403e25811",
   "metadata": {},
   "outputs": [
    {
     "data": {
      "image/png": "[encoded data removed]",
      "text/plain": [
       "<Figure size 600x300 with 1 Axes>"
      ]
     },
     "metadata": {},
     "output_type": "display_data"
    }
   ],
   "source": [
    "# 画图:\n",
    "_ = qml.draw_mpl(circuit, style=\"black_white\")(params)"
   ]
  },
  {
   "cell_type": "markdown",
   "id": "8b9f9d7e-213e-40e3-9362-fd57faebab66",
   "metadata": {},
   "source": [
    "我们在 Dynex 平台上执行和测量电路："
   ]
  },
  {
   "cell_type": "code",
   "execution_count": 5,
   "id": "248c2c08-935c-49a1-a81f-ca03d23e3cc2",
   "metadata": {},
   "outputs": [
    {
     "name": "stdout",
     "output_type": "stream",
     "text": [
      "╭────────────┬──────────┬─────────────────┬─────────────┬───────────┬────────────────┬────────────┬─────────┬────────────────╮\n",
      "│   DYNEXJOB │   QUBITS │   QUANTUM GATES │   BLOCK FEE │   ELAPSED │   WORKERS READ │   CIRCUITS │   STEPS │   GROUND STATE │\n",
      "├────────────┼──────────┼─────────────────┼─────────────┼───────────┼────────────────┼────────────┼─────────┼────────────────┤\n",
      "│      29993 │       21 │              58 │        0.02 │      0.51 │              1 │       1000 │     256 │       36242.00 │\n",
      "╰────────────┴──────────┴─────────────────┴─────────────┴───────────┴────────────────┴────────────┴─────────┴────────────────╯\n",
      "╭────────────┬─────────────────┬────────────┬───────┬──────────┬──────────────┬─────────────────────────────┬───────────┬──────────╮\n",
      "│     WORKER │         VERSION │   CIRCUITS │   LOC │   ENERGY │      RUNTIME │                 LAST UPDATE │     STEPS │   STATUS │\n",
      "├────────────┼─────────────────┼────────────┼───────┼──────────┼──────────────┼─────────────────────────────┼───────────┼──────────┤\n",
      "│ 150d..101f │ 2.3.5.OZM.134.L │       1000 │     0 │     0.00 │ 7.963647105s │ 2024-08-12T09:32:11.340048Z │ 0 (0.00%) │  \u001B[1;31mSTOPPED\u001B[0m │\n",
      "├────────────┼─────────────────┼────────────┼───────┼──────────┼──────────────┼─────────────────────────────┼───────────┼──────────┤\n",
      "│ 85cf..aded │ 2.3.5.OZM.134.L │       1000 │     0 │     0.00 │ 3.169437375s │ 2024-08-12T09:32:16.134259Z │ 0 (0.00%) │  \u001B[1;31mSTOPPED\u001B[0m │\n",
      "╰────────────┴─────────────────┴────────────┴───────┴──────────┴──────────────┴─────────────────────────────┴───────────┴──────────╯\n",
      "[DYNEX] FINISHED READ AFTER 51.11 SECONDS\n",
      "[DYNEX] SAMPLESET READY\n",
      "Mesaure: [1 0]\n"
     ]
    }
   ],
   "source": [
    "# 在 Dynex 上执行电路:\n",
    "measure = dynex_circuit.execute(circuit, params, wires, mainnet=True, method='measure')\n",
    "print('Mesaure:',measure)"
   ]
  },
  {
   "cell_type": "code",
   "execution_count": null,
   "id": "551c3416-bbc8-4bca-bb77-ef3622e1dade",
   "metadata": {},
   "outputs": [],
   "source": []
  }
 ],
 "metadata": {
  "kernelspec": {
   "display_name": "Python 3 (ipykernel)",
   "language": "python",
   "name": "python3"
  },
  "language_info": {
   "codemirror_mode": {
    "name": "ipython",
    "version": 3
   },
   "file_extension": ".py",
   "mimetype": "text/x-python",
   "name": "python",
   "nbconvert_exporter": "python",
   "pygments_lexer": "ipython3",
   "version": "3.10.12"
  }
 },
 "nbformat": 4,
 "nbformat_minor": 5
}
