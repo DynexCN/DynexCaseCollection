{
 "cells": [
  {
   "cell_type": "markdown",
   "id": "56f0b47e",
   "metadata": {},
   "source": [
    "# Example: 在Dynex平台上使用Python进行计算 - NAE3SAT"
   ]
  },
  {
   "cell_type": "markdown",
   "id": "ed479bbd",
   "metadata": {},
   "source": [
    "Dynex是全球首个基于DynexSolve芯片算法的神经形态超级计算区块链，采用了一种“有用工作证明”（PoUW）方法来解决现实世界问题。此示例演示了如何使用Dynex SDK在Dynex平台上使用Python进行计算。"
   ]
  },
  {
   "cell_type": "code",
   "execution_count": 1,
   "id": "4c52a895",
   "metadata": {},
   "outputs": [],
   "source": [
    "import dynex\n",
    "import dimod"
   ]
  },
  {
   "cell_type": "markdown",
   "id": "afd0e043",
   "metadata": {},
   "source": [
    "## Building a Binary Quadratic Model "
   ]
  },
  {
   "cell_type": "markdown",
   "id": "499a2526",
   "metadata": {},
   "source": [
    "构建一个二次二元模型"
   ]
  },
  {
   "cell_type": "markdown",
   "id": "72b2cd4e",
   "metadata": {},
   "source": [
    "<math xmlns=\"http://www.w3.org/1998/Math/MathML\" display=\"block\">\n",
    "  <mi>E</mi>\n",
    "  <mo stretchy=\"false\">(</mo>\n",
    "  <mrow data-mjx-texclass=\"ORD\">\n",
    "    <mi mathvariant=\"bold\">v</mi>\n",
    "  </mrow>\n",
    "  <mo mathvariant=\"bold\" stretchy=\"false\">)</mo>\n",
    "  <mo mathvariant=\"bold\">=</mo>\n",
    "  <munder>\n",
    "    <mo data-mjx-texclass=\"OP\">&#x2211;</mo>\n",
    "    <mrow data-mjx-texclass=\"ORD\">\n",
    "      <mi mathvariant=\"bold\">i</mi>\n",
    "    </mrow>\n",
    "  </munder>\n",
    "  <msub>\n",
    "    <mi mathvariant=\"bold\">a</mi>\n",
    "    <mi mathvariant=\"bold\">i</mi>\n",
    "  </msub>\n",
    "  <msub>\n",
    "    <mi mathvariant=\"bold\">v</mi>\n",
    "    <mi mathvariant=\"bold\">i</mi>\n",
    "  </msub>\n",
    "  <mo mathvariant=\"bold\">+</mo>\n",
    "  <munder>\n",
    "    <mo data-mjx-texclass=\"OP\">&#x2211;</mo>\n",
    "    <mrow data-mjx-texclass=\"ORD\">\n",
    "      <mi mathvariant=\"bold\">i</mi>\n",
    "      <mo mathvariant=\"bold\">&lt;</mo>\n",
    "      <mi mathvariant=\"bold\">j</mi>\n",
    "    </mrow>\n",
    "  </munder>\n",
    "  <msub>\n",
    "    <mi mathvariant=\"bold\">b</mi>\n",
    "    <mrow data-mjx-texclass=\"ORD\">\n",
    "      <mi mathvariant=\"bold\">i</mi>\n",
    "      <mo mathvariant=\"bold\">,</mo>\n",
    "      <mi mathvariant=\"bold\">j</mi>\n",
    "    </mrow>\n",
    "  </msub>\n",
    "  <msub>\n",
    "    <mi mathvariant=\"bold\">v</mi>\n",
    "    <mi mathvariant=\"bold\">i</mi>\n",
    "  </msub>\n",
    "  <msub>\n",
    "    <mi mathvariant=\"bold\">v</mi>\n",
    "    <mi mathvariant=\"bold\">j</mi>\n",
    "  </msub>\n",
    "  <mo mathvariant=\"bold\">+</mo>\n",
    "  <mi mathvariant=\"bold\">c</mi>\n",
    "  <mstyle scriptlevel=\"0\">\n",
    "    <mspace width=\"2em\"></mspace>\n",
    "  </mstyle>\n",
    "  <mstyle scriptlevel=\"0\">\n",
    "    <mspace width=\"2em\"></mspace>\n",
    "  </mstyle>\n",
    "  <msub>\n",
    "    <mi mathvariant=\"bold\">v</mi>\n",
    "    <mi mathvariant=\"bold\">i</mi>\n",
    "  </msub>\n",
    "  <mo>&#x2208;</mo>\n",
    "  <mo fence=\"false\" stretchy=\"false\">{</mo>\n",
    "  <mo mathvariant=\"bold\">&#x2212;</mo>\n",
    "  <mn mathvariant=\"bold\">1</mn>\n",
    "  <mo mathvariant=\"bold\">,</mo>\n",
    "  <mo mathvariant=\"bold\">+</mo>\n",
    "  <mn mathvariant=\"bold\">1</mn>\n",
    "  <mo fence=\"false\" stretchy=\"false\">}</mo>\n",
    "  <mtext mathvariant=\"bold\">&#xA0;or&#xA0;</mtext>\n",
    "  <mo fence=\"false\" stretchy=\"false\">{</mo>\n",
    "  <mn mathvariant=\"bold\">0</mn>\n",
    "  <mo mathvariant=\"bold\">,</mo>\n",
    "  <mn mathvariant=\"bold\">1</mn>\n",
    "  <mo fence=\"false\" stretchy=\"false\">}</mo>\n",
    "</math>"
   ]
  },
  {
   "cell_type": "markdown",
   "id": "4ce31898",
   "metadata": {},
   "source": [
    "其中abc是实数"
   ]
  },
  {
   "cell_type": "markdown",
   "id": "cc67c3a1",
   "metadata": {},
   "source": [
    "我们需要定义一个代表我们问题的二次模型（QM）。构建一个二次二元模型（BQM）的最简单方式是使用dimod的符号变量。对于BQM中的每个数学变量，我们使用dimod定义一个符号二元变量。一旦QM被定义，它将被存储为一个BinaryQuadraticModel对象。这个对象存储了数学表达式的线性和二次系数，任何常数项或偏移量，以及用于构建模型的变量类型。在这种情况下，我们构建的bqmmodel对象会显示以下内容："
   ]
  },
  {
   "cell_type": "markdown",
   "id": "e528fcaf",
   "metadata": {},
   "source": [
    "## 随机不全相等3-可满足性问题（NAE3SAT）"
   ]
  },
  {
   "cell_type": "markdown",
   "id": "9e6cb2f0",
   "metadata": {},
   "source": [
    "不全相等3-可满足性（NAE3SAT）是一个NP完全问题类，它的任务是满足若干个包含三个文字（变量或它们的否定）的合取子句。对于有效的解，每个子句中的文字应该是不全相等的；即除了(+1, +1, +1)或(-1, -1, -1)之外的任何值分配都对每个子句都是有效的。\n",
    "\n",
    "每个子句在满足时对能量贡献-1，在不满足时贡献+3。因此，对于一个自旋分配s，它的能量H(s)下限为E(SAT) = -子句数，这个下限与可满足实例中的基态能量匹配。违反子句的数量是(H(s)-E(SAT))/4。"
   ]
  },
  {
   "cell_type": "code",
   "execution_count": 18,
   "id": "15c60f0e",
   "metadata": {},
   "outputs": [
    {
     "name": "stdout",
     "output_type": "stream",
     "text": [
      "BinaryQuadraticModel({0: 0.0, 1: 0.0, 2: 0.0, 3: 0.0, 4: 0.0}, {(1, 0): 1.0, (2, 0): -1.0, (2, 1): 0.0, (3, 0): -3.0, (3, 1): 2.0, (3, 2): 1.0, (4, 0): -3.0, (4, 1): -1.0, (4, 2): 0.0, (4, 3): 2.0}, 0.0, 'SPIN')\n"
     ]
    }
   ],
   "source": [
    "num_variables = 5;\n",
    "rho = 2.1;\n",
    "bqmodel = dimod.generators.random_nae3sat(num_variables, round(num_variables*rho))\n",
    "print(bqmodel)\n"
   ]
  },
  {
   "cell_type": "markdown",
   "id": "b74b5e04",
   "metadata": {},
   "source": [
    "基于我们的BQM定义Dynex BQM模型："
   ]
  },
  {
   "cell_type": "code",
   "execution_count": 19,
   "id": "372cb654",
   "metadata": {},
   "outputs": [
    {
     "data": {
      "text/plain": [
       "Variables([0, 1, 2, 3, 4])"
      ]
     },
     "execution_count": 19,
     "metadata": {},
     "output_type": "execute_result"
    }
   ],
   "source": [
    "bqmodel.variables"
   ]
  },
  {
   "cell_type": "code",
   "execution_count": 20,
   "id": "931cfac2",
   "metadata": {},
   "outputs": [],
   "source": [
    "model = dynex.BQM(bqmodel);"
   ]
  },
  {
   "cell_type": "markdown",
   "id": "4122925b",
   "metadata": {},
   "source": [
    "## 与Dynex采样器互动"
   ]
  },
  {
   "cell_type": "markdown",
   "id": "9e3c77de",
   "metadata": {},
   "source": [
    "为了找到QM的最小能量状态（即为我们的QM提供最小能量值的变量值分配），Dynex SDK提供了采样器和求解器。求解器是运行问题的资源。采样器是多次运行问题以获取样本集合的过程，每个样本都是我们问题的一个可能解决方案。为方便起见，通常我们会将Dynex的采样器总称，也包括求解器。"
   ]
  },
  {
   "cell_type": "code",
   "execution_count": 21,
   "id": "0cbcad35",
   "metadata": {},
   "outputs": [],
   "source": [
    "sampler = dynex.DynexSampler(model);"
   ]
  },
  {
   "cell_type": "markdown",
   "id": "1548a123",
   "metadata": {},
   "source": [
    "一旦我们在程序中建立了我们的采样器，我们可以调用它来对我们的QM进行采样。每种类型的QM模型都有其自己的与采样器交互的方法，无论是QUBO、BinaryQuadrticModel，还是其他任何QM。我们使用Dynex的采样函数之一来调用采样器来对我们的QM进行采样，具体取决于我们使用的QM类型。例如，下面的代码片段演示了如何使用Dynex平台对名为bqm的BinaryQuadraticModel对象进行采样。"
   ]
  },
  {
   "cell_type": "code",
   "execution_count": 24,
   "id": "ade2765b",
   "metadata": {},
   "outputs": [
    {
     "name": "stdout",
     "output_type": "stream",
     "text": [
      "time: 0.00s #workers: 2 #chips: 64 #steps: 110000 global loc: 3 global energy: 4.535805\n",
      "FINISHED READ AFTER 0.00 SECONDS\n",
      "SAMPLESET LOADED\n"
     ]
    }
   ],
   "source": [
    "sampleset = sampler.sample(num_reads=32, annealing_time = 100);"
   ]
  },
  {
   "cell_type": "markdown",
   "id": "6db670b2",
   "metadata": {},
   "source": [
    "在我们对QM进行采样后，采样器会返回一个SampleSet对象。这个对象包含了所有返回的样本及其相应的能量值、芯片数量、积分步数等信息。附加信息的内容取决于使用的采样器。随着用户对Dynex SDK和各种可用的采样器变得更加熟悉，花一些时间来探索SampleSet对象中提供的丰富信息通常是有用的。我们可以访问的SampleSet对象的一些关键属性和方法如下："
   ]
  },
  {
   "cell_type": "code",
   "execution_count": 25,
   "id": "1975c33e",
   "metadata": {},
   "outputs": [
    {
     "name": "stdout",
     "output_type": "stream",
     "text": [
      "{'sample': ['0.502819', '-0.985740', '0.006763', '-0.999880', '-0.528928', '0.000000', '0.000000', '-1.000000', '1.000000', '1.000000', '-1.000000', '0.000000', '0.000000', '-1.000000', '1.000000', '1.000000', '-1.000000', '-1.000000', '1.000000', '1.000000', '-1.000000', '1.000000'], 'chips': 64, 'steps': 110000, 'loc': 3, 'energy': 4.535805}\n"
     ]
    }
   ],
   "source": [
    "print(sampleset[-1]) # 能量最低的样本"
   ]
  },
  {
   "cell_type": "markdown",
   "id": "ba609414",
   "metadata": {},
   "source": [
    "样本显示了我们的QM的相应能量值以及额外信息，如总能量、芯片数量或积分步数。"
   ]
  },
  {
   "cell_type": "code",
   "execution_count": 26,
   "id": "11d4820e",
   "metadata": {},
   "outputs": [
    {
     "name": "stdout",
     "output_type": "stream",
     "text": [
      "['0.502819', '-0.985740', '0.006763', '-0.999880', '-0.528928']\n"
     ]
    }
   ],
   "source": [
    "print(sampleset[-1]['sample'][:5]) # 前几个变量的能量水平:"
   ]
  },
  {
   "cell_type": "code",
   "execution_count": null,
   "id": "8c324c57",
   "metadata": {},
   "outputs": [],
   "source": []
  },
  {
   "cell_type": "code",
   "execution_count": null,
   "outputs": [],
   "source": [],
   "metadata": {
    "collapsed": false
   },
   "id": "f321a61551025c7c"
  }
 ],
 "metadata": {
  "kernelspec": {
   "display_name": "Python 3",
   "language": "python",
   "name": "python3"
  },
  "language_info": {
   "codemirror_mode": {
    "name": "ipython",
    "version": 3
   },
   "file_extension": ".py",
   "mimetype": "text/x-python",
   "name": "python",
   "nbconvert_exporter": "python",
   "pygments_lexer": "ipython3",
   "version": "3.8.8"
  }
 },
 "nbformat": 4,
 "nbformat_minor": 5
}
