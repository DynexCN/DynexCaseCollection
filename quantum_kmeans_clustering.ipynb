{
 "cells": [
  {
   "cell_type": "markdown",
   "id": "d794412b-8cb6-45ed-894f-dfeb0a108af5",
   "metadata": {},
   "source": [
    "# 量子 k 均值聚类"
   ]
  },
  {
   "cell_type": "markdown",
   "id": "c0dd6b02-4c8b-4aed-93fa-78463b1a60e2",
   "metadata": {},
   "source": [
    "Dynex 是世界上唯一可访问的神经拟态量子计算云，用于大规模解决现实问题。此示例演示了如何使用 Dynex SDK 使用 Pyton 在 Dynex 平台上使用 Python 进行计算。"
   ]
  },
  {
   "cell_type": "code",
   "execution_count": 19,
   "id": "3f4f5809-e324-43ff-b680-f3a411b53f58",
   "metadata": {},
   "outputs": [],
   "source": [
    "import dynex\n",
    "import dimod\n",
    "from sklearn.datasets import make_blobs\n",
    "from collections import defaultdict\n",
    "import matplotlib.pyplot as plt\n",
    "import math\n",
    "import dwavebinarycsp #pip install dwavebinarycsp"
   ]
  },
  {
   "cell_type": "markdown",
   "id": "309cc3b0-3ca4-4a64-aa5c-7a54ee257b61",
   "metadata": {},
   "source": [
    "使用 Dynex 平台识别数据集中的簇的演示。\n",
    "\n",
    "在处理大型数据集时，我们并不总是拥有整齐标记的数据（即大多数（如果不是全部）数据可能是未标记的）。然而，一切并没有丢失，因为我们仍然可以通过聚类从这些数据中提取见解。\n",
    "\n",
    "例如，在处理住房数据（即平方英尺和价格）时，我们可以识别该数据中可能指示不同社区的集群。另一个例子可能是拥有消费者观看的电视节目的布尔向量；这些数据中的集群可以帮助识别特定的消费者群体。\n",
    "\n",
    "同样，如果我们的数据集中确实有一些标记的数据点，我们可能会根据这些标记整个集群。"
   ]
  },
  {
   "cell_type": "markdown",
   "id": "b5dfc1be-7afc-42ba-b4b8-f01508a8c1f6",
   "metadata": {},
   "source": [
    "## 支持功能"
   ]
  },
  {
   "cell_type": "code",
   "execution_count": 24,
   "id": "2e113ea3-6cfb-4692-ac9f-1c134338c81b",
   "metadata": {},
   "outputs": [],
   "source": [
    "def get_groupings(sample):\n",
    "    \"\"\"抓取选定的项目并按颜色对它们进行分组\"\"\"\n",
    "    colored_points = defaultdict(list)\n",
    "\n",
    "    for label, bool_val in sample.items():\n",
    "        # 跳过未选择的项目\n",
    "        if not bool_val:\n",
    "            continue\n",
    "\n",
    "        # 解析所选项目\n",
    "        # 注意：标签看起来像“<x_coord>,<y_coord>_<color>”\n",
    "        coord, color = label.split(\"_\")\n",
    "        coord_tuple = tuple(map(float, coord.split(\",\")))\n",
    "        colored_points[color].append(coord_tuple)\n",
    "\n",
    "    return dict(colored_points)\n",
    "\n",
    "\n",
    "def visualize_groupings(groupings_dict):\n",
    "    \"\"\"\n",
    "    参数：\n",
    "        groupings_dict：键是颜色，值是 x-y 坐标元组列表。\n",
    "          例如，{'r': [(0,1), (2,3)], 'b': [(8,3)]}\n",
    "        filename：保存绘图的文件名\n",
    "    \"\"\"\n",
    "    for color, points in groupings_dict.items():\n",
    "        # 忽略不包含任何坐标的项目\n",
    "        if not points:\n",
    "            continue\n",
    "\n",
    "        # 填充绘图\n",
    "        point_style = color + \"o\"\n",
    "        plt.plot(*zip(*points), point_style)\n",
    "\n",
    "    plt.show()\n",
    "\n",
    "\n",
    "def visualize_scatterplot(x_y_tuples_list, filename):\n",
    "    \"\"\"\n",
    "    绘制 x-y 元组列表\n",
    "\n",
    "    参数：\n",
    "        x_y_tuples_list：x-y 坐标值的列表。例如[(1,4), (3, 2)]\n",
    "    \"\"\"\n",
    "    plt.plot(*zip(*x_y_tuples_list), \"o\")\n",
    "    plt.savefig(filename)\n",
    "\n",
    "class Coordinate:\n",
    "    def __init__(self, x, y):\n",
    "        self.x = x\n",
    "        self.y = y\n",
    "\n",
    "        # 红色、绿色和蓝色组的坐标标签\n",
    "        label = \"{0},{1}_\".format(x, y)\n",
    "        self.r = label + \"r\"\n",
    "        self.g = label + \"g\"\n",
    "        self.b = label + \"b\"\n",
    "\n",
    "\n",
    "def get_distance(coordinate_0, coordinate_1):\n",
    "    diff_x = coordinate_0.x - coordinate_1.x\n",
    "    diff_y = coordinate_0.y - coordinate_1.y\n",
    "\n",
    "    return math.sqrt(diff_x**2 + diff_y**2)\n",
    "\n",
    "\n",
    "def get_max_distance(coordinates):\n",
    "    max_distance = 0\n",
    "    for i, coord0 in enumerate(coordinates[:-1]):\n",
    "        for coord1 in coordinates[i+1:]:\n",
    "            distance = get_distance(coord0, coord1)\n",
    "            max_distance = max(max_distance, distance)\n",
    "\n",
    "    return max_distance"
   ]
  },
  {
   "cell_type": "markdown",
   "id": "462075c5-23c7-41bb-8011-c286a7e9df24",
   "metadata": {},
   "source": [
    "## 量子 k 均值聚类函数"
   ]
  },
  {
   "cell_type": "code",
   "execution_count": 25,
   "id": "869134f9-a7d9-43e0-afbc-a05d696e4d07",
   "metadata": {},
   "outputs": [],
   "source": [
    "def cluster_points(scattered_points):\n",
    "    \"\"\"\n",
    "    对给定点执行聚类分析\n",
    "\n",
    "    参数：\n",
    "        分散点（元组列表）：\n",
    "            待聚类的点\n",
    "        文件名（字符串）：\n",
    "            图形输出文件\n",
    "        问题检查器（布尔）：\n",
    "            是否显示问题检查员\n",
    "    \"\"\"\n",
    "\n",
    "    # 设置问题\n",
    "    # 注意：max_distance 稍后会在除法中使用。因此，max(.., 1)\n",
    "    # 用于防止被零除\n",
    "    coordinates = [Coordinate(x, y) for x, y in scattered_points]\n",
    "    max_distance = max(get_max_distance(coordinates), 1)\n",
    "\n",
    "    # 建立约束条件\n",
    "    csp = dwavebinarycsp.ConstraintSatisfactionProblem(dwavebinarycsp.BINARY)\n",
    "\n",
    "    # 应用约束：坐标只能属于一个颜色组\n",
    "    choose_one_group = {(0, 0, 1), (0, 1, 0), (1, 0, 0)}\n",
    "    for coord in coordinates:\n",
    "        csp.add_constraint(choose_one_group, (coord.r, coord.g, coord.b))\n",
    "\n",
    "    # 构建初始 BQM\n",
    "    bqm = dwavebinarycsp.stitch(csp)\n",
    "\n",
    "    # 编辑 BQM 以偏向靠近的点以共享相同的颜色\n",
    "    for i, coord0 in enumerate(coordinates[:-1]):\n",
    "        for coord1 in coordinates[i+1:]:\n",
    "            # 设置体重\n",
    "            d = get_distance(coord0, coord1) / max_distance  # 重新调整距离\n",
    "            weight = -math.cos(d*math.pi)\n",
    "\n",
    "            # 将权重应用于 BQM\n",
    "            bqm.add_interaction(coord0.r, coord1.r, weight)\n",
    "            bqm.add_interaction(coord0.g, coord1.g, weight)\n",
    "            bqm.add_interaction(coord0.b, coord1.b, weight)\n",
    "\n",
    "    #  编辑 BQM 以偏向远处的点以具有不同的颜色\n",
    "    for i, coord0 in enumerate(coordinates[:-1]):\n",
    "        for coord1 in coordinates[i+1:]:\n",
    "            # 设置权重\n",
    "            # 注意：重新缩放并应用平方根，以便远离距离\n",
    "            # 权重大致相同\n",
    "            d = math.sqrt(get_distance(coord0, coord1) / max_distance)\n",
    "            weight = -math.tanh(d) * 0.1\n",
    "\n",
    "            # 将权重应用于 BQM\n",
    "            bqm.add_interaction(coord0.r, coord1.b, weight)\n",
    "            bqm.add_interaction(coord0.r, coord1.g, weight)\n",
    "            bqm.add_interaction(coord0.b, coord1.r, weight)\n",
    "            bqm.add_interaction(coord0.b, coord1.g, weight)\n",
    "            bqm.add_interaction(coord0.g, coord1.r, weight)\n",
    "            bqm.add_interaction(coord0.g, coord1.b, weight)\n",
    "\n",
    "    # 将问题提交给 Dynex 采样器\n",
    "    sampleset = dynex.sample(bqm, mainnet=False, num_reads=1024, annealing_time=200);\n",
    "    \n",
    "    best_sample = sampleset.first.sample\n",
    "\n",
    "    # 可视化解决方案\n",
    "    groupings = get_groupings(best_sample)\n",
    "    visualize_groupings(groupings)\n",
    "\n",
    "    # 将解决方案输出到终端上\n",
    "    # 注意：这只是“best_sample”的更紧凑版本\n",
    "    print(groupings)\n"
   ]
  },
  {
   "cell_type": "markdown",
   "id": "d56b5b54-e011-4d10-a89b-43f82cb7fc27",
   "metadata": {},
   "source": [
    "## 计算"
   ]
  },
  {
   "cell_type": "code",
   "execution_count": 26,
   "id": "80fd5470-0576-411d-b52a-7242beb179fb",
   "metadata": {},
   "outputs": [],
   "source": [
    "scattered_points = [(0, 0), (1, 1), (2, 4), (3, 2)]"
   ]
  },
  {
   "cell_type": "code",
   "execution_count": 27,
   "id": "dd833d72-cdaf-4b8f-813f-82cbf81e03c7",
   "metadata": {},
   "outputs": [
    {
     "name": "stdout",
     "output_type": "stream",
     "text": [
      "[DYNEX] PRECISION SET TO 0.0001\n",
      "[DYNEX] SAMPLER INITIALISED\n",
      "[DYNEX|TESTNET] *** WAITING FOR READS ***\n",
      "╭────────────┬──────────┬─────────────────┬─────────────┬───────────┬───────────────────────────┬────────────┬─────────┬────────────────╮\n",
      "│   DYNEXJOB │   QUBITS │   QUANTUM GATES │   BLOCK FEE │ ELAPSED   │ WORKERS READ              │ CIRCUITS   │ STEPS   │ GROUND STATE   │\n",
      "├────────────┼──────────┼─────────────────┼─────────────┼───────────┼───────────────────────────┼────────────┼─────────┼────────────────┤\n",
      "│         -1 │       20 │             158 │           0 │           │ *** WAITING FOR READS *** │            │         │                │\n",
      "╰────────────┴──────────┴─────────────────┴─────────────┴───────────┴───────────────────────────┴────────────┴─────────┴────────────────╯\n",
      "\n",
      "[DYNEX] FINISHED READ AFTER 0.25 SECONDS\n",
      "[DYNEX] SAMPLESET READY\n"
     ]
    },
    {
     "data": {
      "image/png": "[encoded data removed]",
      "text/plain": [
       "<Figure size 640x480 with 1 Axes>"
      ]
     },
     "metadata": {},
     "output_type": "display_data"
    },
    {
     "name": "stdout",
     "output_type": "stream",
     "text": [
      "{'b': [(0.0, 0.0), (1.0, 1.0)], 'r': [(2.0, 4.0)], 'g': [(3.0, 2.0)]}\n"
     ]
    }
   ],
   "source": [
    "cluster_points(scattered_points)"
   ]
  },
  {
   "cell_type": "code",
   "execution_count": null,
   "id": "8053b159-7735-4fe2-a3b1-01a68aea21ff",
   "metadata": {},
   "outputs": [],
   "source": []
  }
 ],
 "metadata": {
  "kernelspec": {
   "display_name": "Python 3 (ipykernel)",
   "language": "python",
   "name": "python3"
  },
  "language_info": {
   "codemirror_mode": {
    "name": "ipython",
    "version": 3
   },
   "file_extension": ".py",
   "mimetype": "text/x-python",
   "name": "python",
   "nbconvert_exporter": "python",
   "pygments_lexer": "ipython3",
   "version": "3.10.12"
  }
 },
 "nbformat": 4,
 "nbformat_minor": 5
}
